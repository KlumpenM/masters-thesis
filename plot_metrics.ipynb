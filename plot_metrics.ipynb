{
 "cells": [
  {
   "cell_type": "markdown",
   "id": "47702713",
   "metadata": {},
   "source": [
    "This is where we plot our experimental results."
   ]
  },
  {
   "cell_type": "code",
   "execution_count": 1,
   "id": "eeb63684",
   "metadata": {},
   "outputs": [],
   "source": [
    "import pandas as pd\n",
    "import matplotlib.pyplot as plt"
   ]
  },
  {
   "cell_type": "code",
   "execution_count": 7,
   "id": "fa7a9af4",
   "metadata": {},
   "outputs": [],
   "source": [
    "# Insert the path to the metrics data\n",
    "path_to_data = \"pfl/pfl_training_metrics/centralized_random\""
   ]
  },
  {
   "cell_type": "code",
   "execution_count": 8,
   "id": "e9cab074",
   "metadata": {},
   "outputs": [],
   "source": [
    "# Array of pandas DataFrames to hold the metrics\n",
    "metrics_dfs = []\n",
    "\n",
    "for i in range(5):\n",
    "    metrics = pd.read_csv(f'{path_to_data}/metrics_{i}.csv')\n",
    "    metrics_dfs.append(metrics.dropna(subset=['Central val | accuracy']))"
   ]
  },
  {
   "cell_type": "code",
   "execution_count": null,
   "id": "66e3ac11",
   "metadata": {},
   "outputs": [],
   "source": [
    "from dataset.cifar10 import load_and_preprocess"
   ]
  },
  {
   "cell_type": "code",
   "execution_count": 13,
   "id": "0b900271",
   "metadata": {},
   "outputs": [
    {
     "data": {
      "text/plain": [
       "0     0.00023\n",
       "1     0.00023\n",
       "2     0.00023\n",
       "3     0.00023\n",
       "4     0.00023\n",
       "5     0.00023\n",
       "6     0.00023\n",
       "7     0.00023\n",
       "8     0.00023\n",
       "9     0.00023\n",
       "10    0.00023\n",
       "11    0.00023\n",
       "12    0.00023\n",
       "13    0.00023\n",
       "14    0.00023\n",
       "15    0.00023\n",
       "16    0.00023\n",
       "17    0.00023\n",
       "18    0.00023\n",
       "19    0.00023\n",
       "20    0.00023\n",
       "21    0.00023\n",
       "22    0.00023\n",
       "23    0.00023\n",
       "24    0.00023\n",
       "25    0.00023\n",
       "26    0.00023\n",
       "27    0.00023\n",
       "28    0.00023\n",
       "29    0.00023\n",
       "30    0.00023\n",
       "31    0.00023\n",
       "32    0.00023\n",
       "33    0.00023\n",
       "34    0.00023\n",
       "35    0.00023\n",
       "36    0.00023\n",
       "37    0.00023\n",
       "38    0.00023\n",
       "39    0.00023\n",
       "40    0.00023\n",
       "41    0.00023\n",
       "42    0.00023\n",
       "43    0.00023\n",
       "44    0.00023\n",
       "45    0.00023\n",
       "46    0.00023\n",
       "47    0.00023\n",
       "48    0.00023\n",
       "49    0.00023\n",
       "Name: Central val | loss, dtype: float64"
      ]
     },
     "execution_count": 13,
     "metadata": {},
     "output_type": "execute_result"
    }
   ],
   "source": [
    "metrics_dfs[3]['Central val | loss']"
   ]
  },
  {
   "cell_type": "code",
   "execution_count": null,
   "id": "de9cb3fe",
   "metadata": {},
   "outputs": [],
   "source": [
    "pd.DataFrame(metrics_dfs[0]['Central val | accuracy'])"
   ]
  }
 ],
 "metadata": {
  "kernelspec": {
   "display_name": "masters",
   "language": "python",
   "name": "python3"
  },
  "language_info": {
   "codemirror_mode": {
    "name": "ipython",
    "version": 3
   },
   "file_extension": ".py",
   "mimetype": "text/x-python",
   "name": "python",
   "nbconvert_exporter": "python",
   "pygments_lexer": "ipython3",
   "version": "3.10.16"
  }
 },
 "nbformat": 4,
 "nbformat_minor": 5
}
