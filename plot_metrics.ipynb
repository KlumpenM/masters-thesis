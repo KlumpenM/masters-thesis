{
 "cells": [
  {
   "cell_type": "markdown",
   "id": "47702713",
   "metadata": {},
   "source": [
    "This is where we plot our experimental results."
   ]
  },
  {
   "cell_type": "code",
   "execution_count": null,
   "id": "eeb63684",
   "metadata": {},
   "outputs": [],
   "source": [
    "import pandas as pd\n",
    "import matplotlib.pyplot as plt"
   ]
  },
  {
   "cell_type": "code",
   "execution_count": null,
   "id": "fa7a9af4",
   "metadata": {},
   "outputs": [],
   "source": [
    "# Insert the path to the metrics data\n",
    "path_to_data = \"pfl/pfl_training_metrics/centralized_random\""
   ]
  },
  {
   "cell_type": "code",
   "execution_count": 14,
   "id": "e9cab074",
   "metadata": {},
   "outputs": [],
   "source": [
    "# List of pandas DataFrames to hold the metrics\n",
    "metrics_dfs = []\n",
    "\n",
    "for i in range(5):\n",
    "    metrics = pd.read_csv(f'{path_to_data}/metrics_{i}.csv')\n",
    "    metrics = metrics.dropna(subset=['Central val | accuracy']) # A DataFrame\n",
    "    metrics_dfs.append(metrics['Central val | accuracy'])       # Append DataFrame to the list\n",
    "\n",
    "accuracy_df = pd.concat(metrics_dfs, axis=1)"
   ]
  },
  {
   "cell_type": "code",
   "execution_count": null,
   "id": "c302b3c5",
   "metadata": {},
   "outputs": [],
   "source": [
    "mean_accuracy = accuracy_df.mean(axis=1)"
   ]
  }
 ],
 "metadata": {
  "kernelspec": {
   "display_name": "masters",
   "language": "python",
   "name": "python3"
  },
  "language_info": {
   "codemirror_mode": {
    "name": "ipython",
    "version": 3
   },
   "file_extension": ".py",
   "mimetype": "text/x-python",
   "name": "python",
   "nbconvert_exporter": "python",
   "pygments_lexer": "ipython3",
   "version": "3.10.16"
  }
 },
 "nbformat": 4,
 "nbformat_minor": 5
}
