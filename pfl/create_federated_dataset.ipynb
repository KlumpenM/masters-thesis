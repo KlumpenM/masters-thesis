{
 "cells": [
  {
   "cell_type": "markdown",
   "metadata": {},
   "source": [
    "### 1. Creating a `pfl` Dataset Object\n",
    "A `pfl.data.Dataset` object is the basic representation for a single user's dataset. Alternatively, this can also be used for building a central dataset for evaluation purpose (to be used with `pfl.callback.CentralEvaluationCallback`).   "
   ]
  },
  {
   "cell_type": "code",
   "execution_count": 1,
   "metadata": {},
   "outputs": [
    {
     "name": "stdout",
     "output_type": "stream",
     "text": [
      "Batch from `Dataset`: \n",
      "x shape=(5, 4), x=[[ 2.17891799 -1.50396836  1.44402983 -1.16450933]\n",
      " [ 1.51448643 -0.76676006  0.81590747 -0.99978861]\n",
      " [-2.59985284  3.50294917 -2.87456085  0.22199228]\n",
      " [ 1.45014797 -1.07376617  1.01013857 -0.72525922]\n",
      " [-0.89535718 -0.93248169  0.45172416  1.53806632]]\n",
      "y shape=(5,), y=[0 0 0 0 1]\n"
     ]
    }
   ],
   "source": [
    "import sklearn.datasets\n",
    "from pfl.data.dataset import Dataset\n",
    "\n",
    "# Create synthetic user data\n",
    "user_id = 'pfl-user-0'\n",
    "user_features, user_labels = sklearn.datasets.make_classification(n_samples=10, n_features=4)\n",
    "\n",
    "# Create a pfl Dataset object\n",
    "user_dataset = Dataset(raw_data=[user_features, user_labels], user_id=user_id)\n",
    "\n",
    "# Get a batch of the user dataset using Dataset.iter\n",
    "batch_x, batch_y = next(user_dataset.iter(batch_size=5))\n",
    "print(f\"Batch from `Dataset`: \\n\"\n",
    "      f\"x shape={batch_x.shape}, x={batch_x}\\n\"\n",
    "      f\"y shape={batch_y.shape}, y={batch_y}\")"
   ]
  },
  {
   "cell_type": "markdown",
   "metadata": {},
   "source": [
    "#### 1.1 Creating a PyTorch `pfl` Dataset Object\n",
    "The above example showed how to create the `pfl` dataset in numpy format. `pfl`  supports data that are processed in PyTorch or TensorFlow tensors. We will focus on PyTorch for the purpose of this tutorial. The TensorFlow dataset implementation can be found at [tensorflow.py](https://github.com/apple/pfl-research/blob/main/pfl/data/tensorflow.py)."
   ]
  },
  {
   "cell_type": "code",
   "execution_count": 2,
   "metadata": {},
   "outputs": [],
   "source": [
    "import multiprocessing\n",
    "import os\n",
    "os.environ['PFL_PYTORCH_DEVICE'] = 'cpu'\n",
    "\n",
    "import torch\n",
    "\n",
    "# Set multiprocessing start method to \"spawn\" instead of forkserver (which is the default)\n",
    "# That is because forkserver does not work on Windows, but spawn does.\n",
    "def init_multiprocessing():\n",
    "    try:\n",
    "        multiprocessing.set_start_method(\"spawn\", force=True)  # Forces \"spawn\"\n",
    "    except RuntimeError:\n",
    "        pass  # Ignore if it's already set\n",
    "\n",
    "init_multiprocessing()\n",
    "\n",
    "from pfl.internal.ops.selector import set_framework_module\n",
    "from pfl.internal.ops import pytorch_ops, numpy_ops\n",
    "from pfl.data.pytorch import PyTorchTensorDataset, PyTorchDataDataset\n",
    "\n",
    "# Tell pfl to use pytorch as the backend ML framework\n",
    "set_framework_module(pytorch_ops, old_module=numpy_ops)"
   ]
  },
  {
   "cell_type": "code",
   "execution_count": 3,
   "metadata": {},
   "outputs": [
    {
     "name": "stdout",
     "output_type": "stream",
     "text": [
      "Batch from `PyTorchTensorDataset`: \n",
      "x shape=torch.Size([5, 4]), x=tensor([[ 2.1789, -1.5040,  1.4440, -1.1645],\n",
      "        [ 1.5145, -0.7668,  0.8159, -0.9998],\n",
      "        [-2.5999,  3.5029, -2.8746,  0.2220],\n",
      "        [ 1.4501, -1.0738,  1.0101, -0.7253],\n",
      "        [-0.8954, -0.9325,  0.4517,  1.5381]], dtype=torch.float64)\n",
      "y shape=torch.Size([5]), y=tensor([0, 0, 0, 0, 1], dtype=torch.int32)\n"
     ]
    }
   ],
   "source": [
    "# Option 1: Create a PyTorch pfl Dataset object based on PyTorch tensors\n",
    "user_features, user_labels = torch.as_tensor(user_features), torch.as_tensor(user_labels)\n",
    "user_dataset = PyTorchTensorDataset(tensors=[user_features, user_labels], user_id=user_id)\n",
    "\n",
    "# Get a batch of the user dataset using Dataset.iter\n",
    "batch_x, batch_y = next(user_dataset.iter(batch_size=5))\n",
    "print(f\"Batch from `PyTorchTensorDataset`: \\n\"\n",
    "      f\"x shape={batch_x.shape}, x={batch_x}\\n\"\n",
    "      f\"y shape={batch_y.shape}, y={batch_y}\")"
   ]
  },
  {
   "cell_type": "code",
   "execution_count": 4,
   "metadata": {},
   "outputs": [
    {
     "name": "stdout",
     "output_type": "stream",
     "text": [
      "\n",
      "Batch from `PyTorchDataDataset`: \n",
      "x shape=torch.Size([5, 4]), x=tensor([[ 2.1789, -1.5040,  1.4440, -1.1645],\n",
      "        [ 1.5145, -0.7668,  0.8159, -0.9998],\n",
      "        [-2.5999,  3.5029, -2.8746,  0.2220],\n",
      "        [ 1.4501, -1.0738,  1.0101, -0.7253],\n",
      "        [-0.8954, -0.9325,  0.4517,  1.5381]], dtype=torch.float64)\n",
      "y shape=torch.Size([5]), y=tensor([0, 0, 0, 0, 1], dtype=torch.int32)\n"
     ]
    }
   ],
   "source": [
    "# Option 2: Create a PyTorch pfl Dataset object based on torch.utils.data.Dataset\n",
    "pytorch_data = torch.utils.data.TensorDataset(user_features, user_labels)\n",
    "user_dataset = PyTorchDataDataset(raw_data=pytorch_data, user_id=user_id)\n",
    "\n",
    "# Get a batch of the user dataset using Dataset.iter\n",
    "batch_x, batch_y = next(user_dataset.iter(batch_size=5))\n",
    "print(f\"\\nBatch from `PyTorchDataDataset`: \\n\"\n",
    "      f\"x shape={batch_x.shape}, x={batch_x}\\n\"\n",
    "      f\"y shape={batch_y.shape}, y={batch_y}\")"
   ]
  },
  {
   "cell_type": "markdown",
   "metadata": {},
   "source": [
    "### 2. Creating Federated Dataset with Real User Partition\n",
    "Previous section showed how to create a single user dataset.  This section covers how to create a federated dataset which is a joint of multiple users' dataset. If the original dataset already have an attribute for user identifier, such as [StackOverflow](https://www.kaggle.com/datasets/stackoverflow/stackoverflow), [LEAF](https://leaf.cmu.edu) ans [FLAIR](https://github.com/apple/ml-flair), we can use the existing user parition in the dataset for more accurate simulation of non-IID characteristics in the real federated learning setting. "
   ]
  },
  {
   "cell_type": "code",
   "execution_count": 5,
   "metadata": {},
   "outputs": [
    {
     "name": "stdout",
     "output_type": "stream",
     "text": [
      "FederatedDataset with real user partition: \n",
      "\tReal user with user_id=3 has size of 4.\n",
      "\tReal user with user_id=18 has size of 19.\n",
      "\tReal user with user_id=1 has size of 2.\n",
      "\tReal user with user_id=10 has size of 11.\n",
      "\tReal user with user_id=19 has size of 20.\n"
     ]
    }
   ],
   "source": [
    "from pfl.data import get_user_sampler, FederatedDataset\n",
    "\n",
    "# Create a dataset partitioned by user\n",
    "user_id_to_data = {}\n",
    "n_users = 20\n",
    "for i in range(n_users):\n",
    "    user_id_to_data[i] = sklearn.datasets.make_classification(n_samples=i+1, n_features=4)\n",
    "user_ids = list(user_id_to_data.keys())\n",
    "\n",
    "# Create user sampler to sample user uniformly at random\n",
    "user_sampler = get_user_sampler(sample_type=\"random\", user_ids=user_ids)\n",
    "federated_dataset = FederatedDataset.from_slices(data=user_id_to_data, user_sampler=user_sampler)\n",
    "\n",
    "# Iterate federated dataset to get artificial user dataset\n",
    "print(\"FederatedDataset with real user partition: \")\n",
    "for i in range(5):\n",
    "    user_dataset, seed = next(federated_dataset)\n",
    "    print(f\"\\tReal user with user_id={user_dataset.user_id} has size of {len(user_dataset)}.\")"
   ]
  },
  {
   "cell_type": "markdown",
   "metadata": {},
   "source": [
    "#### 2.1 Creating a `PyTorchFederatedDataset` Object\n",
    "In certain scenario, it might be beneficial to use `PyTorchFederatedDataset` for speeding up data loading. "
   ]
  },
  {
   "cell_type": "code",
   "execution_count": 6,
   "metadata": {},
   "outputs": [
    {
     "name": "stdout",
     "output_type": "stream",
     "text": [
      "PyTorchFederatedDataset with real user partition: \n",
      "\tReal user 0 has size of 1.\n",
      "\tReal user 1 has size of 3.\n",
      "\tReal user 2 has size of 1.\n",
      "\tReal user 3 has size of 15.\n",
      "\tReal user 4 has size of 19.\n"
     ]
    }
   ],
   "source": [
    "from pfl.data.pytorch import PyTorchFederatedDataset\n",
    "\n",
    "class PyTorchDataset(torch.utils.data.Dataset):\n",
    "    def __init__(self, user_id_to_data):\n",
    "        self._user_id_to_data = user_id_to_data\n",
    "\n",
    "    def __getitem__(self, i):\n",
    "        return [torch.as_tensor(x) for x in self._user_id_to_data[i]]\n",
    "\n",
    "    def __len__(self):\n",
    "        return len(self._user_id_to_data)\n",
    "\n",
    "\n",
    "pytorch_dataset = PyTorchDataset(user_id_to_data)\n",
    "federated_dataset = PyTorchFederatedDataset(dataset=pytorch_dataset, user_sampler=user_sampler)\n",
    "# Iterate federated dataset to get artificial user dataset\n",
    "print(\"PyTorchFederatedDataset with real user partition: \")\n",
    "for i in range(5):\n",
    "    user_dataset, seed = next(federated_dataset)\n",
    "    print(f\"\\tReal user {i} has size of {len(user_dataset)}.\")"
   ]
  },
  {
   "cell_type": "markdown",
   "metadata": {},
   "source": [
    "#### 2.2 Creating a `FederatedDataset` with `torch.utils.data.Dataset`\n",
    "If a user dataset is too large to fit into memory, `pfl` also supports `torch.utils.data.Dataset` for creating federated dataset.\n"
   ]
  },
  {
   "cell_type": "code",
   "execution_count": 7,
   "metadata": {},
   "outputs": [
    {
     "name": "stdout",
     "output_type": "stream",
     "text": [
      "FederatedDataset with torch.utils.data.Dataset and real user partition: \n",
      "\tReal user 0 has size of 12.\n",
      "\tReal user 1 has size of 17.\n",
      "\tReal user 2 has size of 14.\n",
      "\tReal user 3 has size of 12.\n",
      "\tReal user 4 has size of 1.\n"
     ]
    }
   ],
   "source": [
    "def make_dataset_fn(user_id):\n",
    "    # Create a `torch.utils.data.Dataset` for a single user\n",
    "    user_data = [torch.as_tensor(data) for data in user_id_to_data[user_id]]\n",
    "    pytorch_data = torch.utils.data.TensorDataset(*user_data)\n",
    "    return PyTorchDataDataset(raw_data=pytorch_data, user_id=user_id)\n",
    "\n",
    "federated_dataset = FederatedDataset(make_dataset_fn=make_dataset_fn, user_sampler=user_sampler)\n",
    "print(\"FederatedDataset with torch.utils.data.Dataset and real user partition: \")\n",
    "for i in range(5):\n",
    "    user_dataset, seed = next(federated_dataset)\n",
    "    print(f\"\\tReal user {i} has size of {len(user_dataset)}.\")"
   ]
  },
  {
   "cell_type": "markdown",
   "metadata": {},
   "source": [
    "### 3. Creating IID Artificial Federated Dataset\n",
    "The previous section assumes that a dataset has user IDs, which is often not the case for many existing ML datasets (e.g. CIFAR10). For those datasets, `pfl` supports converting them to Artificial Federated Dataset, meaning that there is no user ID associated with the dataset and the user partition will be artificial, which is useful for experimenting existing ML datasets. This section covers how to create an Artificial Federated Dataset assuming the data distribution between users is IID. "
   ]
  },
  {
   "cell_type": "code",
   "execution_count": 8,
   "metadata": {},
   "outputs": [
    {
     "name": "stdout",
     "output_type": "stream",
     "text": [
      "User dataset size is a constant: \n",
      "\tArtificial user 0 has size of 10\n",
      "\tArtificial user 1 has size of 10\n",
      "\tArtificial user 2 has size of 10\n",
      "\tArtificial user 3 has size of 10\n",
      "\tArtificial user 4 has size of 10\n"
     ]
    }
   ],
   "source": [
    "import numpy as np\n",
    "from pfl.data import ArtificialFederatedDataset, get_data_sampler\n",
    "\n",
    "\n",
    "n_samples = 1000\n",
    "features, labels = sklearn.datasets.make_classification(n_samples=n_samples, n_features=8, n_informative=4, n_classes=5)\n",
    "# Create data sampler to sample each artificial user dataset as a random subset of the original dataset\n",
    "data_sampler = get_data_sampler(sample_type=\"random\", max_bound=n_samples)\n",
    "\n",
    "# Option 1: Create an artificial federated dataset where each user dataset has constant size of 10\n",
    "sample_dataset_len = lambda: 10\n",
    "federated_dataset = ArtificialFederatedDataset.from_slices(\n",
    "    data=[features, labels], \n",
    "    data_sampler=data_sampler,\n",
    "    sample_dataset_len=sample_dataset_len,\n",
    ")\n",
    "# Iterate federated dataset to get artificial user dataset\n",
    "print(\"User dataset size is a constant: \")\n",
    "for i in range(5):\n",
    "    user_dataset, seed = next(federated_dataset)\n",
    "    print(f\"\\tArtificial user {i} has size of {len(user_dataset)}\")"
   ]
  },
  {
   "cell_type": "code",
   "execution_count": 9,
   "metadata": {},
   "outputs": [
    {
     "name": "stdout",
     "output_type": "stream",
     "text": [
      "\n",
      "User dataset size follows a Poisson distribution: \n",
      "\tArtificial user 0 has size of 7\n",
      "\tArtificial user 1 has size of 12\n",
      "\tArtificial user 2 has size of 12\n",
      "\tArtificial user 3 has size of 9\n",
      "\tArtificial user 4 has size of 15\n"
     ]
    }
   ],
   "source": [
    "# Option 2: Create an artificial federated dataset where each user dataset size follows Poisson distribution\n",
    "sample_dataset_len = lambda: max(1, np.random.poisson(10))\n",
    "federated_dataset = ArtificialFederatedDataset.from_slices(\n",
    "    data=[features, labels], \n",
    "    data_sampler=data_sampler,\n",
    "    sample_dataset_len=sample_dataset_len,\n",
    ")\n",
    "# Iterate federated dataset to get artificial user dataset\n",
    "print(\"\\nUser dataset size follows a Poisson distribution: \")\n",
    "for i in range(5):\n",
    "    user_dataset, seed = next(federated_dataset)\n",
    "    print(f\"\\tArtificial user {i} has size of {len(user_dataset)}\")"
   ]
  },
  {
   "cell_type": "markdown",
   "metadata": {},
   "source": [
    "### 4. Creating non-IID Artificial Federated Dataset\n",
    "As mentioned before, in the real federated setting, the federated data has many non-IID characteristics in its distribution. This section shows how to artificially simulate the case for a classification dataset where the user label distribution is non-IID and follows a Dirichlet distribution (a common assumption in federated learning research). "
   ]
  },
  {
   "cell_type": "markdown",
   "metadata": {},
   "source": [
    "#### 4.1 Sampling non-IID user dataset dynamically with `ArtificialFederatedDataset`\n",
    "The first option is to change the `data_sampler` in a way so that the user label distribution follows a Dirichlet distribution. The user dataset is sampled on the fly and there is no fixed user partition like as in [Section 3.2](#3.2-Partitioning-the-dataset-into-fixed-artificial-users-with-FederatedDataset) below."
   ]
  },
  {
   "cell_type": "code",
   "execution_count": 10,
   "metadata": {},
   "outputs": [
    {
     "name": "stdout",
     "output_type": "stream",
     "text": [
      "ArtificialFederatedDataset with Dirichlet label distribution: \n",
      "\tArtificial user 0 has size of 20 with unique labels=[3 4]\n",
      "\tArtificial user 1 has size of 20 with unique labels=[1]\n",
      "\tArtificial user 2 has size of 20 with unique labels=[1 2 4]\n",
      "\tArtificial user 3 has size of 20 with unique labels=[0 1 3 4]\n",
      "\tArtificial user 4 has size of 20 with unique labels=[1 2]\n"
     ]
    }
   ],
   "source": [
    "# Create data sampler to sample each artificial user has label distribution follows a Dirichlet distribution.\n",
    "dirichlet_alpha = [0.1] * 5\n",
    "data_sampler = get_data_sampler(sample_type=\"dirichlet\", labels=labels, alpha=dirichlet_alpha)\n",
    "\n",
    "# Create an artificial federated dataset with a Dirichlet data sampler\n",
    "sample_dataset_len = lambda: 20\n",
    "federated_dataset = ArtificialFederatedDataset.from_slices(\n",
    "    data=[features, labels], \n",
    "    data_sampler=data_sampler,\n",
    "    sample_dataset_len=sample_dataset_len,\n",
    ")\n",
    "# Iterate federated dataset to get artificial user dataset\n",
    "print(\"ArtificialFederatedDataset with Dirichlet label distribution: \")\n",
    "for i in range(5):\n",
    "    user_dataset, seed = next(federated_dataset)\n",
    "    print(f\"\\tArtificial user {i} has size of {len(user_dataset)} with unique labels={np.unique(user_dataset.raw_data[1])}\")"
   ]
  },
  {
   "cell_type": "markdown",
   "metadata": {},
   "source": [
    "#### 4.2 Partitioning the dataset into fixed artificial users with `FederatedDataset`\n",
    "An alternative to the above is to partition the original dataset into a fixed set of artificial users where each user's label distribution follows a Dirichlet distribution. The difference of this option is that the user partitions are constructed once using all data and remains the same throughout the training. "
   ]
  },
  {
   "cell_type": "code",
   "execution_count": 11,
   "metadata": {},
   "outputs": [
    {
     "name": "stdout",
     "output_type": "stream",
     "text": [
      "FederatedDataset with Dirichlet label distribution: \n",
      "\tArtificial user 0 has size of 20 with unique labels=[4]\n",
      "\tArtificial user 1 has size of 20 with unique labels=[3]\n",
      "\tArtificial user 2 has size of 20 with unique labels=[4]\n",
      "\tArtificial user 3 has size of 20 with unique labels=[0 1 3 4]\n",
      "\tArtificial user 4 has size of 20 with unique labels=[0 4]\n"
     ]
    }
   ],
   "source": [
    "# Create a federated dataset with fixed user partition\n",
    "# alpha=0.01 is a extreme case where each user likely has only data from 1 class\n",
    "federated_dataset = FederatedDataset.from_slices_with_dirichlet_class_distribution(\n",
    "    data=[features, labels],\n",
    "    labels=labels,\n",
    "    alpha=0.01,\n",
    "    user_dataset_len_sampler=sample_dataset_len)\n",
    "\n",
    "# Iterate federated dataset to get artificial user dataset\n",
    "print(\"FederatedDataset with Dirichlet label distribution: \")\n",
    "for i in range(5):\n",
    "    user_dataset, seed = next(federated_dataset)\n",
    "    print(f\"\\tArtificial user {i} has size of {len(user_dataset)} with unique labels={np.unique(user_dataset.raw_data[1])}\")"
   ]
  },
  {
   "cell_type": "markdown",
   "metadata": {},
   "source": [
    "# Coupling CIFAR10 data to Federated Dataset"
   ]
  },
  {
   "cell_type": "markdown",
   "metadata": {},
   "source": [
    "## Debugging print statements"
   ]
  },
  {
   "cell_type": "code",
   "execution_count": 12,
   "metadata": {},
   "outputs": [
    {
     "name": "stdout",
     "output_type": "stream",
     "text": [
      "0.21.0+cpu\n",
      "c:\\Users\\AVN\\anaconda3\\envs\\masters\\python.exe\n"
     ]
    }
   ],
   "source": [
    "import torchvision\n",
    "print(torchvision.__version__)\n",
    "import sys\n",
    "print(sys.executable)\n"
   ]
  },
  {
   "cell_type": "code",
   "execution_count": 13,
   "metadata": {},
   "outputs": [
    {
     "name": "stdout",
     "output_type": "stream",
     "text": [
      "Device: cpu\n"
     ]
    }
   ],
   "source": [
    "from pfl.data import ArtificialFederatedDataset, get_data_sampler\n",
    "import sys\n",
    "sys.path.append('..')\n",
    "from centralized import load_data\n",
    "train_set, test_set = load_data()"
   ]
  },
  {
   "cell_type": "code",
   "execution_count": 14,
   "metadata": {},
   "outputs": [],
   "source": [
    "# Access the 'dataset' attribute of train_set to get the proper count of total samples\n",
    "n_samples = len(train_set.dataset)\n",
    "\n",
    "# Just 'len(train_set)' would only give you the total number of batches"
   ]
  },
  {
   "cell_type": "code",
   "execution_count": 15,
   "metadata": {},
   "outputs": [
    {
     "name": "stdout",
     "output_type": "stream",
     "text": [
      "torch.Size([50000, 3, 32, 32]) torch.Size([50000])\n"
     ]
    }
   ],
   "source": [
    "# Split the training dataloader into features and labels\n",
    "all_features = []\n",
    "all_labels = []\n",
    "\n",
    "for features, labels in train_set:\n",
    "    all_features.append(features)\n",
    "    all_labels.append(labels)\n",
    "\n",
    "# Convert to tensors if needed\n",
    "all_features = torch.cat(all_features, dim=0)\n",
    "all_labels = torch.cat(all_labels, dim=0)\n",
    "\n",
    "print(all_features.shape, all_labels.shape)\n"
   ]
  },
  {
   "cell_type": "code",
   "execution_count": 16,
   "metadata": {},
   "outputs": [
    {
     "name": "stdout",
     "output_type": "stream",
     "text": [
      "User dataset size is a constant: \n",
      "\tArtificial user 0 has size of 10\n",
      "\tArtificial user 1 has size of 10\n",
      "\tArtificial user 2 has size of 10\n",
      "\tArtificial user 3 has size of 10\n",
      "\tArtificial user 4 has size of 10\n"
     ]
    }
   ],
   "source": [
    "# Create data sampler to sample each artificial user dataset as a random subset of the original dataset\n",
    "data_sampler = get_data_sampler(sample_type=\"random\", max_bound=n_samples)\n",
    "\n",
    "# Option 1: Create an artificial federated dataset where each user dataset has constant size of 10\n",
    "sample_dataset_len = lambda: 10\n",
    "federated_dataset = ArtificialFederatedDataset.from_slices(\n",
    "    data=[all_features, all_labels], \n",
    "    data_sampler=data_sampler,\n",
    "    sample_dataset_len=sample_dataset_len,\n",
    ")\n",
    "# Iterate federated dataset to get artificial user dataset\n",
    "print(\"User dataset size is a constant: \")\n",
    "for i in range(5):\n",
    "    user_dataset, seed = next(federated_dataset)\n",
    "    print(f\"\\tArtificial user {i} has size of {len(user_dataset)}\")"
   ]
  },
  {
   "cell_type": "code",
   "execution_count": 17,
   "metadata": {},
   "outputs": [
    {
     "name": "stdout",
     "output_type": "stream",
     "text": [
      "User: None\n",
      "unique user seed: 2100125248\n",
      "dataset length: 10\n",
      "first 10 images:\n"
     ]
    },
    {
     "data": {
      "image/png": "[encoded data removed]",
      "text/plain": [
       "<Figure size 3200x3200 with 10 Axes>"
      ]
     },
     "metadata": {},
     "output_type": "display_data"
    }
   ],
   "source": [
    "import itertools\n",
    "import matplotlib.pyplot as plt\n",
    "\n",
    "user, seed = next(federated_dataset)\n",
    "print('User: {}\\nunique user seed: {}\\ndataset length: {}\\nfirst 10 images:'.format(user.user_id, seed, len(user)))\n",
    "fig, axes = plt.subplots(1,min(len(user),10),figsize=(32,32))\n",
    "for ax, image, label in itertools.islice(zip(axes, *user.raw_data),10):\n",
    "    ax.set_title('labels={}'.format(label))\n",
    "    # Rescale color channels from [-1, 1] to [0, 1]\n",
    "    image = (image + 1) / 2\n",
    "    # Convert from (C, H, W) to (H, W, C) for Matplotlib\n",
    "    image = image.permute(1, 2, 0)\n",
    "    ax.imshow(((image.cpu().numpy()*255).astype(np.uint8)))"
   ]
  },
  {
   "cell_type": "markdown",
   "metadata": {},
   "source": [
    "# Creating a model for CIFAR10 dataset"
   ]
  },
  {
   "cell_type": "markdown",
   "metadata": {},
   "source": [
    "## Defining the model architecture"
   ]
  },
  {
   "cell_type": "code",
   "execution_count": 18,
   "metadata": {},
   "outputs": [],
   "source": [
    "import torch.nn as nn\n",
    "import torch.nn.functional as F\n",
    "from typing import Dict, Optional\n",
    "from pfl.metrics import Weighted\n",
    "\n",
    "\n",
    "class Net(nn.Module):\n",
    "    def __init__(self):\n",
    "        super().__init__()\n",
    "        self.conv1 = nn.Conv2d(3, 6, 5)\n",
    "        self.pool = nn.MaxPool2d(2, 2)\n",
    "        self.conv2 = nn.Conv2d(6, 16, 5)\n",
    "        self.fc1 = nn.Linear(16 * 5 * 5, 120)\n",
    "        self.fc2 = nn.Linear(120, 84)\n",
    "        self.fc3 = nn.Linear(84, 10)\n",
    "\n",
    "    def forward(self, x):\n",
    "        x = self.pool(F.relu(self.conv1(x)))\n",
    "        x = self.pool(F.relu(self.conv2(x)))\n",
    "        x = torch.flatten(x, 1) # flatten all dimensions except batch\n",
    "        x = F.relu(self.fc1(x))\n",
    "        x = F.relu(self.fc2(x))\n",
    "        x = self.fc3(x)\n",
    "        return x\n",
    "\n",
    "\n",
    "pytorch_model = Net()\n",
    "\n",
    "def loss(inputs: torch.Tensor, targets: torch.Tensor, eval: bool = False) -> torch.Tensor:\n",
    "    pytorch_model.eval() if eval else pytorch_model.train()\n",
    "    return loss_fn(pytorch_model(inputs.permute((0,3,1,2))), targets)\n",
    "\n",
    "\n",
    "@torch.no_grad()\n",
    "def metrics(inputs: torch.Tensor,\n",
    "             targets: torch.Tensor,\n",
    "             eval: bool = True) -> Dict[str, Weighted]:\n",
    "    pytorch_model.eval() if eval else pytorch_model.train()\n",
    "    logits = pytorch_model(inputs.permute((0,3,1,2)))\n",
    "    num_samples = len(inputs)\n",
    "    num_predictions = targets.numel()\n",
    "    correct = torch.sum(torch.eq((logits > 0.0).float(), targets))\n",
    "\n",
    "    loss = loss_fn(logits, targets).item()\n",
    "    return {\n",
    "        \"loss\": Weighted(loss, num_samples),\n",
    "        \"accuracy\": Weighted(correct, num_predictions)\n",
    "    }\n",
    "\n",
    "pytorch_model.loss = loss\n",
    "pytorch_model.metrics = metrics"
   ]
  },
  {
   "cell_type": "markdown",
   "metadata": {},
   "source": [
    "## Train with normal Machine Learning"
   ]
  },
  {
   "cell_type": "code",
   "execution_count": 25,
   "metadata": {},
   "outputs": [],
   "source": [
    "import torch.optim as optim\n",
    "\n",
    "criterion = nn.CrossEntropyLoss()\n",
    "optimizer = optim.SGD(pytorch_model.parameters(), lr=0.001, momentum=0.9)"
   ]
  },
  {
   "cell_type": "code",
   "execution_count": null,
   "metadata": {},
   "outputs": [
    {
     "name": "stdout",
     "output_type": "stream",
     "text": [
      "Epoch 0\n",
      "[1,  2000] loss: 1.797\n",
      "[1,  4000] loss: 1.729\n",
      "[1,  6000] loss: 1.677\n",
      "[1,  8000] loss: 1.630\n",
      "[1, 10000] loss: 1.640\n",
      "[1, 12000] loss: 1.625\n",
      "[1, 14000] loss: 1.623\n",
      "[1, 16000] loss: 1.650\n",
      "[1, 18000] loss: 1.562\n",
      "[1, 20000] loss: 1.595\n",
      "[1, 22000] loss: 1.580\n",
      "[1, 24000] loss: 1.513\n",
      "[1, 26000] loss: 1.530\n",
      "[1, 28000] loss: 1.527\n",
      "[1, 30000] loss: 1.537\n",
      "[1, 32000] loss: 1.560\n",
      "[1, 34000] loss: 1.591\n",
      "[1, 36000] loss: 1.534\n",
      "[1, 38000] loss: 1.541\n",
      "[1, 40000] loss: 1.524\n",
      "[1, 42000] loss: 1.503\n",
      "[1, 44000] loss: 1.544\n",
      "[1, 46000] loss: 1.508\n",
      "[1, 48000] loss: 1.478\n",
      "[1, 50000] loss: 1.461\n",
      "Epoch 1\n",
      "[2,  2000] loss: 1.469\n",
      "[2,  4000] loss: 1.490\n",
      "[2,  6000] loss: 1.500\n",
      "[2,  8000] loss: 1.485\n",
      "[2, 10000] loss: 1.453\n",
      "[2, 12000] loss: 1.467\n"
     ]
    }
   ],
   "source": [
    "from torch.utils.data import DataLoader\n",
    "\n",
    "for epoch in range(2):  # loop over the dataset multiple times\n",
    "\n",
    "    print(f'Epoch {epoch}')\n",
    "\n",
    "    running_loss = 0.0\n",
    "    for i, data in enumerate(DataLoader(train_set.dataset), 0):\n",
    "        # get the inputs; data is a list of [inputs, labels]\n",
    "        inputs, labels = data\n",
    "\n",
    "        # zero the parameter gradients\n",
    "        optimizer.zero_grad()\n",
    "\n",
    "        # forward + backward + optimize\n",
    "        outputs = pytorch_model(inputs)\n",
    "        loss = criterion(outputs, labels)\n",
    "        loss.backward()\n",
    "        optimizer.step()\n",
    "\n",
    "        # print statistics\n",
    "        running_loss += loss.item()\n",
    "        if i % 2000 == 1999:    # print every 2000 mini-batches\n",
    "            print(f'[{epoch + 1}, {i + 1:5d}] loss: {running_loss / 2000:.3f}')\n",
    "            running_loss = 0.0\n",
    "\n",
    "print('Finished Training')"
   ]
  },
  {
   "cell_type": "code",
   "execution_count": 34,
   "metadata": {},
   "outputs": [
    {
     "data": {
      "text/plain": [
       "50000"
      ]
     },
     "execution_count": 34,
     "metadata": {},
     "output_type": "execute_result"
    }
   ],
   "source": [
    "len(train_set.dataset)"
   ]
  },
  {
   "cell_type": "markdown",
   "metadata": {},
   "source": [
    "## Train with Federated Learning"
   ]
  },
  {
   "cell_type": "code",
   "execution_count": 19,
   "metadata": {},
   "outputs": [],
   "source": [
    "# Always import the `pfl` model first before initializing any `pfl` components to let `pfl` know which Deep Learning framework you will use.\n",
    "import multiprocessing\n",
    "# Set multiprocessing start method to \"spawn\" instead of forkserver (which is the default)\n",
    "# That is because forkserver does not work on Windows, but spawn does.\n",
    "def init_multiprocessing():\n",
    "    try:\n",
    "        multiprocessing.set_start_method(\"spawn\", force=True)  # Forces \"spawn\"\n",
    "    except RuntimeError:\n",
    "        pass  # Ignore if it's already set\n",
    "\n",
    "init_multiprocessing()\n",
    "\n",
    "from pfl.model.pytorch import PyTorchModel"
   ]
  },
  {
   "cell_type": "code",
   "execution_count": 20,
   "metadata": {},
   "outputs": [],
   "source": [
    "params = [p for p in pytorch_model.parameters() if p.requires_grad]\n",
    "\n",
    "model = PyTorchModel(pytorch_model, \n",
    "                     local_optimizer_create=torch.optim.SGD,\n",
    "                     central_optimizer=torch.optim.SGD(params, 1.0))\n"
   ]
  },
  {
   "cell_type": "code",
   "execution_count": 21,
   "metadata": {},
   "outputs": [],
   "source": [
    "from pfl.aggregate.simulate import SimulatedBackend\n",
    "\n",
    "cohort_size = 10\n",
    "central_num_iterations = 5\n",
    "\n",
    "# Instantiate simulated federated averaging\n",
    "simulated_backend = SimulatedBackend(\n",
    "    training_data=train_set,\n",
    "    val_data=None)"
   ]
  },
  {
   "cell_type": "code",
   "execution_count": 23,
   "metadata": {},
   "outputs": [
    {
     "ename": "RuntimeError",
     "evalue": "Given groups=1, weight of size [6, 3, 5, 5], expected input[20, 32, 3, 32] to have 3 channels, but got 32 channels instead",
     "output_type": "error",
     "traceback": [
      "\u001b[1;31m---------------------------------------------------------------------------\u001b[0m",
      "\u001b[1;31mRuntimeError\u001b[0m                              Traceback (most recent call last)",
      "Cell \u001b[1;32mIn[23], line 25\u001b[0m\n\u001b[0;32m     12\u001b[0m algorithm_params \u001b[38;5;241m=\u001b[39m NNAlgorithmParams(\n\u001b[0;32m     13\u001b[0m     central_num_iterations\u001b[38;5;241m=\u001b[39mcentral_num_iterations,\n\u001b[0;32m     14\u001b[0m     evaluation_frequency\u001b[38;5;241m=\u001b[39m\u001b[38;5;241m4\u001b[39m,\n\u001b[0;32m     15\u001b[0m     train_cohort_size\u001b[38;5;241m=\u001b[39mcohort_size,\n\u001b[0;32m     16\u001b[0m     val_cohort_size\u001b[38;5;241m=\u001b[39m\u001b[38;5;241m0\u001b[39m)\n\u001b[0;32m     18\u001b[0m callbacks \u001b[38;5;241m=\u001b[39m [\n\u001b[0;32m     19\u001b[0m     CentralEvaluationCallback(\n\u001b[0;32m     20\u001b[0m         Dataset(raw_data\u001b[38;5;241m=\u001b[39m[all_features, all_labels]),\n\u001b[0;32m     21\u001b[0m         model_eval_params\u001b[38;5;241m=\u001b[39mmodel_eval_params,\n\u001b[0;32m     22\u001b[0m         frequency\u001b[38;5;241m=\u001b[39m\u001b[38;5;241m4\u001b[39m),\n\u001b[0;32m     23\u001b[0m ]\n\u001b[1;32m---> 25\u001b[0m model \u001b[38;5;241m=\u001b[39m \u001b[43mFederatedAveraging\u001b[49m\u001b[43m(\u001b[49m\u001b[43m)\u001b[49m\u001b[38;5;241;43m.\u001b[39;49m\u001b[43mrun\u001b[49m\u001b[43m(\u001b[49m\n\u001b[0;32m     26\u001b[0m \u001b[43m    \u001b[49m\u001b[43malgorithm_params\u001b[49m\u001b[38;5;241;43m=\u001b[39;49m\u001b[43malgorithm_params\u001b[49m\u001b[43m,\u001b[49m\n\u001b[0;32m     27\u001b[0m \u001b[43m    \u001b[49m\u001b[43mbackend\u001b[49m\u001b[38;5;241;43m=\u001b[39;49m\u001b[43msimulated_backend\u001b[49m\u001b[43m,\u001b[49m\n\u001b[0;32m     28\u001b[0m \u001b[43m    \u001b[49m\u001b[43mmodel\u001b[49m\u001b[38;5;241;43m=\u001b[39;49m\u001b[43mmodel\u001b[49m\u001b[43m,\u001b[49m\n\u001b[0;32m     29\u001b[0m \u001b[43m    \u001b[49m\u001b[43mmodel_train_params\u001b[49m\u001b[38;5;241;43m=\u001b[39;49m\u001b[43mmodel_train_params\u001b[49m\u001b[43m,\u001b[49m\n\u001b[0;32m     30\u001b[0m \u001b[43m    \u001b[49m\u001b[43mmodel_eval_params\u001b[49m\u001b[38;5;241;43m=\u001b[39;49m\u001b[43mmodel_eval_params\u001b[49m\u001b[43m,\u001b[49m\n\u001b[0;32m     31\u001b[0m \u001b[43m    \u001b[49m\u001b[43mcallbacks\u001b[49m\u001b[38;5;241;43m=\u001b[39;49m\u001b[43mcallbacks\u001b[49m\u001b[43m)\u001b[49m\n",
      "File \u001b[1;32mc:\\Users\\AVN\\anaconda3\\envs\\masters\\lib\\site-packages\\pfl\\algorithm\\base.py:263\u001b[0m, in \u001b[0;36mFederatedAlgorithm.run\u001b[1;34m(self, algorithm_params, backend, model, model_train_params, model_eval_params, callbacks, send_metrics_to_platform)\u001b[0m\n\u001b[0;32m    261\u001b[0m on_train_metrics \u001b[38;5;241m=\u001b[39m Metrics()\n\u001b[0;32m    262\u001b[0m \u001b[38;5;28;01mfor\u001b[39;00m callback \u001b[38;5;129;01min\u001b[39;00m callbacks:\n\u001b[1;32m--> 263\u001b[0m     on_train_metrics \u001b[38;5;241m|\u001b[39m\u001b[38;5;241m=\u001b[39m \u001b[43mcallback\u001b[49m\u001b[38;5;241;43m.\u001b[39;49m\u001b[43mon_train_begin\u001b[49m\u001b[43m(\u001b[49m\u001b[43mmodel\u001b[49m\u001b[38;5;241;43m=\u001b[39;49m\u001b[43mmodel\u001b[49m\u001b[43m)\u001b[49m\n\u001b[0;32m    265\u001b[0m central_contexts \u001b[38;5;241m=\u001b[39m \u001b[38;5;28;01mNone\u001b[39;00m\n\u001b[0;32m    266\u001b[0m \u001b[38;5;28;01mwhile\u001b[39;00m \u001b[38;5;28;01mTrue\u001b[39;00m:\n\u001b[0;32m    267\u001b[0m     \u001b[38;5;66;03m# Step 1\u001b[39;00m\n\u001b[0;32m    268\u001b[0m     \u001b[38;5;66;03m# Get instructions from algorithm what to run next.\u001b[39;00m\n\u001b[0;32m    269\u001b[0m     \u001b[38;5;66;03m# Can be multiple queries to cohorts of devices.\u001b[39;00m\n",
      "File \u001b[1;32mc:\\Users\\AVN\\anaconda3\\envs\\masters\\lib\\site-packages\\pfl\\callback.py:229\u001b[0m, in \u001b[0;36mCentralEvaluationCallback.on_train_begin\u001b[1;34m(self, model)\u001b[0m\n\u001b[0;32m    227\u001b[0m \u001b[38;5;28;01mdef\u001b[39;00m\u001b[38;5;250m \u001b[39m\u001b[38;5;21mon_train_begin\u001b[39m(\u001b[38;5;28mself\u001b[39m, \u001b[38;5;241m*\u001b[39m, model: ModelType) \u001b[38;5;241m-\u001b[39m\u001b[38;5;241m>\u001b[39m Metrics:\n\u001b[0;32m    228\u001b[0m     \u001b[38;5;66;03m# On first central iteration, evaluation should be done before training\u001b[39;00m\n\u001b[1;32m--> 229\u001b[0m     \u001b[38;5;28;01mreturn\u001b[39;00m \u001b[38;5;28;43mself\u001b[39;49m\u001b[38;5;241;43m.\u001b[39;49m\u001b[43m_eval\u001b[49m\u001b[43m(\u001b[49m\u001b[43mmodel\u001b[49m\u001b[43m)\u001b[49m[\u001b[38;5;241m1\u001b[39m]\n",
      "File \u001b[1;32mc:\\Users\\AVN\\anaconda3\\envs\\masters\\lib\\site-packages\\pfl\\callback.py:220\u001b[0m, in \u001b[0;36mCentralEvaluationCallback._eval\u001b[1;34m(self, model)\u001b[0m\n\u001b[0;32m    217\u001b[0m     metrics \u001b[38;5;241m=\u001b[39m ops\u001b[38;5;241m.\u001b[39mall_reduce_metrics(metrics)\n\u001b[0;32m    218\u001b[0m \u001b[38;5;28;01melse\u001b[39;00m:\n\u001b[0;32m    219\u001b[0m     \u001b[38;5;66;03m# Evaluation on all data on each worker.\u001b[39;00m\n\u001b[1;32m--> 220\u001b[0m     metrics \u001b[38;5;241m=\u001b[39m \u001b[43mmodel\u001b[49m\u001b[38;5;241;43m.\u001b[39;49m\u001b[43mevaluate\u001b[49m\u001b[43m(\u001b[49m\u001b[38;5;28;43mself\u001b[39;49m\u001b[38;5;241;43m.\u001b[39;49m\u001b[43m_dataset\u001b[49m\u001b[43m,\u001b[49m\n\u001b[0;32m    221\u001b[0m \u001b[43m                             \u001b[49m\u001b[43mname_formatting_fn\u001b[49m\u001b[38;5;241;43m=\u001b[39;49m\u001b[38;5;28;43mself\u001b[39;49m\u001b[38;5;241;43m.\u001b[39;49m\u001b[43m_format_fn\u001b[49m\u001b[43m,\u001b[49m\n\u001b[0;32m    222\u001b[0m \u001b[43m                             \u001b[49m\u001b[43meval_params\u001b[49m\u001b[38;5;241;43m=\u001b[39;49m\u001b[38;5;28;43mself\u001b[39;49m\u001b[38;5;241;43m.\u001b[39;49m\u001b[43m_model_eval_params\u001b[49m\u001b[43m)\u001b[49m\n\u001b[0;32m    223\u001b[0m     metrics[datapoints_metric_name] \u001b[38;5;241m=\u001b[39m \u001b[38;5;28mlen\u001b[39m(\u001b[38;5;28mself\u001b[39m\u001b[38;5;241m.\u001b[39m_dataset)\n\u001b[0;32m    225\u001b[0m \u001b[38;5;28;01mreturn\u001b[39;00m (\u001b[38;5;28;01mFalse\u001b[39;00m, metrics)\n",
      "File \u001b[1;32mc:\\Users\\AVN\\anaconda3\\envs\\masters\\lib\\site-packages\\pfl\\model\\pytorch.py:399\u001b[0m, in \u001b[0;36mPyTorchModel.evaluate\u001b[1;34m(self, dataset, name_formatting_fn, eval_params)\u001b[0m\n\u001b[0;32m    394\u001b[0m         metrics_outputs \u001b[38;5;241m=\u001b[39m \u001b[38;5;28mself\u001b[39m\u001b[38;5;241m.\u001b[39m_model\u001b[38;5;241m.\u001b[39mmetrics(\u001b[38;5;241m*\u001b[39m\u001b[38;5;241m*\u001b[39m{\n\u001b[0;32m    395\u001b[0m             \u001b[38;5;241m*\u001b[39m\u001b[38;5;241m*\u001b[39mbatch,\n\u001b[0;32m    396\u001b[0m             \u001b[38;5;241m*\u001b[39m\u001b[38;5;241m*\u001b[39mdataset\u001b[38;5;241m.\u001b[39meval_kwargs\n\u001b[0;32m    397\u001b[0m         })\n\u001b[0;32m    398\u001b[0m     \u001b[38;5;28;01melse\u001b[39;00m:\n\u001b[1;32m--> 399\u001b[0m         metrics_outputs \u001b[38;5;241m=\u001b[39m \u001b[38;5;28mself\u001b[39m\u001b[38;5;241m.\u001b[39m_model\u001b[38;5;241m.\u001b[39mmetrics(\n\u001b[0;32m    400\u001b[0m             \u001b[38;5;241m*\u001b[39mbatch, \u001b[38;5;241m*\u001b[39m\u001b[38;5;241m*\u001b[39mdataset\u001b[38;5;241m.\u001b[39meval_kwargs)\n\u001b[0;32m    402\u001b[0m \u001b[38;5;28;01mfor\u001b[39;00m name, metric_value \u001b[38;5;129;01min\u001b[39;00m metrics_outputs\u001b[38;5;241m.\u001b[39mitems():\n\u001b[0;32m    403\u001b[0m     \u001b[38;5;28;01mif\u001b[39;00m \u001b[38;5;28misinstance\u001b[39m(metric_value, \u001b[38;5;28mtuple\u001b[39m):\n\u001b[0;32m    404\u001b[0m         \u001b[38;5;66;03m# Is tuple with metric postprocess function as 2nd\u001b[39;00m\n\u001b[0;32m    405\u001b[0m         \u001b[38;5;66;03m# argument.\u001b[39;00m\n",
      "File \u001b[1;32mc:\\Users\\AVN\\anaconda3\\envs\\masters\\lib\\site-packages\\torch\\utils\\_contextlib.py:116\u001b[0m, in \u001b[0;36mcontext_decorator.<locals>.decorate_context\u001b[1;34m(*args, **kwargs)\u001b[0m\n\u001b[0;32m    113\u001b[0m \u001b[38;5;129m@functools\u001b[39m\u001b[38;5;241m.\u001b[39mwraps(func)\n\u001b[0;32m    114\u001b[0m \u001b[38;5;28;01mdef\u001b[39;00m\u001b[38;5;250m \u001b[39m\u001b[38;5;21mdecorate_context\u001b[39m(\u001b[38;5;241m*\u001b[39margs, \u001b[38;5;241m*\u001b[39m\u001b[38;5;241m*\u001b[39mkwargs):\n\u001b[0;32m    115\u001b[0m     \u001b[38;5;28;01mwith\u001b[39;00m ctx_factory():\n\u001b[1;32m--> 116\u001b[0m         \u001b[38;5;28;01mreturn\u001b[39;00m func(\u001b[38;5;241m*\u001b[39margs, \u001b[38;5;241m*\u001b[39m\u001b[38;5;241m*\u001b[39mkwargs)\n",
      "Cell \u001b[1;32mIn[18], line 39\u001b[0m, in \u001b[0;36mmetrics\u001b[1;34m(inputs, targets, eval)\u001b[0m\n\u001b[0;32m     34\u001b[0m \u001b[38;5;129m@torch\u001b[39m\u001b[38;5;241m.\u001b[39mno_grad()\n\u001b[0;32m     35\u001b[0m \u001b[38;5;28;01mdef\u001b[39;00m\u001b[38;5;250m \u001b[39m\u001b[38;5;21mmetrics\u001b[39m(inputs: torch\u001b[38;5;241m.\u001b[39mTensor,\n\u001b[0;32m     36\u001b[0m              targets: torch\u001b[38;5;241m.\u001b[39mTensor,\n\u001b[0;32m     37\u001b[0m              \u001b[38;5;28meval\u001b[39m: \u001b[38;5;28mbool\u001b[39m \u001b[38;5;241m=\u001b[39m \u001b[38;5;28;01mTrue\u001b[39;00m) \u001b[38;5;241m-\u001b[39m\u001b[38;5;241m>\u001b[39m Dict[\u001b[38;5;28mstr\u001b[39m, Weighted]:\n\u001b[0;32m     38\u001b[0m     pytorch_model\u001b[38;5;241m.\u001b[39meval() \u001b[38;5;28;01mif\u001b[39;00m \u001b[38;5;28meval\u001b[39m \u001b[38;5;28;01melse\u001b[39;00m pytorch_model\u001b[38;5;241m.\u001b[39mtrain()\n\u001b[1;32m---> 39\u001b[0m     logits \u001b[38;5;241m=\u001b[39m \u001b[43mpytorch_model\u001b[49m\u001b[43m(\u001b[49m\u001b[43minputs\u001b[49m\u001b[38;5;241;43m.\u001b[39;49m\u001b[43mpermute\u001b[49m\u001b[43m(\u001b[49m\u001b[43m(\u001b[49m\u001b[38;5;241;43m0\u001b[39;49m\u001b[43m,\u001b[49m\u001b[38;5;241;43m3\u001b[39;49m\u001b[43m,\u001b[49m\u001b[38;5;241;43m1\u001b[39;49m\u001b[43m,\u001b[49m\u001b[38;5;241;43m2\u001b[39;49m\u001b[43m)\u001b[49m\u001b[43m)\u001b[49m\u001b[43m)\u001b[49m\n\u001b[0;32m     40\u001b[0m     num_samples \u001b[38;5;241m=\u001b[39m \u001b[38;5;28mlen\u001b[39m(inputs)\n\u001b[0;32m     41\u001b[0m     num_predictions \u001b[38;5;241m=\u001b[39m targets\u001b[38;5;241m.\u001b[39mnumel()\n",
      "File \u001b[1;32mc:\\Users\\AVN\\anaconda3\\envs\\masters\\lib\\site-packages\\torch\\nn\\modules\\module.py:1739\u001b[0m, in \u001b[0;36mModule._wrapped_call_impl\u001b[1;34m(self, *args, **kwargs)\u001b[0m\n\u001b[0;32m   1737\u001b[0m     \u001b[38;5;28;01mreturn\u001b[39;00m \u001b[38;5;28mself\u001b[39m\u001b[38;5;241m.\u001b[39m_compiled_call_impl(\u001b[38;5;241m*\u001b[39margs, \u001b[38;5;241m*\u001b[39m\u001b[38;5;241m*\u001b[39mkwargs)  \u001b[38;5;66;03m# type: ignore[misc]\u001b[39;00m\n\u001b[0;32m   1738\u001b[0m \u001b[38;5;28;01melse\u001b[39;00m:\n\u001b[1;32m-> 1739\u001b[0m     \u001b[38;5;28;01mreturn\u001b[39;00m \u001b[38;5;28mself\u001b[39m\u001b[38;5;241m.\u001b[39m_call_impl(\u001b[38;5;241m*\u001b[39margs, \u001b[38;5;241m*\u001b[39m\u001b[38;5;241m*\u001b[39mkwargs)\n",
      "File \u001b[1;32mc:\\Users\\AVN\\anaconda3\\envs\\masters\\lib\\site-packages\\torch\\nn\\modules\\module.py:1750\u001b[0m, in \u001b[0;36mModule._call_impl\u001b[1;34m(self, *args, **kwargs)\u001b[0m\n\u001b[0;32m   1745\u001b[0m \u001b[38;5;66;03m# If we don't have any hooks, we want to skip the rest of the logic in\u001b[39;00m\n\u001b[0;32m   1746\u001b[0m \u001b[38;5;66;03m# this function, and just call forward.\u001b[39;00m\n\u001b[0;32m   1747\u001b[0m \u001b[38;5;28;01mif\u001b[39;00m \u001b[38;5;129;01mnot\u001b[39;00m (\u001b[38;5;28mself\u001b[39m\u001b[38;5;241m.\u001b[39m_backward_hooks \u001b[38;5;129;01mor\u001b[39;00m \u001b[38;5;28mself\u001b[39m\u001b[38;5;241m.\u001b[39m_backward_pre_hooks \u001b[38;5;129;01mor\u001b[39;00m \u001b[38;5;28mself\u001b[39m\u001b[38;5;241m.\u001b[39m_forward_hooks \u001b[38;5;129;01mor\u001b[39;00m \u001b[38;5;28mself\u001b[39m\u001b[38;5;241m.\u001b[39m_forward_pre_hooks\n\u001b[0;32m   1748\u001b[0m         \u001b[38;5;129;01mor\u001b[39;00m _global_backward_pre_hooks \u001b[38;5;129;01mor\u001b[39;00m _global_backward_hooks\n\u001b[0;32m   1749\u001b[0m         \u001b[38;5;129;01mor\u001b[39;00m _global_forward_hooks \u001b[38;5;129;01mor\u001b[39;00m _global_forward_pre_hooks):\n\u001b[1;32m-> 1750\u001b[0m     \u001b[38;5;28;01mreturn\u001b[39;00m forward_call(\u001b[38;5;241m*\u001b[39margs, \u001b[38;5;241m*\u001b[39m\u001b[38;5;241m*\u001b[39mkwargs)\n\u001b[0;32m   1752\u001b[0m result \u001b[38;5;241m=\u001b[39m \u001b[38;5;28;01mNone\u001b[39;00m\n\u001b[0;32m   1753\u001b[0m called_always_called_hooks \u001b[38;5;241m=\u001b[39m \u001b[38;5;28mset\u001b[39m()\n",
      "Cell \u001b[1;32mIn[18], line 18\u001b[0m, in \u001b[0;36mNet.forward\u001b[1;34m(self, x)\u001b[0m\n\u001b[0;32m     17\u001b[0m \u001b[38;5;28;01mdef\u001b[39;00m\u001b[38;5;250m \u001b[39m\u001b[38;5;21mforward\u001b[39m(\u001b[38;5;28mself\u001b[39m, x):\n\u001b[1;32m---> 18\u001b[0m     x \u001b[38;5;241m=\u001b[39m \u001b[38;5;28mself\u001b[39m\u001b[38;5;241m.\u001b[39mpool(F\u001b[38;5;241m.\u001b[39mrelu(\u001b[38;5;28;43mself\u001b[39;49m\u001b[38;5;241;43m.\u001b[39;49m\u001b[43mconv1\u001b[49m\u001b[43m(\u001b[49m\u001b[43mx\u001b[49m\u001b[43m)\u001b[49m))\n\u001b[0;32m     19\u001b[0m     x \u001b[38;5;241m=\u001b[39m \u001b[38;5;28mself\u001b[39m\u001b[38;5;241m.\u001b[39mpool(F\u001b[38;5;241m.\u001b[39mrelu(\u001b[38;5;28mself\u001b[39m\u001b[38;5;241m.\u001b[39mconv2(x)))\n\u001b[0;32m     20\u001b[0m     x \u001b[38;5;241m=\u001b[39m torch\u001b[38;5;241m.\u001b[39mflatten(x, \u001b[38;5;241m1\u001b[39m) \u001b[38;5;66;03m# flatten all dimensions except batch\u001b[39;00m\n",
      "File \u001b[1;32mc:\\Users\\AVN\\anaconda3\\envs\\masters\\lib\\site-packages\\torch\\nn\\modules\\module.py:1739\u001b[0m, in \u001b[0;36mModule._wrapped_call_impl\u001b[1;34m(self, *args, **kwargs)\u001b[0m\n\u001b[0;32m   1737\u001b[0m     \u001b[38;5;28;01mreturn\u001b[39;00m \u001b[38;5;28mself\u001b[39m\u001b[38;5;241m.\u001b[39m_compiled_call_impl(\u001b[38;5;241m*\u001b[39margs, \u001b[38;5;241m*\u001b[39m\u001b[38;5;241m*\u001b[39mkwargs)  \u001b[38;5;66;03m# type: ignore[misc]\u001b[39;00m\n\u001b[0;32m   1738\u001b[0m \u001b[38;5;28;01melse\u001b[39;00m:\n\u001b[1;32m-> 1739\u001b[0m     \u001b[38;5;28;01mreturn\u001b[39;00m \u001b[38;5;28mself\u001b[39m\u001b[38;5;241m.\u001b[39m_call_impl(\u001b[38;5;241m*\u001b[39margs, \u001b[38;5;241m*\u001b[39m\u001b[38;5;241m*\u001b[39mkwargs)\n",
      "File \u001b[1;32mc:\\Users\\AVN\\anaconda3\\envs\\masters\\lib\\site-packages\\torch\\nn\\modules\\module.py:1750\u001b[0m, in \u001b[0;36mModule._call_impl\u001b[1;34m(self, *args, **kwargs)\u001b[0m\n\u001b[0;32m   1745\u001b[0m \u001b[38;5;66;03m# If we don't have any hooks, we want to skip the rest of the logic in\u001b[39;00m\n\u001b[0;32m   1746\u001b[0m \u001b[38;5;66;03m# this function, and just call forward.\u001b[39;00m\n\u001b[0;32m   1747\u001b[0m \u001b[38;5;28;01mif\u001b[39;00m \u001b[38;5;129;01mnot\u001b[39;00m (\u001b[38;5;28mself\u001b[39m\u001b[38;5;241m.\u001b[39m_backward_hooks \u001b[38;5;129;01mor\u001b[39;00m \u001b[38;5;28mself\u001b[39m\u001b[38;5;241m.\u001b[39m_backward_pre_hooks \u001b[38;5;129;01mor\u001b[39;00m \u001b[38;5;28mself\u001b[39m\u001b[38;5;241m.\u001b[39m_forward_hooks \u001b[38;5;129;01mor\u001b[39;00m \u001b[38;5;28mself\u001b[39m\u001b[38;5;241m.\u001b[39m_forward_pre_hooks\n\u001b[0;32m   1748\u001b[0m         \u001b[38;5;129;01mor\u001b[39;00m _global_backward_pre_hooks \u001b[38;5;129;01mor\u001b[39;00m _global_backward_hooks\n\u001b[0;32m   1749\u001b[0m         \u001b[38;5;129;01mor\u001b[39;00m _global_forward_hooks \u001b[38;5;129;01mor\u001b[39;00m _global_forward_pre_hooks):\n\u001b[1;32m-> 1750\u001b[0m     \u001b[38;5;28;01mreturn\u001b[39;00m forward_call(\u001b[38;5;241m*\u001b[39margs, \u001b[38;5;241m*\u001b[39m\u001b[38;5;241m*\u001b[39mkwargs)\n\u001b[0;32m   1752\u001b[0m result \u001b[38;5;241m=\u001b[39m \u001b[38;5;28;01mNone\u001b[39;00m\n\u001b[0;32m   1753\u001b[0m called_always_called_hooks \u001b[38;5;241m=\u001b[39m \u001b[38;5;28mset\u001b[39m()\n",
      "File \u001b[1;32mc:\\Users\\AVN\\anaconda3\\envs\\masters\\lib\\site-packages\\torch\\nn\\modules\\conv.py:554\u001b[0m, in \u001b[0;36mConv2d.forward\u001b[1;34m(self, input)\u001b[0m\n\u001b[0;32m    553\u001b[0m \u001b[38;5;28;01mdef\u001b[39;00m\u001b[38;5;250m \u001b[39m\u001b[38;5;21mforward\u001b[39m(\u001b[38;5;28mself\u001b[39m, \u001b[38;5;28minput\u001b[39m: Tensor) \u001b[38;5;241m-\u001b[39m\u001b[38;5;241m>\u001b[39m Tensor:\n\u001b[1;32m--> 554\u001b[0m     \u001b[38;5;28;01mreturn\u001b[39;00m \u001b[38;5;28;43mself\u001b[39;49m\u001b[38;5;241;43m.\u001b[39;49m\u001b[43m_conv_forward\u001b[49m\u001b[43m(\u001b[49m\u001b[38;5;28;43minput\u001b[39;49m\u001b[43m,\u001b[49m\u001b[43m \u001b[49m\u001b[38;5;28;43mself\u001b[39;49m\u001b[38;5;241;43m.\u001b[39;49m\u001b[43mweight\u001b[49m\u001b[43m,\u001b[49m\u001b[43m \u001b[49m\u001b[38;5;28;43mself\u001b[39;49m\u001b[38;5;241;43m.\u001b[39;49m\u001b[43mbias\u001b[49m\u001b[43m)\u001b[49m\n",
      "File \u001b[1;32mc:\\Users\\AVN\\anaconda3\\envs\\masters\\lib\\site-packages\\torch\\nn\\modules\\conv.py:549\u001b[0m, in \u001b[0;36mConv2d._conv_forward\u001b[1;34m(self, input, weight, bias)\u001b[0m\n\u001b[0;32m    537\u001b[0m \u001b[38;5;28;01mif\u001b[39;00m \u001b[38;5;28mself\u001b[39m\u001b[38;5;241m.\u001b[39mpadding_mode \u001b[38;5;241m!=\u001b[39m \u001b[38;5;124m\"\u001b[39m\u001b[38;5;124mzeros\u001b[39m\u001b[38;5;124m\"\u001b[39m:\n\u001b[0;32m    538\u001b[0m     \u001b[38;5;28;01mreturn\u001b[39;00m F\u001b[38;5;241m.\u001b[39mconv2d(\n\u001b[0;32m    539\u001b[0m         F\u001b[38;5;241m.\u001b[39mpad(\n\u001b[0;32m    540\u001b[0m             \u001b[38;5;28minput\u001b[39m, \u001b[38;5;28mself\u001b[39m\u001b[38;5;241m.\u001b[39m_reversed_padding_repeated_twice, mode\u001b[38;5;241m=\u001b[39m\u001b[38;5;28mself\u001b[39m\u001b[38;5;241m.\u001b[39mpadding_mode\n\u001b[1;32m   (...)\u001b[0m\n\u001b[0;32m    547\u001b[0m         \u001b[38;5;28mself\u001b[39m\u001b[38;5;241m.\u001b[39mgroups,\n\u001b[0;32m    548\u001b[0m     )\n\u001b[1;32m--> 549\u001b[0m \u001b[38;5;28;01mreturn\u001b[39;00m \u001b[43mF\u001b[49m\u001b[38;5;241;43m.\u001b[39;49m\u001b[43mconv2d\u001b[49m\u001b[43m(\u001b[49m\n\u001b[0;32m    550\u001b[0m \u001b[43m    \u001b[49m\u001b[38;5;28;43minput\u001b[39;49m\u001b[43m,\u001b[49m\u001b[43m \u001b[49m\u001b[43mweight\u001b[49m\u001b[43m,\u001b[49m\u001b[43m \u001b[49m\u001b[43mbias\u001b[49m\u001b[43m,\u001b[49m\u001b[43m \u001b[49m\u001b[38;5;28;43mself\u001b[39;49m\u001b[38;5;241;43m.\u001b[39;49m\u001b[43mstride\u001b[49m\u001b[43m,\u001b[49m\u001b[43m \u001b[49m\u001b[38;5;28;43mself\u001b[39;49m\u001b[38;5;241;43m.\u001b[39;49m\u001b[43mpadding\u001b[49m\u001b[43m,\u001b[49m\u001b[43m \u001b[49m\u001b[38;5;28;43mself\u001b[39;49m\u001b[38;5;241;43m.\u001b[39;49m\u001b[43mdilation\u001b[49m\u001b[43m,\u001b[49m\u001b[43m \u001b[49m\u001b[38;5;28;43mself\u001b[39;49m\u001b[38;5;241;43m.\u001b[39;49m\u001b[43mgroups\u001b[49m\n\u001b[0;32m    551\u001b[0m \u001b[43m\u001b[49m\u001b[43m)\u001b[49m\n",
      "\u001b[1;31mRuntimeError\u001b[0m: Given groups=1, weight of size [6, 3, 5, 5], expected input[20, 32, 3, 32] to have 3 channels, but got 32 channels instead"
     ]
    }
   ],
   "source": [
    "from pfl.algorithm import FederatedAveraging, NNAlgorithmParams\n",
    "from pfl.callback import CentralEvaluationCallback\n",
    "from pfl.hyperparam import NNTrainHyperParams, NNEvalHyperParams\n",
    "\n",
    "model_train_params = NNTrainHyperParams(\n",
    "    local_learning_rate=0.01,\n",
    "    local_num_epochs=2,\n",
    "    local_batch_size=16)\n",
    "\n",
    "model_eval_params = NNEvalHyperParams(local_batch_size=20)\n",
    "\n",
    "algorithm_params = NNAlgorithmParams(\n",
    "    central_num_iterations=central_num_iterations,\n",
    "    evaluation_frequency=4,\n",
    "    train_cohort_size=cohort_size,\n",
    "    val_cohort_size=0)\n",
    "\n",
    "callbacks = [\n",
    "    CentralEvaluationCallback(\n",
    "        Dataset(raw_data=[all_features, all_labels]),\n",
    "        model_eval_params=model_eval_params,\n",
    "        frequency=4),\n",
    "]\n",
    "\n",
    "model = FederatedAveraging().run(\n",
    "    algorithm_params=algorithm_params,\n",
    "    backend=simulated_backend,\n",
    "    model=model,\n",
    "    model_train_params=model_train_params,\n",
    "    model_eval_params=model_eval_params,\n",
    "    callbacks=callbacks)\n"
   ]
  }
 ],
 "metadata": {
  "kernelspec": {
   "display_name": "masters",
   "language": "python",
   "name": "python3"
  },
  "language_info": {
   "codemirror_mode": {
    "name": "ipython",
    "version": 3
   },
   "file_extension": ".py",
   "mimetype": "text/x-python",
   "name": "python",
   "nbconvert_exporter": "python",
   "pygments_lexer": "ipython3",
   "version": "3.10.16"
  }
 },
 "nbformat": 4,
 "nbformat_minor": 2
}
