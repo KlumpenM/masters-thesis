{
 "cells": [
  {
   "cell_type": "markdown",
   "metadata": {},
   "source": [
    "### 1. Creating a `pfl` Dataset Object\n",
    "A `pfl.data.Dataset` object is the basic representation for a single user's dataset. Alternatively, this can also be used for building a central dataset for evaluation purpose (to be used with `pfl.callback.CentralEvaluationCallback`).   "
   ]
  },
  {
   "cell_type": "code",
   "execution_count": 1,
   "metadata": {},
   "outputs": [
    {
     "name": "stdout",
     "output_type": "stream",
     "text": [
      "Batch from `Dataset`: \n",
      "x shape=(5, 4), x=[[-2.42578649  0.36091291  1.31437232 -1.71293635]\n",
      " [ 0.76625724 -1.1077005   0.97480493  1.44248524]\n",
      " [-1.14293831 -0.32780859  1.31568849 -0.35545332]\n",
      " [-0.16826458  0.74147808 -0.91099515 -0.76871939]\n",
      " [ 0.40668616 -0.87734018  0.9222357   1.02814293]]\n",
      "y shape=(5,), y=[1 1 1 0 1]\n"
     ]
    }
   ],
   "source": [
    "import sklearn.datasets\n",
    "from pfl.data.dataset import Dataset\n",
    "\n",
    "# Create synthetic user data\n",
    "user_id = 'pfl-user-0'\n",
    "user_features, user_labels = sklearn.datasets.make_classification(n_samples=10, n_features=4)\n",
    "\n",
    "# Create a pfl Dataset object\n",
    "user_dataset = Dataset(raw_data=[user_features, user_labels], user_id=user_id)\n",
    "\n",
    "# Get a batch of the user dataset using Dataset.iter\n",
    "batch_x, batch_y = next(user_dataset.iter(batch_size=5))\n",
    "print(f\"Batch from `Dataset`: \\n\"\n",
    "      f\"x shape={batch_x.shape}, x={batch_x}\\n\"\n",
    "      f\"y shape={batch_y.shape}, y={batch_y}\")"
   ]
  },
  {
   "cell_type": "markdown",
   "metadata": {},
   "source": [
    "#### 1.1 Creating a PyTorch `pfl` Dataset Object\n",
    "The above example showed how to create the `pfl` dataset in numpy format. `pfl`  supports data that are processed in PyTorch or TensorFlow tensors. We will focus on PyTorch for the purpose of this tutorial. The TensorFlow dataset implementation can be found at [tensorflow.py](https://github.com/apple/pfl-research/blob/main/pfl/data/tensorflow.py)."
   ]
  },
  {
   "cell_type": "code",
   "execution_count": 2,
   "metadata": {},
   "outputs": [],
   "source": [
    "import multiprocessing\n",
    "import os\n",
    "os.environ['PFL_PYTORCH_DEVICE'] = 'cpu'\n",
    "\n",
    "import torch\n",
    "\n",
    "# Set multiprocessing start method to \"spawn\" instead of forkserver (which is the default)\n",
    "# That is because forkserver does not work on Windows, but spawn does.\n",
    "def init_multiprocessing():\n",
    "    try:\n",
    "        multiprocessing.set_start_method(\"spawn\", force=True)  # Forces \"spawn\"\n",
    "    except RuntimeError:\n",
    "        pass  # Ignore if it's already set\n",
    "\n",
    "init_multiprocessing()\n",
    "\n",
    "from pfl.internal.ops.selector import set_framework_module\n",
    "from pfl.internal.ops import pytorch_ops, numpy_ops\n",
    "from pfl.data.pytorch import PyTorchTensorDataset, PyTorchDataDataset\n",
    "\n",
    "# Tell pfl to use pytorch as the backend ML framework\n",
    "set_framework_module(pytorch_ops, old_module=numpy_ops)"
   ]
  },
  {
   "cell_type": "code",
   "execution_count": 3,
   "metadata": {},
   "outputs": [
    {
     "name": "stdout",
     "output_type": "stream",
     "text": [
      "Batch from `PyTorchTensorDataset`: \n",
      "x shape=torch.Size([5, 4]), x=tensor([[-2.4258,  0.3609,  1.3144, -1.7129],\n",
      "        [ 0.7663, -1.1077,  0.9748,  1.4425],\n",
      "        [-1.1429, -0.3278,  1.3157, -0.3555],\n",
      "        [-0.1683,  0.7415, -0.9110, -0.7687],\n",
      "        [ 0.4067, -0.8773,  0.9222,  1.0281]], dtype=torch.float64)\n",
      "y shape=torch.Size([5]), y=tensor([1, 1, 1, 0, 1], dtype=torch.int32)\n"
     ]
    }
   ],
   "source": [
    "# Option 1: Create a PyTorch pfl Dataset object based on PyTorch tensors\n",
    "user_features, user_labels = torch.as_tensor(user_features), torch.as_tensor(user_labels)\n",
    "user_dataset = PyTorchTensorDataset(tensors=[user_features, user_labels], user_id=user_id)\n",
    "\n",
    "# Get a batch of the user dataset using Dataset.iter\n",
    "batch_x, batch_y = next(user_dataset.iter(batch_size=5))\n",
    "print(f\"Batch from `PyTorchTensorDataset`: \\n\"\n",
    "      f\"x shape={batch_x.shape}, x={batch_x}\\n\"\n",
    "      f\"y shape={batch_y.shape}, y={batch_y}\")"
   ]
  },
  {
   "cell_type": "code",
   "execution_count": 4,
   "metadata": {},
   "outputs": [
    {
     "name": "stdout",
     "output_type": "stream",
     "text": [
      "\n",
      "Batch from `PyTorchDataDataset`: \n",
      "x shape=torch.Size([5, 4]), x=tensor([[-2.4258,  0.3609,  1.3144, -1.7129],\n",
      "        [ 0.7663, -1.1077,  0.9748,  1.4425],\n",
      "        [-1.1429, -0.3278,  1.3157, -0.3555],\n",
      "        [-0.1683,  0.7415, -0.9110, -0.7687],\n",
      "        [ 0.4067, -0.8773,  0.9222,  1.0281]], dtype=torch.float64)\n",
      "y shape=torch.Size([5]), y=tensor([1, 1, 1, 0, 1], dtype=torch.int32)\n"
     ]
    }
   ],
   "source": [
    "# Option 2: Create a PyTorch pfl Dataset object based on torch.utils.data.Dataset\n",
    "pytorch_data = torch.utils.data.TensorDataset(user_features, user_labels)\n",
    "user_dataset = PyTorchDataDataset(raw_data=pytorch_data, user_id=user_id)\n",
    "\n",
    "# Get a batch of the user dataset using Dataset.iter\n",
    "batch_x, batch_y = next(user_dataset.iter(batch_size=5))\n",
    "print(f\"\\nBatch from `PyTorchDataDataset`: \\n\"\n",
    "      f\"x shape={batch_x.shape}, x={batch_x}\\n\"\n",
    "      f\"y shape={batch_y.shape}, y={batch_y}\")"
   ]
  },
  {
   "cell_type": "markdown",
   "metadata": {},
   "source": [
    "### 2. Creating Federated Dataset with Real User Partition\n",
    "Previous section showed how to create a single user dataset.  This section covers how to create a federated dataset which is a joint of multiple users' dataset. If the original dataset already have an attribute for user identifier, such as [StackOverflow](https://www.kaggle.com/datasets/stackoverflow/stackoverflow), [LEAF](https://leaf.cmu.edu) ans [FLAIR](https://github.com/apple/ml-flair), we can use the existing user parition in the dataset for more accurate simulation of non-IID characteristics in the real federated learning setting. "
   ]
  },
  {
   "cell_type": "code",
   "execution_count": 5,
   "metadata": {},
   "outputs": [
    {
     "name": "stdout",
     "output_type": "stream",
     "text": [
      "FederatedDataset with real user partition: \n",
      "\tReal user with user_id=18 has size of 19.\n",
      "\tReal user with user_id=5 has size of 6.\n",
      "\tReal user with user_id=1 has size of 2.\n",
      "\tReal user with user_id=3 has size of 4.\n",
      "\tReal user with user_id=5 has size of 6.\n"
     ]
    }
   ],
   "source": [
    "from pfl.data import get_user_sampler, FederatedDataset\n",
    "\n",
    "# Create a dataset partitioned by user\n",
    "user_id_to_data = {}\n",
    "n_users = 20\n",
    "for i in range(n_users):\n",
    "    user_id_to_data[i] = sklearn.datasets.make_classification(n_samples=i+1, n_features=4)\n",
    "user_ids = list(user_id_to_data.keys())\n",
    "\n",
    "# Create user sampler to sample user uniformly at random\n",
    "user_sampler = get_user_sampler(sample_type=\"random\", user_ids=user_ids)\n",
    "federated_dataset = FederatedDataset.from_slices(data=user_id_to_data, user_sampler=user_sampler)\n",
    "\n",
    "# Iterate federated dataset to get artificial user dataset\n",
    "print(\"FederatedDataset with real user partition: \")\n",
    "for i in range(5):\n",
    "    user_dataset, seed = next(federated_dataset)\n",
    "    print(f\"\\tReal user with user_id={user_dataset.user_id} has size of {len(user_dataset)}.\")"
   ]
  },
  {
   "cell_type": "markdown",
   "metadata": {},
   "source": [
    "#### 2.1 Creating a `PyTorchFederatedDataset` Object\n",
    "In certain scenario, it might be beneficial to use `PyTorchFederatedDataset` for speeding up data loading. "
   ]
  },
  {
   "cell_type": "code",
   "execution_count": 6,
   "metadata": {},
   "outputs": [
    {
     "name": "stdout",
     "output_type": "stream",
     "text": [
      "PyTorchFederatedDataset with real user partition: \n",
      "\tReal user 0 has size of 6.\n",
      "\tReal user 1 has size of 15.\n",
      "\tReal user 2 has size of 4.\n",
      "\tReal user 3 has size of 16.\n",
      "\tReal user 4 has size of 1.\n"
     ]
    }
   ],
   "source": [
    "from pfl.data.pytorch import PyTorchFederatedDataset\n",
    "\n",
    "class PyTorchDataset(torch.utils.data.Dataset):\n",
    "    def __init__(self, user_id_to_data):\n",
    "        self._user_id_to_data = user_id_to_data\n",
    "\n",
    "    def __getitem__(self, i):\n",
    "        return [torch.as_tensor(x) for x in self._user_id_to_data[i]]\n",
    "\n",
    "    def __len__(self):\n",
    "        return len(self._user_id_to_data)\n",
    "\n",
    "\n",
    "pytorch_dataset = PyTorchDataset(user_id_to_data)\n",
    "federated_dataset = PyTorchFederatedDataset(dataset=pytorch_dataset, user_sampler=user_sampler)\n",
    "# Iterate federated dataset to get artificial user dataset\n",
    "print(\"PyTorchFederatedDataset with real user partition: \")\n",
    "for i in range(5):\n",
    "    user_dataset, seed = next(federated_dataset)\n",
    "    print(f\"\\tReal user {i} has size of {len(user_dataset)}.\")"
   ]
  },
  {
   "cell_type": "markdown",
   "metadata": {},
   "source": [
    "#### 2.2 Creating a `FederatedDataset` with `torch.utils.data.Dataset`\n",
    "If a user dataset is too large to fit into memory, `pfl` also supports `torch.utils.data.Dataset` for creating federated dataset.\n"
   ]
  },
  {
   "cell_type": "code",
   "execution_count": 7,
   "metadata": {},
   "outputs": [
    {
     "name": "stdout",
     "output_type": "stream",
     "text": [
      "FederatedDataset with torch.utils.data.Dataset and real user partition: \n",
      "\tReal user 0 has size of 19.\n",
      "\tReal user 1 has size of 19.\n",
      "\tReal user 2 has size of 9.\n",
      "\tReal user 3 has size of 15.\n",
      "\tReal user 4 has size of 6.\n"
     ]
    }
   ],
   "source": [
    "def make_dataset_fn(user_id):\n",
    "    # Create a `torch.utils.data.Dataset` for a single user\n",
    "    user_data = [torch.as_tensor(data) for data in user_id_to_data[user_id]]\n",
    "    pytorch_data = torch.utils.data.TensorDataset(*user_data)\n",
    "    return PyTorchDataDataset(raw_data=pytorch_data, user_id=user_id)\n",
    "\n",
    "federated_dataset = FederatedDataset(make_dataset_fn=make_dataset_fn, user_sampler=user_sampler)\n",
    "print(\"FederatedDataset with torch.utils.data.Dataset and real user partition: \")\n",
    "for i in range(5):\n",
    "    user_dataset, seed = next(federated_dataset)\n",
    "    print(f\"\\tReal user {i} has size of {len(user_dataset)}.\")"
   ]
  },
  {
   "cell_type": "markdown",
   "metadata": {},
   "source": [
    "### 3. Creating IID Artificial Federated Dataset\n",
    "The previous section assumes that a dataset has user IDs, which is often not the case for many existing ML datasets (e.g. CIFAR10). For those datasets, `pfl` supports converting them to Artificial Federated Dataset, meaning that there is no user ID associated with the dataset and the user partition will be artificial, which is useful for experimenting existing ML datasets. This section covers how to create an Artificial Federated Dataset assuming the data distribution between users is IID. "
   ]
  },
  {
   "cell_type": "code",
   "execution_count": 8,
   "metadata": {},
   "outputs": [
    {
     "name": "stdout",
     "output_type": "stream",
     "text": [
      "User dataset size is a constant: \n",
      "\tArtificial user 0 has size of 10\n",
      "\tArtificial user 1 has size of 10\n",
      "\tArtificial user 2 has size of 10\n",
      "\tArtificial user 3 has size of 10\n",
      "\tArtificial user 4 has size of 10\n"
     ]
    }
   ],
   "source": [
    "import numpy as np\n",
    "from pfl.data import ArtificialFederatedDataset, get_data_sampler\n",
    "\n",
    "\n",
    "n_samples = 1000\n",
    "features, labels = sklearn.datasets.make_classification(n_samples=n_samples, n_features=8, n_informative=4, n_classes=5)\n",
    "# Create data sampler to sample each artificial user dataset as a random subset of the original dataset\n",
    "data_sampler = get_data_sampler(sample_type=\"random\", max_bound=n_samples)\n",
    "\n",
    "# Option 1: Create an artificial federated dataset where each user dataset has constant size of 10\n",
    "sample_dataset_len = lambda: 10\n",
    "federated_dataset = ArtificialFederatedDataset.from_slices(\n",
    "    data=[features, labels], \n",
    "    data_sampler=data_sampler,\n",
    "    sample_dataset_len=sample_dataset_len,\n",
    ")\n",
    "# Iterate federated dataset to get artificial user dataset\n",
    "print(\"User dataset size is a constant: \")\n",
    "for i in range(5):\n",
    "    user_dataset, seed = next(federated_dataset)\n",
    "    print(f\"\\tArtificial user {i} has size of {len(user_dataset)}\")"
   ]
  },
  {
   "cell_type": "code",
   "execution_count": 9,
   "metadata": {},
   "outputs": [
    {
     "name": "stdout",
     "output_type": "stream",
     "text": [
      "\n",
      "User dataset size follows a Poisson distribution: \n",
      "\tArtificial user 0 has size of 7\n",
      "\tArtificial user 1 has size of 15\n",
      "\tArtificial user 2 has size of 15\n",
      "\tArtificial user 3 has size of 13\n",
      "\tArtificial user 4 has size of 10\n"
     ]
    }
   ],
   "source": [
    "# Option 2: Create an artificial federated dataset where each user dataset size follows Poisson distribution\n",
    "sample_dataset_len = lambda: max(1, np.random.poisson(10))\n",
    "federated_dataset = ArtificialFederatedDataset.from_slices(\n",
    "    data=[features, labels], \n",
    "    data_sampler=data_sampler,\n",
    "    sample_dataset_len=sample_dataset_len,\n",
    ")\n",
    "# Iterate federated dataset to get artificial user dataset\n",
    "print(\"\\nUser dataset size follows a Poisson distribution: \")\n",
    "for i in range(5):\n",
    "    user_dataset, seed = next(federated_dataset)\n",
    "    print(f\"\\tArtificial user {i} has size of {len(user_dataset)}\")"
   ]
  },
  {
   "cell_type": "markdown",
   "metadata": {},
   "source": [
    "### 4. Creating non-IID Artificial Federated Dataset\n",
    "As mentioned before, in the real federated setting, the federated data has many non-IID characteristics in its distribution. This section shows how to artificially simulate the case for a classification dataset where the user label distribution is non-IID and follows a Dirichlet distribution (a common assumption in federated learning research). "
   ]
  },
  {
   "cell_type": "markdown",
   "metadata": {},
   "source": [
    "#### 4.1 Sampling non-IID user dataset dynamically with `ArtificialFederatedDataset`\n",
    "The first option is to change the `data_sampler` in a way so that the user label distribution follows a Dirichlet distribution. The user dataset is sampled on the fly and there is no fixed user partition like as in [Section 3.2](#3.2-Partitioning-the-dataset-into-fixed-artificial-users-with-FederatedDataset) below."
   ]
  },
  {
   "cell_type": "code",
   "execution_count": 10,
   "metadata": {},
   "outputs": [
    {
     "name": "stdout",
     "output_type": "stream",
     "text": [
      "ArtificialFederatedDataset with Dirichlet label distribution: \n",
      "\tArtificial user 0 has size of 20 with unique labels=[4]\n",
      "\tArtificial user 1 has size of 20 with unique labels=[0]\n",
      "\tArtificial user 2 has size of 20 with unique labels=[2 4]\n",
      "\tArtificial user 3 has size of 20 with unique labels=[1 2]\n",
      "\tArtificial user 4 has size of 20 with unique labels=[3]\n"
     ]
    }
   ],
   "source": [
    "# Create data sampler to sample each artificial user has label distribution follows a Dirichlet distribution.\n",
    "dirichlet_alpha = [0.1] * 5\n",
    "data_sampler = get_data_sampler(sample_type=\"dirichlet\", labels=labels, alpha=dirichlet_alpha)\n",
    "\n",
    "# Create an artificial federated dataset with a Dirichlet data sampler\n",
    "sample_dataset_len = lambda: 20\n",
    "federated_dataset = ArtificialFederatedDataset.from_slices(\n",
    "    data=[features, labels], \n",
    "    data_sampler=data_sampler,\n",
    "    sample_dataset_len=sample_dataset_len,\n",
    ")\n",
    "# Iterate federated dataset to get artificial user dataset\n",
    "print(\"ArtificialFederatedDataset with Dirichlet label distribution: \")\n",
    "for i in range(5):\n",
    "    user_dataset, seed = next(federated_dataset)\n",
    "    print(f\"\\tArtificial user {i} has size of {len(user_dataset)} with unique labels={np.unique(user_dataset.raw_data[1])}\")"
   ]
  },
  {
   "cell_type": "markdown",
   "metadata": {},
   "source": [
    "#### 4.2 Partitioning the dataset into fixed artificial users with `FederatedDataset`\n",
    "An alternative to the above is to partition the original dataset into a fixed set of artificial users where each user's label distribution follows a Dirichlet distribution. The difference of this option is that the user partitions are constructed once using all data and remains the same throughout the training. "
   ]
  },
  {
   "cell_type": "code",
   "execution_count": 11,
   "metadata": {},
   "outputs": [
    {
     "name": "stdout",
     "output_type": "stream",
     "text": [
      "FederatedDataset with Dirichlet label distribution: \n",
      "\tArtificial user 0 has size of 20 with unique labels=[2]\n",
      "\tArtificial user 1 has size of 20 with unique labels=[0]\n",
      "\tArtificial user 2 has size of 20 with unique labels=[4]\n",
      "\tArtificial user 3 has size of 20 with unique labels=[1]\n",
      "\tArtificial user 4 has size of 20 with unique labels=[4]\n"
     ]
    }
   ],
   "source": [
    "# Create a federated dataset with fixed user partition\n",
    "# alpha=0.01 is a extreme case where each user likely has only data from 1 class\n",
    "federated_dataset = FederatedDataset.from_slices_with_dirichlet_class_distribution(\n",
    "    data=[features, labels],\n",
    "    labels=labels,\n",
    "    alpha=0.01,\n",
    "    user_dataset_len_sampler=sample_dataset_len)\n",
    "\n",
    "# Iterate federated dataset to get artificial user dataset\n",
    "print(\"FederatedDataset with Dirichlet label distribution: \")\n",
    "for i in range(5):\n",
    "    user_dataset, seed = next(federated_dataset)\n",
    "    print(f\"\\tArtificial user {i} has size of {len(user_dataset)} with unique labels={np.unique(user_dataset.raw_data[1])}\")"
   ]
  },
  {
   "cell_type": "markdown",
   "metadata": {},
   "source": [
    "# Coupling CIFAR10 data to Federated Dataset"
   ]
  },
  {
   "cell_type": "markdown",
   "metadata": {},
   "source": [
    "## Debugging print statements"
   ]
  },
  {
   "cell_type": "code",
   "execution_count": 12,
   "metadata": {},
   "outputs": [
    {
     "name": "stdout",
     "output_type": "stream",
     "text": [
      "0.21.0+cpu\n",
      "c:\\Users\\AVN\\anaconda3\\envs\\masters\\python.exe\n"
     ]
    }
   ],
   "source": [
    "import torchvision\n",
    "print(torchvision.__version__)\n",
    "import sys\n",
    "print(sys.executable)\n"
   ]
  },
  {
   "cell_type": "code",
   "execution_count": 13,
   "metadata": {},
   "outputs": [
    {
     "name": "stdout",
     "output_type": "stream",
     "text": [
      "Device: cpu\n"
     ]
    }
   ],
   "source": [
    "from pfl.data import ArtificialFederatedDataset, get_data_sampler\n",
    "import sys\n",
    "sys.path.append('../flower/flower_normal')\n",
    "from centralized import load_data\n",
    "train_set, test_set = load_data()"
   ]
  },
  {
   "cell_type": "code",
   "execution_count": 14,
   "metadata": {},
   "outputs": [],
   "source": [
    "# Access the 'dataset' attribute of train_set to get the proper count of total samples\n",
    "n_samples = len(train_set.dataset)\n",
    "\n",
    "# Just 'len(train_set)' would only give you the total number of batches"
   ]
  },
  {
   "cell_type": "code",
   "execution_count": 15,
   "metadata": {},
   "outputs": [
    {
     "name": "stdout",
     "output_type": "stream",
     "text": [
      "torch.Size([50000, 3, 32, 32]) torch.Size([50000])\n"
     ]
    }
   ],
   "source": [
    "# Split the training dataloader into features and labels\n",
    "all_features = []\n",
    "all_labels = []\n",
    "\n",
    "for features, labels in train_set:\n",
    "    all_features.append(features)\n",
    "    all_labels.append(labels)\n",
    "\n",
    "# Convert to tensors if needed\n",
    "all_features = torch.cat(all_features, dim=0)\n",
    "all_labels = torch.cat(all_labels, dim=0)\n",
    "\n",
    "print(all_features.shape, all_labels.shape)\n"
   ]
  },
  {
   "cell_type": "code",
   "execution_count": 16,
   "metadata": {},
   "outputs": [
    {
     "name": "stdout",
     "output_type": "stream",
     "text": [
      "User dataset size is a constant: \n",
      "\tArtificial user 0 has size of 10\n",
      "\tArtificial user 1 has size of 10\n",
      "\tArtificial user 2 has size of 10\n",
      "\tArtificial user 3 has size of 10\n",
      "\tArtificial user 4 has size of 10\n"
     ]
    }
   ],
   "source": [
    "# Create data sampler to sample each artificial user dataset as a random subset of the original dataset\n",
    "data_sampler = get_data_sampler(sample_type=\"random\", max_bound=n_samples)\n",
    "\n",
    "# Option 1: Create an artificial federated dataset where each user dataset has constant size of 10\n",
    "sample_dataset_len = lambda: 10\n",
    "federated_dataset = ArtificialFederatedDataset.from_slices(\n",
    "    data=[all_features, all_labels], \n",
    "    data_sampler=data_sampler,\n",
    "    sample_dataset_len=sample_dataset_len,\n",
    ")\n",
    "# Iterate federated dataset to get artificial user dataset\n",
    "print(\"User dataset size is a constant: \")\n",
    "for i in range(5):\n",
    "    user_dataset, seed = next(federated_dataset)\n",
    "    print(f\"\\tArtificial user {i} has size of {len(user_dataset)}\")"
   ]
  },
  {
   "cell_type": "code",
   "execution_count": 17,
   "metadata": {},
   "outputs": [
    {
     "name": "stdout",
     "output_type": "stream",
     "text": [
      "User: None\n",
      "unique user seed: 1836776895\n",
      "dataset length: 10\n",
      "first 10 images:\n"
     ]
    },
    {
     "data": {
      "image/png": "[encoded data removed]",
      "text/plain": [
       "<Figure size 3200x3200 with 10 Axes>"
      ]
     },
     "metadata": {},
     "output_type": "display_data"
    }
   ],
   "source": [
    "import itertools\n",
    "import matplotlib.pyplot as plt\n",
    "\n",
    "user, seed = next(federated_dataset)\n",
    "print('User: {}\\nunique user seed: {}\\ndataset length: {}\\nfirst 10 images:'.format(user.user_id, seed, len(user)))\n",
    "fig, axes = plt.subplots(1,min(len(user),10),figsize=(32,32))\n",
    "for ax, image, label in itertools.islice(zip(axes, *user.raw_data),10):\n",
    "    ax.set_title('labels={}'.format(label))\n",
    "    # Rescale color channels from [-1, 1] to [0, 1]\n",
    "    image = (image + 1) / 2\n",
    "    # Convert from (C, H, W) to (H, W, C) for Matplotlib\n",
    "    image = image.permute(1, 2, 0)\n",
    "    ax.imshow(((image.cpu().numpy()*255).astype(np.uint8)))"
   ]
  },
  {
   "cell_type": "markdown",
   "metadata": {},
   "source": [
    "# Creating a model for CIFAR10 dataset"
   ]
  },
  {
   "cell_type": "markdown",
   "metadata": {},
   "source": [
    "## Defining the model architecture"
   ]
  },
  {
   "cell_type": "code",
   "execution_count": 18,
   "metadata": {},
   "outputs": [],
   "source": [
    "import torch.nn as nn\n",
    "import torch.nn.functional as F\n",
    "from typing import Dict, Optional\n",
    "from pfl.metrics import Weighted\n",
    "\n",
    "\n",
    "class Net(nn.Module):\n",
    "    def __init__(self):\n",
    "        super().__init__()\n",
    "        self.conv1 = nn.Conv2d(3, 6, 5)\n",
    "        self.pool = nn.MaxPool2d(2, 2)\n",
    "        self.conv2 = nn.Conv2d(6, 16, 5)\n",
    "        self.fc1 = nn.Linear(16 * 5 * 5, 120)\n",
    "        self.fc2 = nn.Linear(120, 84)\n",
    "        self.fc3 = nn.Linear(84, 10)\n",
    "\n",
    "    def forward(self, x):\n",
    "        x = self.pool(F.relu(self.conv1(x)))\n",
    "        x = self.pool(F.relu(self.conv2(x)))\n",
    "        x = torch.flatten(x, 1) # flatten all dimensions except batch\n",
    "        x = F.relu(self.fc1(x))\n",
    "        x = F.relu(self.fc2(x))\n",
    "        x = self.fc3(x)\n",
    "        return x\n",
    "\n",
    "\n",
    "pytorch_model = Net()\n",
    "\n",
    "loss_fn = torch.nn.CrossEntropyLoss()\n",
    "\n",
    "def loss(inputs: torch.Tensor, targets: torch.Tensor, eval: bool = False) -> torch.Tensor:\n",
    "    pytorch_model.eval() if eval else pytorch_model.train()\n",
    "    return loss_fn(pytorch_model(inputs), targets)\n",
    "\n",
    "\n",
    "@torch.no_grad()\n",
    "def metrics(inputs: torch.Tensor,\n",
    "             targets: torch.Tensor,\n",
    "             eval: bool = True) -> Dict[str, Weighted]:\n",
    "    pytorch_model.eval() if eval else pytorch_model.train()\n",
    "    prediction = pytorch_model(inputs)\n",
    "    logits = torch.argmax(prediction, dim=1)\n",
    "    num_samples = len(inputs)\n",
    "    num_predictions = targets.numel()\n",
    "    correct = torch.sum(torch.eq((logits > 0.0).float(), targets))\n",
    "\n",
    "    loss = loss_fn(prediction, targets).item()\n",
    "    return {\n",
    "        \"loss\": Weighted(loss, num_samples),\n",
    "        \"accuracy\": Weighted(correct, num_predictions)\n",
    "    }\n",
    "\n",
    "pytorch_model.loss = loss\n",
    "pytorch_model.metrics = metrics"
   ]
  },
  {
   "cell_type": "markdown",
   "metadata": {},
   "source": [
    "## Train with normal Machine Learning"
   ]
  },
  {
   "cell_type": "code",
   "execution_count": 19,
   "metadata": {},
   "outputs": [],
   "source": [
    "import torch.optim as optim\n",
    "\n",
    "criterion = nn.CrossEntropyLoss()\n",
    "optimizer = optim.SGD(pytorch_model.parameters(), lr=0.001, momentum=0.9)"
   ]
  },
  {
   "cell_type": "code",
   "execution_count": 20,
   "metadata": {},
   "outputs": [
    {
     "name": "stdout",
     "output_type": "stream",
     "text": [
      "Epoch 0\n",
      "[1,  2000] loss: 2.273\n",
      "[1,  4000] loss: 2.074\n",
      "[1,  6000] loss: 1.949\n",
      "[1,  8000] loss: 1.849\n",
      "[1, 10000] loss: 1.801\n",
      "[1, 12000] loss: 1.752\n",
      "[1, 14000] loss: 1.718\n",
      "[1, 16000] loss: 1.726\n",
      "[1, 18000] loss: 1.676\n",
      "[1, 20000] loss: 1.660\n",
      "[1, 22000] loss: 1.627\n",
      "[1, 24000] loss: 1.610\n",
      "[1, 26000] loss: 1.577\n",
      "[1, 28000] loss: 1.590\n",
      "[1, 30000] loss: 1.549\n",
      "[1, 32000] loss: 1.582\n",
      "[1, 34000] loss: 1.640\n",
      "[1, 36000] loss: 1.564\n",
      "[1, 38000] loss: 1.584\n",
      "[1, 40000] loss: 1.544\n",
      "[1, 42000] loss: 1.574\n",
      "[1, 44000] loss: 1.593\n",
      "[1, 46000] loss: 1.551\n",
      "[1, 48000] loss: 1.539\n",
      "[1, 50000] loss: 1.553\n",
      "Epoch 1\n",
      "[2,  2000] loss: 1.512\n",
      "[2,  4000] loss: 1.530\n",
      "[2,  6000] loss: 1.534\n",
      "[2,  8000] loss: 1.533\n",
      "[2, 10000] loss: 1.492\n",
      "[2, 12000] loss: 1.513\n",
      "[2, 14000] loss: 1.537\n",
      "[2, 16000] loss: 1.553\n",
      "[2, 18000] loss: 1.458\n",
      "[2, 20000] loss: 1.513\n",
      "[2, 22000] loss: 1.490\n",
      "[2, 24000] loss: 1.469\n",
      "[2, 26000] loss: 1.441\n",
      "[2, 28000] loss: 1.467\n",
      "[2, 30000] loss: 1.510\n",
      "[2, 32000] loss: 1.456\n",
      "[2, 34000] loss: 1.596\n",
      "[2, 36000] loss: 1.525\n",
      "[2, 38000] loss: 1.469\n",
      "[2, 40000] loss: 1.435\n",
      "[2, 42000] loss: 1.485\n",
      "[2, 44000] loss: 1.503\n",
      "[2, 46000] loss: 1.457\n",
      "[2, 48000] loss: 1.463\n",
      "[2, 50000] loss: 1.482\n",
      "Finished Training\n"
     ]
    }
   ],
   "source": [
    "from torch.utils.data import DataLoader\n",
    "\n",
    "for epoch in range(2):  # loop over the dataset multiple times\n",
    "\n",
    "    print(f'Epoch {epoch}')\n",
    "\n",
    "    running_loss = 0.0\n",
    "    for i, data in enumerate(DataLoader(train_set.dataset), 0):\n",
    "        # get the inputs; data is a list of [inputs, labels]\n",
    "        inputs, labels = data\n",
    "\n",
    "        # zero the parameter gradients\n",
    "        optimizer.zero_grad()\n",
    "\n",
    "        # forward + backward + optimize\n",
    "        outputs = pytorch_model(inputs)\n",
    "        loss = criterion(outputs, labels)\n",
    "        loss.backward()\n",
    "        optimizer.step()\n",
    "\n",
    "        # print statistics\n",
    "        running_loss += loss.item()\n",
    "        if i % 2000 == 1999:    # print every 2000 mini-batches\n",
    "            print(f'[{epoch + 1}, {i + 1:5d}] loss: {running_loss / 2000:.3f}')\n",
    "            running_loss = 0.0\n",
    "\n",
    "print('Finished Training')"
   ]
  },
  {
   "cell_type": "markdown",
   "metadata": {},
   "source": [
    "## Train with Federated Learning"
   ]
  },
  {
   "cell_type": "code",
   "execution_count": 21,
   "metadata": {},
   "outputs": [],
   "source": [
    "# Both Jupyter and `pfl` use async. `nest_asyncio` allows `pfl` to run inside the notebook \n",
    "import nest_asyncio\n",
    "nest_asyncio.apply()\n",
    "\n",
    "\n",
    "# Always import the `pfl` model first before initializing any `pfl` components to let `pfl` know which Deep Learning framework you will use.\n",
    "import multiprocessing\n",
    "# Set multiprocessing start method to \"spawn\" instead of forkserver (which is the default)\n",
    "# That is because forkserver does not work on Windows, but spawn does.\n",
    "def init_multiprocessing():\n",
    "    try:\n",
    "        multiprocessing.set_start_method(\"spawn\", force=True)  # Forces \"spawn\"\n",
    "    except RuntimeError:\n",
    "        pass  # Ignore if it's already set\n",
    "\n",
    "init_multiprocessing()\n",
    "\n",
    "from pfl.model.pytorch import PyTorchModel"
   ]
  },
  {
   "cell_type": "code",
   "execution_count": 22,
   "metadata": {},
   "outputs": [],
   "source": [
    "params = [p for p in pytorch_model.parameters() if p.requires_grad]\n",
    "\n",
    "model = PyTorchModel(pytorch_model, \n",
    "                     local_optimizer_create=torch.optim.SGD,\n",
    "                     central_optimizer=torch.optim.SGD(params, 1.0))\n"
   ]
  },
  {
   "cell_type": "code",
   "execution_count": 23,
   "metadata": {},
   "outputs": [],
   "source": [
    "from pfl.aggregate.simulate import SimulatedBackend\n",
    "\n",
    "cohort_size = 10\n",
    "central_num_iterations = 5\n",
    "\n",
    "# Instantiate simulated federated averaging\n",
    "simulated_backend = SimulatedBackend(\n",
    "    training_data=federated_dataset,\n",
    "    val_data=None)"
   ]
  },
  {
   "cell_type": "code",
   "execution_count": 24,
   "metadata": {},
   "outputs": [
    {
     "name": "stdout",
     "output_type": "stream",
     "text": [
      "Metrics at iteration 0 ():\n",
      "    Central val | loss                                : 0.06936974769473075\n",
      "    Central val | accuracy                            : 0.13646\n",
      "    Central val | number of data points               : 50000\n",
      "    Train population | number of devices              : 10\n",
      "    Train population | number of data points          : 10.0\n",
      "    Train population | loss before local training     : 0.16187467098236083\n",
      "    Train population | accuracy before local training : 0.16\n",
      "    Train population | loss after local training      : 0.1344655442237854\n",
      "    Train population | accuracy after local training  : 0.16\n",
      "    Train population | total weight                   : 1.0\n",
      "    Number of parameters                              : 62006\n",
      "    Learning rate                                     : 1.0\n",
      "Metrics at iteration 1 ():\n",
      "    Train population | number of devices              : 10\n",
      "    Train population | number of data points          : 10.0\n",
      "    Train population | total weight                   : 1.0\n",
      "    Number of parameters                              : 62006\n",
      "    Learning rate                                     : 1.0\n",
      "Metrics at iteration 2 ():\n",
      "    Train population | number of devices              : 10\n",
      "    Train population | number of data points          : 10.0\n",
      "    Train population | total weight                   : 1.0\n",
      "    Number of parameters                              : 62006\n",
      "    Learning rate                                     : 1.0\n",
      "Metrics at iteration 3 ():\n",
      "    Train population | number of devices              : 10\n",
      "    Train population | number of data points          : 10.0\n",
      "    Train population | total weight                   : 1.0\n",
      "    Number of parameters                              : 62006\n",
      "    Learning rate                                     : 1.0\n",
      "Metrics at iteration 4 ():\n",
      "    Train population | number of devices              : 10\n",
      "    Train population | number of data points          : 10.0\n",
      "    Train population | loss before local training     : 0.12661891102790832\n",
      "    Train population | accuracy before local training : 0.13\n",
      "    Train population | loss after local training      : 0.1071597170829773\n",
      "    Train population | accuracy after local training  : 0.15\n",
      "    Train population | total weight                   : 1.0\n",
      "    Number of parameters                              : 62006\n",
      "    Learning rate                                     : 1.0\n",
      "    Central val | accuracy                            : 0.13872\n",
      "    Central val | loss                                : 0.0682926708984375\n",
      "    Central val | number of data points               : 50000.0\n"
     ]
    }
   ],
   "source": [
    "from pfl.algorithm import FederatedAveraging, NNAlgorithmParams\n",
    "from pfl.callback import CentralEvaluationCallback\n",
    "from pfl.hyperparam import NNTrainHyperParams, NNEvalHyperParams\n",
    "\n",
    "model_train_params = NNTrainHyperParams(\n",
    "    local_learning_rate=0.01,\n",
    "    local_num_epochs=2,\n",
    "    local_batch_size=16)\n",
    "\n",
    "model_eval_params = NNEvalHyperParams(local_batch_size=20)\n",
    "\n",
    "algorithm_params = NNAlgorithmParams(\n",
    "    central_num_iterations=central_num_iterations,\n",
    "    evaluation_frequency=4,\n",
    "    train_cohort_size=cohort_size,\n",
    "    val_cohort_size=0)\n",
    "\n",
    "callbacks = [\n",
    "    CentralEvaluationCallback(\n",
    "        Dataset(raw_data=[all_features, all_labels]),\n",
    "        model_eval_params=model_eval_params,\n",
    "        frequency=4),\n",
    "]\n",
    "\n",
    "model = FederatedAveraging().run(\n",
    "    algorithm_params=algorithm_params,\n",
    "    backend=simulated_backend,\n",
    "    model=model,\n",
    "    model_train_params=model_train_params,\n",
    "    model_eval_params=model_eval_params,\n",
    "    callbacks=callbacks)\n"
   ]
  }
 ],
 "metadata": {
  "kernelspec": {
   "display_name": "Python 3",
   "language": "python",
   "name": "python3"
  },
  "language_info": {
   "codemirror_mode": {
    "name": "ipython",
    "version": 3
   },
   "file_extension": ".py",
   "mimetype": "text/x-python",
   "name": "python",
   "nbconvert_exporter": "python",
   "pygments_lexer": "ipython3",
   "version": "3.10.16"
  }
 },
 "nbformat": 4,
 "nbformat_minor": 2
}
