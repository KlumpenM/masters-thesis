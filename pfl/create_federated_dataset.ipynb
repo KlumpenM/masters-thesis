{
 "cells": [
  {
   "cell_type": "markdown",
   "metadata": {},
   "source": [
    "### 1. Creating a `pfl` Dataset Object\n",
    "A `pfl.data.Dataset` object is the basic representation for a single user's dataset. Alternatively, this can also be used for building a central dataset for evaluation purpose (to be used with `pfl.callback.CentralEvaluationCallback`).   "
   ]
  },
  {
   "cell_type": "code",
   "execution_count": 1,
   "metadata": {},
   "outputs": [
    {
     "name": "stdout",
     "output_type": "stream",
     "text": [
      "Batch from `Dataset`: \n",
      "x shape=(5, 4), x=[[-0.76098561  1.18131392 -0.64002999 -0.0034583 ]\n",
      " [-0.15030606 -1.38179342  1.17236067  2.40508105]\n",
      " [ 0.8971263  -0.68825377  0.18810025 -1.04514178]\n",
      " [-1.15246529  1.97141093 -1.11594752 -0.276904  ]\n",
      " [-1.61578179  1.49609861 -0.5450491   1.50028943]]\n",
      "y shape=(5,), y=[0 0 0 1 1]\n"
     ]
    }
   ],
   "source": [
    "import sklearn.datasets\n",
    "from pfl.data.dataset import Dataset\n",
    "\n",
    "# Create synthetic user data\n",
    "user_id = 'pfl-user-0'\n",
    "user_features, user_labels = sklearn.datasets.make_classification(n_samples=10, n_features=4)\n",
    "\n",
    "# Create a pfl Dataset object\n",
    "user_dataset = Dataset(raw_data=[user_features, user_labels], user_id=user_id)\n",
    "\n",
    "# Get a batch of the user dataset using Dataset.iter\n",
    "batch_x, batch_y = next(user_dataset.iter(batch_size=5))\n",
    "print(f\"Batch from `Dataset`: \\n\"\n",
    "      f\"x shape={batch_x.shape}, x={batch_x}\\n\"\n",
    "      f\"y shape={batch_y.shape}, y={batch_y}\")"
   ]
  },
  {
   "cell_type": "markdown",
   "metadata": {},
   "source": [
    "#### 1.1 Creating a PyTorch `pfl` Dataset Object\n",
    "The above example showed how to create the `pfl` dataset in numpy format. `pfl`  supports data that are processed in PyTorch or TensorFlow tensors. We will focus on PyTorch for the purpose of this tutorial. The TensorFlow dataset implementation can be found at [tensorflow.py](https://github.com/apple/pfl-research/blob/main/pfl/data/tensorflow.py)."
   ]
  },
  {
   "cell_type": "code",
   "execution_count": 2,
   "metadata": {},
   "outputs": [],
   "source": [
    "import multiprocessing\n",
    "import os\n",
    "os.environ['PFL_PYTORCH_DEVICE'] = 'cpu'\n",
    "\n",
    "import torch\n",
    "\n",
    "# Set multiprocessing start method to \"spawn\" instead of forkserver (which is the default)\n",
    "# That is because forkserver does not work on Windows, but spawn does.\n",
    "def init_multiprocessing():\n",
    "    try:\n",
    "        multiprocessing.set_start_method(\"spawn\", force=True)  # Forces \"spawn\"\n",
    "    except RuntimeError:\n",
    "        pass  # Ignore if it's already set\n",
    "\n",
    "init_multiprocessing()\n",
    "\n",
    "from pfl.internal.ops.selector import set_framework_module\n",
    "from pfl.internal.ops import pytorch_ops, numpy_ops\n",
    "from pfl.data.pytorch import PyTorchTensorDataset, PyTorchDataDataset\n",
    "\n",
    "# Tell pfl to use pytorch as the backend ML framework\n",
    "set_framework_module(pytorch_ops, old_module=numpy_ops)"
   ]
  },
  {
   "cell_type": "code",
   "execution_count": 3,
   "metadata": {},
   "outputs": [
    {
     "name": "stdout",
     "output_type": "stream",
     "text": [
      "Batch from `PyTorchTensorDataset`: \n",
      "x shape=torch.Size([5, 4]), x=tensor([[-0.7610,  1.1813, -0.6400, -0.0035],\n",
      "        [-0.1503, -1.3818,  1.1724,  2.4051],\n",
      "        [ 0.8971, -0.6883,  0.1881, -1.0451],\n",
      "        [-1.1525,  1.9714, -1.1159, -0.2769],\n",
      "        [-1.6158,  1.4961, -0.5450,  1.5003]], dtype=torch.float64)\n",
      "y shape=torch.Size([5]), y=tensor([0, 0, 0, 1, 1], dtype=torch.int32)\n"
     ]
    }
   ],
   "source": [
    "# Option 1: Create a PyTorch pfl Dataset object based on PyTorch tensors\n",
    "user_features, user_labels = torch.as_tensor(user_features), torch.as_tensor(user_labels)\n",
    "user_dataset = PyTorchTensorDataset(tensors=[user_features, user_labels], user_id=user_id)\n",
    "\n",
    "# Get a batch of the user dataset using Dataset.iter\n",
    "batch_x, batch_y = next(user_dataset.iter(batch_size=5))\n",
    "print(f\"Batch from `PyTorchTensorDataset`: \\n\"\n",
    "      f\"x shape={batch_x.shape}, x={batch_x}\\n\"\n",
    "      f\"y shape={batch_y.shape}, y={batch_y}\")"
   ]
  },
  {
   "cell_type": "code",
   "execution_count": 4,
   "metadata": {},
   "outputs": [
    {
     "name": "stdout",
     "output_type": "stream",
     "text": [
      "\n",
      "Batch from `PyTorchDataDataset`: \n",
      "x shape=torch.Size([5, 4]), x=tensor([[-0.7610,  1.1813, -0.6400, -0.0035],\n",
      "        [-0.1503, -1.3818,  1.1724,  2.4051],\n",
      "        [ 0.8971, -0.6883,  0.1881, -1.0451],\n",
      "        [-1.1525,  1.9714, -1.1159, -0.2769],\n",
      "        [-1.6158,  1.4961, -0.5450,  1.5003]], dtype=torch.float64)\n",
      "y shape=torch.Size([5]), y=tensor([0, 0, 0, 1, 1], dtype=torch.int32)\n"
     ]
    }
   ],
   "source": [
    "# Option 2: Create a PyTorch pfl Dataset object based on torch.utils.data.Dataset\n",
    "pytorch_data = torch.utils.data.TensorDataset(user_features, user_labels)\n",
    "user_dataset = PyTorchDataDataset(raw_data=pytorch_data, user_id=user_id)\n",
    "\n",
    "# Get a batch of the user dataset using Dataset.iter\n",
    "batch_x, batch_y = next(user_dataset.iter(batch_size=5))\n",
    "print(f\"\\nBatch from `PyTorchDataDataset`: \\n\"\n",
    "      f\"x shape={batch_x.shape}, x={batch_x}\\n\"\n",
    "      f\"y shape={batch_y.shape}, y={batch_y}\")"
   ]
  },
  {
   "cell_type": "markdown",
   "metadata": {},
   "source": [
    "### 2. Creating Federated Dataset with Real User Partition\n",
    "Previous section showed how to create a single user dataset.  This section covers how to create a federated dataset which is a joint of multiple users' dataset. If the original dataset already have an attribute for user identifier, such as [StackOverflow](https://www.kaggle.com/datasets/stackoverflow/stackoverflow), [LEAF](https://leaf.cmu.edu) ans [FLAIR](https://github.com/apple/ml-flair), we can use the existing user parition in the dataset for more accurate simulation of non-IID characteristics in the real federated learning setting. "
   ]
  },
  {
   "cell_type": "code",
   "execution_count": 5,
   "metadata": {},
   "outputs": [
    {
     "name": "stdout",
     "output_type": "stream",
     "text": [
      "FederatedDataset with real user partition: \n",
      "\tReal user with user_id=3 has size of 4.\n",
      "\tReal user with user_id=0 has size of 1.\n",
      "\tReal user with user_id=1 has size of 2.\n",
      "\tReal user with user_id=5 has size of 6.\n",
      "\tReal user with user_id=4 has size of 5.\n"
     ]
    }
   ],
   "source": [
    "from pfl.data import get_user_sampler, FederatedDataset\n",
    "\n",
    "# Create a dataset partitioned by user\n",
    "user_id_to_data = {}\n",
    "n_users = 20\n",
    "for i in range(n_users):\n",
    "    user_id_to_data[i] = sklearn.datasets.make_classification(n_samples=i+1, n_features=4)\n",
    "user_ids = list(user_id_to_data.keys())\n",
    "\n",
    "# Create user sampler to sample user uniformly at random\n",
    "user_sampler = get_user_sampler(sample_type=\"random\", user_ids=user_ids)\n",
    "federated_dataset = FederatedDataset.from_slices(data=user_id_to_data, user_sampler=user_sampler)\n",
    "\n",
    "# Iterate federated dataset to get artificial user dataset\n",
    "print(\"FederatedDataset with real user partition: \")\n",
    "for i in range(5):\n",
    "    user_dataset, seed = next(federated_dataset)\n",
    "    print(f\"\\tReal user with user_id={user_dataset.user_id} has size of {len(user_dataset)}.\")"
   ]
  },
  {
   "cell_type": "markdown",
   "metadata": {},
   "source": [
    "#### 2.1 Creating a `PyTorchFederatedDataset` Object\n",
    "In certain scenario, it might be beneficial to use `PyTorchFederatedDataset` for speeding up data loading. "
   ]
  },
  {
   "cell_type": "code",
   "execution_count": 6,
   "metadata": {},
   "outputs": [
    {
     "name": "stdout",
     "output_type": "stream",
     "text": [
      "PyTorchFederatedDataset with real user partition: \n",
      "\tReal user 0 has size of 4.\n",
      "\tReal user 1 has size of 6.\n",
      "\tReal user 2 has size of 3.\n",
      "\tReal user 3 has size of 9.\n",
      "\tReal user 4 has size of 7.\n"
     ]
    }
   ],
   "source": [
    "from pfl.data.pytorch import PyTorchFederatedDataset\n",
    "\n",
    "class PyTorchDataset(torch.utils.data.Dataset):\n",
    "    def __init__(self, user_id_to_data):\n",
    "        self._user_id_to_data = user_id_to_data\n",
    "\n",
    "    def __getitem__(self, i):\n",
    "        return [torch.as_tensor(x) for x in self._user_id_to_data[i]]\n",
    "\n",
    "    def __len__(self):\n",
    "        return len(self._user_id_to_data)\n",
    "\n",
    "\n",
    "pytorch_dataset = PyTorchDataset(user_id_to_data)\n",
    "federated_dataset = PyTorchFederatedDataset(dataset=pytorch_dataset, user_sampler=user_sampler)\n",
    "# Iterate federated dataset to get artificial user dataset\n",
    "print(\"PyTorchFederatedDataset with real user partition: \")\n",
    "for i in range(5):\n",
    "    user_dataset, seed = next(federated_dataset)\n",
    "    print(f\"\\tReal user {i} has size of {len(user_dataset)}.\")"
   ]
  },
  {
   "cell_type": "markdown",
   "metadata": {},
   "source": [
    "#### 2.2 Creating a `FederatedDataset` with `torch.utils.data.Dataset`\n",
    "If a user dataset is too large to fit into memory, `pfl` also supports `torch.utils.data.Dataset` for creating federated dataset.\n"
   ]
  },
  {
   "cell_type": "code",
   "execution_count": 7,
   "metadata": {},
   "outputs": [
    {
     "name": "stdout",
     "output_type": "stream",
     "text": [
      "FederatedDataset with torch.utils.data.Dataset and real user partition: \n",
      "\tReal user 0 has size of 5.\n",
      "\tReal user 1 has size of 7.\n",
      "\tReal user 2 has size of 12.\n",
      "\tReal user 3 has size of 2.\n",
      "\tReal user 4 has size of 10.\n"
     ]
    }
   ],
   "source": [
    "def make_dataset_fn(user_id):\n",
    "    # Create a `torch.utils.data.Dataset` for a single user\n",
    "    user_data = [torch.as_tensor(data) for data in user_id_to_data[user_id]]\n",
    "    pytorch_data = torch.utils.data.TensorDataset(*user_data)\n",
    "    return PyTorchDataDataset(raw_data=pytorch_data, user_id=user_id)\n",
    "\n",
    "federated_dataset = FederatedDataset(make_dataset_fn=make_dataset_fn, user_sampler=user_sampler)\n",
    "print(\"FederatedDataset with torch.utils.data.Dataset and real user partition: \")\n",
    "for i in range(5):\n",
    "    user_dataset, seed = next(federated_dataset)\n",
    "    print(f\"\\tReal user {i} has size of {len(user_dataset)}.\")"
   ]
  },
  {
   "cell_type": "markdown",
   "metadata": {},
   "source": [
    "### 3. Creating IID Artificial Federated Dataset\n",
    "The previous section assumes that a dataset has user IDs, which is often not the case for many existing ML datasets (e.g. CIFAR10). For those datasets, `pfl` supports converting them to Artificial Federated Dataset, meaning that there is no user ID associated with the dataset and the user partition will be artificial, which is useful for experimenting existing ML datasets. This section covers how to create an Artificial Federated Dataset assuming the data distribution between users is IID. "
   ]
  },
  {
   "cell_type": "code",
   "execution_count": 8,
   "metadata": {},
   "outputs": [
    {
     "name": "stdout",
     "output_type": "stream",
     "text": [
      "User dataset size is a constant: \n",
      "\tArtificial user 0 has size of 10\n",
      "\tArtificial user 1 has size of 10\n",
      "\tArtificial user 2 has size of 10\n",
      "\tArtificial user 3 has size of 10\n",
      "\tArtificial user 4 has size of 10\n"
     ]
    }
   ],
   "source": [
    "import numpy as np\n",
    "from pfl.data import ArtificialFederatedDataset, get_data_sampler\n",
    "\n",
    "\n",
    "n_samples = 1000\n",
    "features, labels = sklearn.datasets.make_classification(n_samples=n_samples, n_features=8, n_informative=4, n_classes=5)\n",
    "# Create data sampler to sample each artificial user dataset as a random subset of the original dataset\n",
    "data_sampler = get_data_sampler(sample_type=\"random\", max_bound=n_samples)\n",
    "\n",
    "# Option 1: Create an artificial federated dataset where each user dataset has constant size of 10\n",
    "sample_dataset_len = lambda: 10\n",
    "federated_dataset = ArtificialFederatedDataset.from_slices(\n",
    "    data=[features, labels], \n",
    "    data_sampler=data_sampler,\n",
    "    sample_dataset_len=sample_dataset_len,\n",
    ")\n",
    "# Iterate federated dataset to get artificial user dataset\n",
    "print(\"User dataset size is a constant: \")\n",
    "for i in range(5):\n",
    "    user_dataset, seed = next(federated_dataset)\n",
    "    print(f\"\\tArtificial user {i} has size of {len(user_dataset)}\")"
   ]
  },
  {
   "cell_type": "code",
   "execution_count": 9,
   "metadata": {},
   "outputs": [
    {
     "name": "stdout",
     "output_type": "stream",
     "text": [
      "\n",
      "User dataset size follows a Poisson distribution: \n",
      "\tArtificial user 0 has size of 8\n",
      "\tArtificial user 1 has size of 6\n",
      "\tArtificial user 2 has size of 13\n",
      "\tArtificial user 3 has size of 5\n",
      "\tArtificial user 4 has size of 12\n"
     ]
    }
   ],
   "source": [
    "# Option 2: Create an artificial federated dataset where each user dataset size follows Poisson distribution\n",
    "sample_dataset_len = lambda: max(1, np.random.poisson(10))\n",
    "federated_dataset = ArtificialFederatedDataset.from_slices(\n",
    "    data=[features, labels], \n",
    "    data_sampler=data_sampler,\n",
    "    sample_dataset_len=sample_dataset_len,\n",
    ")\n",
    "# Iterate federated dataset to get artificial user dataset\n",
    "print(\"\\nUser dataset size follows a Poisson distribution: \")\n",
    "for i in range(5):\n",
    "    user_dataset, seed = next(federated_dataset)\n",
    "    print(f\"\\tArtificial user {i} has size of {len(user_dataset)}\")"
   ]
  },
  {
   "cell_type": "markdown",
   "metadata": {},
   "source": [
    "### 4. Creating non-IID Artificial Federated Dataset\n",
    "As mentioned before, in the real federated setting, the federated data has many non-IID characteristics in its distribution. This section shows how to artificially simulate the case for a classification dataset where the user label distribution is non-IID and follows a Dirichlet distribution (a common assumption in federated learning research). "
   ]
  },
  {
   "cell_type": "markdown",
   "metadata": {},
   "source": [
    "#### 4.1 Sampling non-IID user dataset dynamically with `ArtificialFederatedDataset`\n",
    "The first option is to change the `data_sampler` in a way so that the user label distribution follows a Dirichlet distribution. The user dataset is sampled on the fly and there is no fixed user partition like as in [Section 3.2](#3.2-Partitioning-the-dataset-into-fixed-artificial-users-with-FederatedDataset) below."
   ]
  },
  {
   "cell_type": "code",
   "execution_count": 10,
   "metadata": {},
   "outputs": [
    {
     "name": "stdout",
     "output_type": "stream",
     "text": [
      "ArtificialFederatedDataset with Dirichlet label distribution: \n",
      "\tArtificial user 0 has size of 20 with unique labels=[0]\n",
      "\tArtificial user 1 has size of 20 with unique labels=[3]\n",
      "\tArtificial user 2 has size of 20 with unique labels=[3]\n",
      "\tArtificial user 3 has size of 20 with unique labels=[0 1]\n",
      "\tArtificial user 4 has size of 20 with unique labels=[1 4]\n"
     ]
    }
   ],
   "source": [
    "# Create data sampler to sample each artificial user has label distribution follows a Dirichlet distribution.\n",
    "dirichlet_alpha = [0.1] * 5\n",
    "data_sampler = get_data_sampler(sample_type=\"dirichlet\", labels=labels, alpha=dirichlet_alpha)\n",
    "\n",
    "# Create an artificial federated dataset with a Dirichlet data sampler\n",
    "sample_dataset_len = lambda: 20\n",
    "federated_dataset = ArtificialFederatedDataset.from_slices(\n",
    "    data=[features, labels], \n",
    "    data_sampler=data_sampler,\n",
    "    sample_dataset_len=sample_dataset_len,\n",
    ")\n",
    "# Iterate federated dataset to get artificial user dataset\n",
    "print(\"ArtificialFederatedDataset with Dirichlet label distribution: \")\n",
    "for i in range(5):\n",
    "    user_dataset, seed = next(federated_dataset)\n",
    "    print(f\"\\tArtificial user {i} has size of {len(user_dataset)} with unique labels={np.unique(user_dataset.raw_data[1])}\")"
   ]
  },
  {
   "cell_type": "markdown",
   "metadata": {},
   "source": [
    "#### 4.2 Partitioning the dataset into fixed artificial users with `FederatedDataset`\n",
    "An alternative to the above is to partition the original dataset into a fixed set of artificial users where each user's label distribution follows a Dirichlet distribution. The difference of this option is that the user partitions are constructed once using all data and remains the same throughout the training. "
   ]
  },
  {
   "cell_type": "code",
   "execution_count": 11,
   "metadata": {},
   "outputs": [
    {
     "name": "stdout",
     "output_type": "stream",
     "text": [
      "FederatedDataset with Dirichlet label distribution: \n",
      "\tArtificial user 0 has size of 20 with unique labels=[0]\n",
      "\tArtificial user 1 has size of 20 with unique labels=[0]\n",
      "\tArtificial user 2 has size of 20 with unique labels=[2]\n",
      "\tArtificial user 3 has size of 20 with unique labels=[2]\n",
      "\tArtificial user 4 has size of 20 with unique labels=[0 3 4]\n"
     ]
    }
   ],
   "source": [
    "# Create a federated dataset with fixed user partition\n",
    "# alpha=0.01 is a extreme case where each user likely has only data from 1 class\n",
    "federated_dataset = FederatedDataset.from_slices_with_dirichlet_class_distribution(\n",
    "    data=[features, labels],\n",
    "    labels=labels,\n",
    "    alpha=0.01,\n",
    "    user_dataset_len_sampler=sample_dataset_len)\n",
    "\n",
    "# Iterate federated dataset to get artificial user dataset\n",
    "print(\"FederatedDataset with Dirichlet label distribution: \")\n",
    "for i in range(5):\n",
    "    user_dataset, seed = next(federated_dataset)\n",
    "    print(f\"\\tArtificial user {i} has size of {len(user_dataset)} with unique labels={np.unique(user_dataset.raw_data[1])}\")"
   ]
  },
  {
   "cell_type": "markdown",
   "metadata": {},
   "source": [
    "# Coupling CIFAR10 data to Federated Dataset"
   ]
  },
  {
   "cell_type": "markdown",
   "metadata": {},
   "source": [
    "## Debugging print statements"
   ]
  },
  {
   "cell_type": "code",
   "execution_count": 12,
   "metadata": {},
   "outputs": [
    {
     "name": "stdout",
     "output_type": "stream",
     "text": [
      "0.21.0+cpu\n",
      "c:\\Users\\AVN\\anaconda3\\envs\\masters\\python.exe\n"
     ]
    }
   ],
   "source": [
    "import torchvision\n",
    "print(torchvision.__version__)\n",
    "import sys\n",
    "print(sys.executable)\n"
   ]
  },
  {
   "cell_type": "code",
   "execution_count": 13,
   "metadata": {},
   "outputs": [
    {
     "name": "stdout",
     "output_type": "stream",
     "text": [
      "Device: cpu\n"
     ]
    }
   ],
   "source": [
    "from pfl.data import ArtificialFederatedDataset, get_data_sampler\n",
    "import sys\n",
    "sys.path.append('..')\n",
    "from centralized import load_data\n",
    "train_set, test_set = load_data()"
   ]
  },
  {
   "cell_type": "code",
   "execution_count": 14,
   "metadata": {},
   "outputs": [],
   "source": [
    "# Access the 'dataset' attribute of train_set to get the proper count of total samples\n",
    "n_samples = len(train_set.dataset)\n",
    "\n",
    "# Just 'len(train_set)' would only give you the total number of batches"
   ]
  },
  {
   "cell_type": "code",
   "execution_count": 15,
   "metadata": {},
   "outputs": [
    {
     "name": "stdout",
     "output_type": "stream",
     "text": [
      "torch.Size([50000, 3, 32, 32]) torch.Size([50000])\n"
     ]
    }
   ],
   "source": [
    "# Split the training dataloader into features and labels\n",
    "all_features = []\n",
    "all_labels = []\n",
    "\n",
    "for features, labels in train_set:\n",
    "    all_features.append(features)\n",
    "    all_labels.append(labels)\n",
    "\n",
    "# Convert to tensors if needed\n",
    "all_features = torch.cat(all_features, dim=0)\n",
    "all_labels = torch.cat(all_labels, dim=0)\n",
    "\n",
    "print(all_features.shape, all_labels.shape)\n"
   ]
  },
  {
   "cell_type": "code",
   "execution_count": 16,
   "metadata": {},
   "outputs": [
    {
     "name": "stdout",
     "output_type": "stream",
     "text": [
      "User dataset size is a constant: \n",
      "\tArtificial user 0 has size of 10\n",
      "\tArtificial user 1 has size of 10\n",
      "\tArtificial user 2 has size of 10\n",
      "\tArtificial user 3 has size of 10\n",
      "\tArtificial user 4 has size of 10\n"
     ]
    }
   ],
   "source": [
    "# Create data sampler to sample each artificial user dataset as a random subset of the original dataset\n",
    "data_sampler = get_data_sampler(sample_type=\"random\", max_bound=n_samples)\n",
    "\n",
    "# Option 1: Create an artificial federated dataset where each user dataset has constant size of 10\n",
    "sample_dataset_len = lambda: 10\n",
    "federated_dataset = ArtificialFederatedDataset.from_slices(\n",
    "    data=[all_features, all_labels], \n",
    "    data_sampler=data_sampler,\n",
    "    sample_dataset_len=sample_dataset_len,\n",
    ")\n",
    "# Iterate federated dataset to get artificial user dataset\n",
    "print(\"User dataset size is a constant: \")\n",
    "for i in range(5):\n",
    "    user_dataset, seed = next(federated_dataset)\n",
    "    print(f\"\\tArtificial user {i} has size of {len(user_dataset)}\")"
   ]
  },
  {
   "cell_type": "code",
   "execution_count": 45,
   "metadata": {},
   "outputs": [
    {
     "name": "stdout",
     "output_type": "stream",
     "text": [
      "User: None\n",
      "unique user seed: 863960996\n",
      "dataset length: 10\n",
      "first 10 images:\n"
     ]
    },
    {
     "data": {
      "image/png": "[encoded data removed]",
      "text/plain": [
       "<Figure size 3200x3200 with 10 Axes>"
      ]
     },
     "metadata": {},
     "output_type": "display_data"
    }
   ],
   "source": [
    "import itertools\n",
    "import matplotlib.pyplot as plt\n",
    "\n",
    "user, seed = next(federated_dataset)\n",
    "print('User: {}\\nunique user seed: {}\\ndataset length: {}\\nfirst 10 images:'.format(user.user_id, seed, len(user)))\n",
    "fig, axes = plt.subplots(1,min(len(user),10),figsize=(32,32))\n",
    "for ax, image, label in itertools.islice(zip(axes, *user.raw_data),10):\n",
    "    ax.set_title('labels={}'.format(label))\n",
    "    ax.imshow((np.transpose((image.cpu().numpy()*255+128).astype(np.uint8), (1, 2, 0))))"
   ]
  },
  {
   "cell_type": "code",
   "execution_count": 24,
   "metadata": {},
   "outputs": [
    {
     "name": "stdout",
     "output_type": "stream",
     "text": [
      "(3, 32, 32)\n",
      "(32, 32, 3)\n"
     ]
    }
   ],
   "source": [
    "foo = np.random.rand(3, 32, 32)\n",
    "print(foo.shape)\n",
    "\n",
    "foo = np.transpose(foo, (1, 2, 0))\n",
    "print(foo.shape)"
   ]
  },
  {
   "cell_type": "markdown",
   "metadata": {},
   "source": [
    "# Creating a model for CIFAR10 dataset"
   ]
  },
  {
   "cell_type": "markdown",
   "metadata": {},
   "source": [
    "## Defining the model architecture"
   ]
  },
  {
   "cell_type": "code",
   "execution_count": null,
   "metadata": {},
   "outputs": [],
   "source": [
    "import torch.nn as nn\n",
    "import torch.nn.functional as F\n",
    "\n",
    "\n",
    "class Net(nn.Module):\n",
    "    def __init__(self):\n",
    "        super().__init__()\n",
    "        self.conv1 = nn.Conv2d(3, 6, 5)\n",
    "        self.pool = nn.MaxPool2d(2, 2)\n",
    "        self.conv2 = nn.Conv2d(6, 16, 5)\n",
    "        self.fc1 = nn.Linear(16 * 5 * 5, 120)\n",
    "        self.fc2 = nn.Linear(120, 84)\n",
    "        self.fc3 = nn.Linear(84, 10)\n",
    "\n",
    "    def forward(self, x):\n",
    "        x = self.pool(F.relu(self.conv1(x)))\n",
    "        x = self.pool(F.relu(self.conv2(x)))\n",
    "        x = torch.flatten(x, 1) # flatten all dimensions except batch\n",
    "        x = F.relu(self.fc1(x))\n",
    "        x = F.relu(self.fc2(x))\n",
    "        x = self.fc3(x)\n",
    "        return x\n",
    "\n",
    "\n",
    "net = Net()"
   ]
  }
 ],
 "metadata": {
  "kernelspec": {
   "display_name": "masters",
   "language": "python",
   "name": "python3"
  },
  "language_info": {
   "codemirror_mode": {
    "name": "ipython",
    "version": 3
   },
   "file_extension": ".py",
   "mimetype": "text/x-python",
   "name": "python",
   "nbconvert_exporter": "python",
   "pygments_lexer": "ipython3",
   "version": "3.10.16"
  }
 },
 "nbformat": 4,
 "nbformat_minor": 2
}
