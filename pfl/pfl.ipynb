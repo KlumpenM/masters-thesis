{
 "cells": [
  {
   "cell_type": "code",
   "execution_count": 1,
   "metadata": {},
   "outputs": [],
   "source": [
    "import matplotlib.pyplot as plt\n",
    "import h5py\n",
    "import numpy as np\n",
    "import pandas as pd\n",
    "import torch\n",
    "\n",
    "# Both Jupyter and `pfl` use async. `nest_asyncio` allows `pfl` to run inside the notebook \n",
    "import nest_asyncio\n",
    "nest_asyncio.apply()\n",
    "\n",
    "# append the root directory to your paths to be able to reach the examples.  \n",
    "torch.random.manual_seed(1)\n",
    "np.random.seed(1)\n",
    "\n",
    "# Always import the `pfl` model first before initializing any `pfl` components to let `pfl` know which Deep Learning framework you will use.\n",
    "import multiprocessing\n",
    "# Set multiprocessing start method to \"spawn\" instead of forkserver (which is the default)\n",
    "# That is because forkserver does not work on Windows, but spawn does.\n",
    "def init_multiprocessing():\n",
    "    try:\n",
    "        multiprocessing.set_start_method(\"spawn\", force=True)  # Forces \"spawn\"\n",
    "    except RuntimeError:\n",
    "        pass  # Ignore if it's already set\n",
    "\n",
    "init_multiprocessing()\n",
    "\n",
    "from pfl.model.pytorch import PyTorchModel"
   ]
  },
  {
   "cell_type": "code",
   "execution_count": 2,
   "metadata": {},
   "outputs": [
    {
     "name": "stdout",
     "output_type": "stream",
     "text": [
      "cpu\n"
     ]
    }
   ],
   "source": [
    "# Use the GPU if available\n",
    "device = torch.device(\"cuda\" if torch.cuda.is_available() else \"cpu\")\n",
    "print(device)"
   ]
  },
  {
   "cell_type": "markdown",
   "metadata": {},
   "source": [
    "# Parameters DPFL\n",
    "\n",
    "Adjust these values as you please"
   ]
  },
  {
   "cell_type": "code",
   "execution_count": 3,
   "metadata": {},
   "outputs": [],
   "source": [
    "from pfl.privacy import RDPPrivacyAccountant, CentrallyAppliedPrivacyMechanism, GaussianMechanism\n",
    "\n",
    "\n",
    "# # Define Gaussian DP mechanisms for central DP guarantees using three different methods\n",
    "\n",
    "# n_clients = 8                # Number of clients\n",
    "# clipping_bound = 0.5         # Clipping bound for DP\n",
    "# epsilon = 2                  # Epsilon parameter for DP\n",
    "# delta = 1e-8                 # Delta parameter for DP\n",
    "# sampling_probability = 1e-4  # Probability of a client being selected as cohort for a given iteration: cohort_size / n_clients\n",
    "# is_central = True            # Probably delete this line in the future, as it is not used anywhere else in the code.\n",
    "\n",
    "# # Other parameters for the training process\n",
    "\n",
    "# local_learning_rate = 0.001  # Learning rate for local training\n",
    "# local_num_epochs = 4         # Number of local epochs for each client\n",
    "# local_batch_size = 32        # Batch size for local training\n",
    "# central_num_iterations = 50  # Number of central iterations\n",
    "# evaluation_frequency = 1     # How often to evaluate the model (in terms of central iterations)\n",
    "# cohort_size = 8              # Number of clients in the cohort"
   ]
  },
  {
   "cell_type": "markdown",
   "metadata": {},
   "source": [
    "# Define the DP mechanism"
   ]
  },
  {
   "cell_type": "markdown",
   "metadata": {},
   "source": [
    "http://www.gautamkamath.com/CS860notes/lec5.pdf\n",
    "\n",
    "Definition 5 on page 3 gives the definition of the parameters for Gaussian distribution where we sample noise for DP.\n",
    "\n",
    "$\\Delta_2^2$ is not included when defining `relative_noise_stddev`, because the clipping bound (which I understand to be $\\Delta_2^2$ and also is $\\Delta_2^{(f)}$ from definition 3 on page 3) is multiplied on `relative_noise_stddev`, when sampling the noise for DP via `GaussianMechanism.add_noise()`\n",
    "\n",
    "Source: https://apple.github.io/pfl-research/reference/privacy.html#pfl.privacy.gaussian_mechanism.GaussianMechanism\n",
    "\n",
    "Additionally, the issue here is how we select a good value of clipping bound. Normally, you set it to be the sensitivity $\\Delta_2^{(f)}$ of function $f$ that aggregates on the dataset. But in our context of FL training, the function in question is the one that computes the gradients. Main problem with this is that the output gradient can be arbitrarily big, so the sensitiviy is in theory infinite. <br>\n",
    "We need to figure out ourselves how to pick a good value for clipping bound."
   ]
  },
  {
   "cell_type": "code",
   "execution_count": 4,
   "metadata": {},
   "outputs": [],
   "source": [
    "# import math\n",
    "# relative_noise_stddev = 2 * math.log(1.25 / delta) * 1/(epsilon**2)"
   ]
  },
  {
   "cell_type": "markdown",
   "metadata": {},
   "source": [
    "PLD stands for privacy loss distribution.\n",
    "A privacy accountant serves the purpose of reducing privacy leakage that is incurred from accessing the same data over the span of several central FL iterations.\n",
    "As a result, it should give stronger privacy. It is based on the composability of Differential Privacy.\n",
    "\n",
    "If you wish to use a privacy accountant attached to your DP mechanism, then you may uncomment the following code cell and then add `pld_central_privacy` as an element in `postprocessors` variable, which is found in the section 'Setting up the model'"
   ]
  },
  {
   "cell_type": "markdown",
   "metadata": {},
   "source": [
    "A privacy accountant needs the following parameters when initialized:\n",
    "- `num_compositions: int`: that is the total number of central iterations in FL training.\n",
    "- `sampling_probability: float`: the probability that a user is chosen to be part of cohorts in a given iteration, i.e. `cohort_size / population`\n",
    "- `mechanism: str`: specifies which noise mechanism to use. `'gaussian'` or `'laplace'` (according to source code, these are the only valid arguments).\n",
    "- `epsilon: Optional[float]`: your desired DP parameter of your choice.\n",
    "- `delta: Optional[float]`: your desired DP parameter of your choice.\n",
    "- `noise_scale: float = 1.0`: I think this is multiplied on the sampled noise and the result is added to the gradient. By default, it is set to 1.0 and I think it would be best to not meddle with it.\n",
    "\n",
    "Regarding to `epsilon` and `delta`, the privacy accountant will strive to apply the chosen `mechanism` during training while the privacy loss stays within the two privacy parameters. So `epsilon` and `delta` are our privacy budget that we choose freely."
   ]
  },
  {
   "cell_type": "markdown",
   "metadata": {},
   "source": [
    "## Privacy Loss Distribution Accountant\n",
    "\n",
    "This one was from the `pfl-research` tutorial: https://colab.research.google.com/github/apple/pfl-research/blob/develop/tutorials/Introduction%20to%20Differential%20Privacy%20with%20Federated%20Learning.ipynb#scrollTo=o9o_TZL3JUp9"
   ]
  },
  {
   "cell_type": "code",
   "execution_count": 5,
   "metadata": {},
   "outputs": [],
   "source": [
    "# # define a Gaussian DP mechanism using the PLD privacy accountant\n",
    "# # WARNING: it takes a while for the gaussian_moments_accountant mechanism to be instantiated\n",
    "\n",
    "# from pfl.privacy import (PLDPrivacyAccountant, CentrallyAppliedPrivacyMechanism, GaussianMechanism, LocalPrivacyMechanism)\n",
    "\n",
    "# # define the PLD privacy accountant, which will use the Gaussian noise mechanism\n",
    "# pld_accountant = PLDPrivacyAccountant(\n",
    "#     num_compositions=num_epochs,\n",
    "#     sampling_probability=sampling_probability,\n",
    "#     mechanism='gaussian',\n",
    "#     epsilon=epsilon,\n",
    "#     delta=delta)\n",
    "\n",
    "# # instantiate a Gaussian noise mechanism using the privacy accountant\n",
    "# pld_gaussian_noise_mechanism = GaussianMechanism.from_privacy_accountant(\n",
    "#     accountant=pld_accountant, clipping_bound=clipping_bound)\n",
    "\n",
    "# # wrap the noise mechanism with CentrallyAppliedPrivacyMechanism to make it a central privacy mechanism\n",
    "# pld_central_privacy = CentrallyAppliedPrivacyMechanism(pld_gaussian_noise_mechanism)"
   ]
  },
  {
   "cell_type": "markdown",
   "metadata": {},
   "source": [
    "## Renyi Differential Privacy Accountant\n",
    "\n",
    "Hannah recommends this accountant as a starter on involving DP."
   ]
  },
  {
   "cell_type": "code",
   "execution_count": 6,
   "metadata": {},
   "outputs": [],
   "source": [
    "# rdp_accountant = RDPPrivacyAccountant(\n",
    "#     num_compositions=central_num_iterations,\n",
    "#     sampling_probability=sampling_probability,\n",
    "#     mechanism='gaussian',\n",
    "#     epsilon=epsilon,\n",
    "#     delta=delta\n",
    "# )\n",
    "\n",
    "# rdp_gaussian_noise_mechanism = GaussianMechanism.from_privacy_accountant(\n",
    "#     accountant=rdp_accountant, clipping_bound=clipping_bound)\n",
    "\n",
    "# # You then add this to the 'postprocessors' array instead of pld_central_privacy.\n",
    "# rdp_central_privacy = CentrallyAppliedPrivacyMechanism(rdp_gaussian_noise_mechanism)"
   ]
  },
  {
   "cell_type": "markdown",
   "metadata": {},
   "source": [
    "## Define a Local DP mechanism"
   ]
  },
  {
   "cell_type": "markdown",
   "metadata": {},
   "source": [
    "https://apple.github.io/pfl-research/reference/privacy.html#pfl.privacy.gaussian_mechanism.GaussianMechanism"
   ]
  },
  {
   "cell_type": "markdown",
   "metadata": {},
   "source": [
    "Below is an attempt to define our own custom DP mechanism."
   ]
  },
  {
   "cell_type": "code",
   "execution_count": 7,
   "metadata": {},
   "outputs": [],
   "source": [
    "# from pfl.metrics import Metrics\n",
    "\n",
    "# class LocallyAppliedPrivacyMechanism(LocalPrivacyMechanism):\n",
    "\n",
    "#     def privatize(self, statistics, name_formatting_fn=..., seed = None):\n",
    "#         # TODO: Implement actual privatization for local DP\n",
    "#         # TODO: Sample some noise (Gaussian: parameters depend on privacy parameters)\n",
    "#         gaussian_mechanism = GaussianMechanism(clipping_bound=clipping_bound, \n",
    "#                                                relative_noise_stddev=relative_noise_stddev)\n",
    "#         noisy_statistics, metrics = gaussian_mechanism.add_noise(statistics=statistics, \n",
    "#                                      cohort_size=cohort_size, \n",
    "#                                      name_formatting_fn=name_formatting_fn)\n",
    "#         # TODO: Add the noise to statistics then send it\n",
    "#         return noisy_statistics, metrics"
   ]
  },
  {
   "cell_type": "markdown",
   "metadata": {},
   "source": [
    "Alternatively, we can try to use the implementation of privacy mechanisms that already exist in `pfl` module."
   ]
  },
  {
   "cell_type": "code",
   "execution_count": 8,
   "metadata": {},
   "outputs": [],
   "source": [
    "from pfl.privacy import GaussianMechanism, LaplaceMechanism\n"
   ]
  },
  {
   "cell_type": "markdown",
   "metadata": {},
   "source": [
    "# Define the model"
   ]
  },
  {
   "cell_type": "code",
   "execution_count": 9,
   "metadata": {},
   "outputs": [],
   "source": [
    "import torch.nn as nn\n",
    "import torch.nn.functional as F\n",
    "from typing import Dict, Optional\n",
    "from pfl.metrics import Weighted\n",
    "\n",
    "loss_fn = torch.nn.CrossEntropyLoss()\n",
    "\n",
    "class Net(nn.Module):\n",
    "    def __init__(self):\n",
    "        super(Net, self).__init__()\n",
    "        self.conv1 = nn.Conv2d(3, 32, kernel_size=3, padding=1)\n",
    "        self.conv2 = nn.Conv2d(32, 64, kernel_size=3, padding=1)\n",
    "        self.conv3 = nn.Conv2d(64, 128, kernel_size=3, padding=1)\n",
    "        \n",
    "        self.pool = nn.MaxPool2d(2, 2)\n",
    "        self.dropout = nn.Dropout(0.3)\n",
    "        \n",
    "        self.fc1 = nn.Linear(128 * 4 * 4, 256)  # Adjusted for CIFAR-10\n",
    "        self.fc2 = nn.Linear(256, 128)\n",
    "        self.fc3 = nn.Linear(128, 10)\n",
    "        \n",
    "        self.batch_norm1 = nn.BatchNorm2d(32)\n",
    "        self.batch_norm2 = nn.BatchNorm2d(64)\n",
    "        self.batch_norm3 = nn.BatchNorm2d(128)\n",
    "\n",
    "    def forward(self, x):\n",
    "        x = self.pool(F.relu(self.batch_norm1(self.conv1(x))))\n",
    "        x = self.pool(F.relu(self.batch_norm2(self.conv2(x))))\n",
    "        x = self.pool(F.relu(self.batch_norm3(self.conv3(x))))\n",
    "        \n",
    "        x = torch.flatten(x, 1)  # Flatten feature maps\n",
    "        x = F.relu(self.fc1(x))\n",
    "        x = self.dropout(x)\n",
    "        x = F.relu(self.fc2(x))\n",
    "        x = self.dropout(x)\n",
    "        return self.fc3(x)\n",
    "    \n",
    "\n",
    "    def loss(self, inputs: torch.Tensor, targets: torch.Tensor, eval: bool = False) -> torch.Tensor:\n",
    "        self.eval() if eval else self.train()\n",
    "        return loss_fn(self(inputs), targets)\n",
    "\n",
    "    @torch.no_grad()\n",
    "    def metrics(self,\n",
    "                inputs: torch.Tensor,\n",
    "                targets: torch.Tensor,\n",
    "                eval: bool = True) -> Dict[str, Weighted]:\n",
    "        self.eval() if eval else self.train()\n",
    "        prediction = self(inputs)\n",
    "        logits = torch.argmax(prediction, dim=1)\n",
    "        num_samples = len(inputs)\n",
    "        # print(f\"num_samples: {num_samples}\")\n",
    "        # print(f'targets: {targets}')\n",
    "        # print(f'targets shape: {targets.shape}')\n",
    "        # print(f'logits: {logits}')\n",
    "        # print(f'logits shape: {logits.shape}')\n",
    "        # print(f'prediction: {prediction}')\n",
    "        # print(f'prediction shape: {prediction.shape}')\n",
    "        # row_indices = torch.arange(targets.size(0))\n",
    "        # correct_vector = targets[row_indices,logits]\n",
    "        # print(f'correct_vector: {correct_vector}')\n",
    "        # print(f'correct_vector shape: {correct_vector.shape}')\n",
    "\n",
    "        # temp = torch.eq(logits, targets)\n",
    "        # correct = torch.sum(correct_vector)\n",
    "\n",
    "        # loss = loss_fn(prediction, targets).item()\n",
    "\n",
    "        # Co-pilot fix\n",
    "        if targets.ndim > 1:\n",
    "            targets_indices = torch.argmax(targets, dim=1)\n",
    "        else:\n",
    "            targets_indices = targets\n",
    "        correct = (logits == targets_indices).sum().item()\n",
    "        loss = loss_fn(prediction, targets_indices).item()\n",
    "        \n",
    "        return {\n",
    "            \"loss\": Weighted(loss, num_samples),\n",
    "            \"accuracy\": Weighted(correct, num_samples)\n",
    "        }\n",
    "\n",
    "\n",
    "pytorch_model = Net()\n",
    "\n",
    "\n",
    "\n",
    "\n",
    "#pytorch_model.loss = loss\n",
    "#pytorch_model.metrics = metrics\n",
    "\n",
    "#pytorch_model.to(device)"
   ]
  },
  {
   "cell_type": "code",
   "execution_count": 10,
   "metadata": {},
   "outputs": [],
   "source": [
    "# Alternative model from Ruben\n",
    "class Net1(nn.Module):\n",
    "    def __init__(self):\n",
    "        super().__init__()\n",
    "        self.conv1 = nn.Conv2d(3, 64,  kernel_size=5, padding=2)   # 4 800 + 64 = 4 864\n",
    "        self.conv2 = nn.Conv2d(64,128, kernel_size=5, padding=2)   # 204 800 + 128 = 204 928\n",
    "        self.pool  = nn.MaxPool2d(2)                               # keeps code tidy\n",
    "        self.fc1   = nn.Linear(128*6*6, 192)                       # 884 736 + 192\n",
    "        self.fc2   = nn.Linear(192,  64)                           # 12 288 + 64\n",
    "        self.out   = nn.Linear(64,   10)                           # 640 + 10\n",
    "        # ≈1 107 700 trainable parameters in total\n",
    "\n",
    "    def forward(self, x):\n",
    "        x = self.pool(F.relu(self.conv1(x)))   # 24→12\n",
    "        x = self.pool(F.relu(self.conv2(x)))   # 12→6\n",
    "        x = torch.flatten(x, 1)                # 128 × 6 × 6 = 4 608 features\n",
    "        x = F.relu(self.fc1(x))\n",
    "        x = F.relu(self.fc2(x))\n",
    "        return self.out(x)\n",
    "    \n",
    "    def loss(self, inputs: torch.Tensor, targets: torch.Tensor, eval: bool = False) -> torch.Tensor:\n",
    "        self.eval() if eval else self.train()\n",
    "        return loss_fn(self(inputs), targets)\n",
    "\n",
    "    @torch.no_grad()\n",
    "    def metrics(self,\n",
    "                inputs: torch.Tensor,\n",
    "                targets: torch.Tensor,\n",
    "                eval: bool = True) -> Dict[str, Weighted]:\n",
    "        self.eval() if eval else self.train()\n",
    "        prediction = self(inputs)\n",
    "        logits = torch.argmax(prediction, dim=1)\n",
    "        num_samples = len(inputs)\n",
    "        if targets.ndim > 1:\n",
    "            targets_indices = torch.argmax(targets, dim=1)\n",
    "        else:\n",
    "            targets_indices = targets\n",
    "        correct = (logits == targets_indices).sum().item()\n",
    "        loss = loss_fn(prediction, targets_indices).item()\n",
    "        \n",
    "        return {\n",
    "            \"loss\": Weighted(loss, num_samples),\n",
    "            \"accuracy\": Weighted(correct, num_samples)\n",
    "        }"
   ]
  },
  {
   "cell_type": "code",
   "execution_count": 11,
   "metadata": {},
   "outputs": [],
   "source": [
    "def create_pytorch_model():\n",
    "    pytorch_model = Net1().to(device)\n",
    "    pytorch_model.loss = pytorch_model.loss\n",
    "    pytorch_model.metrics = pytorch_model.metrics\n",
    "    return pytorch_model"
   ]
  },
  {
   "cell_type": "markdown",
   "metadata": {},
   "source": [
    "## Debugging cell"
   ]
  },
  {
   "cell_type": "code",
   "execution_count": 12,
   "metadata": {},
   "outputs": [],
   "source": [
    "# input = all_features[0:2]\n",
    "# print(f'input: {input.shape}')\n",
    "# target = all_labels[0:2]\n",
    "# print(f'target: {target.shape}')\n",
    "# pytorch_model.metrics(input, target)"
   ]
  },
  {
   "cell_type": "markdown",
   "metadata": {},
   "source": [
    "# Preprocess the data"
   ]
  },
  {
   "cell_type": "markdown",
   "metadata": {},
   "source": [
    "## Load the data"
   ]
  },
  {
   "cell_type": "code",
   "execution_count": 13,
   "metadata": {},
   "outputs": [],
   "source": [
    "from pfl.data.dataset import Dataset\n",
    "import torchvision\n",
    "import torchvision.transforms as transforms\n"
   ]
  },
  {
   "cell_type": "code",
   "execution_count": 14,
   "metadata": {},
   "outputs": [],
   "source": [
    "transform = transforms.Compose(\n",
    "    [transforms.ToTensor(), \n",
    "     transforms.Normalize((0.4914, 0.4822, 0.4465), (0.247, 0.243, 0.261))])\n",
    "\n",
    "batch_size = 32\n",
    "\n",
    "trainset = torchvision.datasets.CIFAR10(root='./data', train=True,\n",
    "                                        download=True, transform=transform)\n",
    "trainloader = torch.utils.data.DataLoader(trainset, batch_size=batch_size,\n",
    "                                          shuffle=True, num_workers=2)\n",
    "\n",
    "testset = torchvision.datasets.CIFAR10(root='./data', train=False,\n",
    "                                       download=True, transform=transform)\n",
    "testloader = torch.utils.data.DataLoader(testset, batch_size=batch_size,\n",
    "                                         shuffle=False, num_workers=2)\n",
    "\n",
    "classes = ('plane', 'car', 'bird', 'cat',\n",
    "           'deer', 'dog', 'frog', 'horse', 'ship', 'truck')"
   ]
  },
  {
   "cell_type": "markdown",
   "metadata": {},
   "source": [
    "## Reformat the data"
   ]
  },
  {
   "cell_type": "code",
   "execution_count": 15,
   "metadata": {},
   "outputs": [],
   "source": [
    "def dataloader_to_tensor_pair(dataloader):\n",
    "    \"\"\"\n",
    "    Converts a PyTorch DataLoader to a pair of tensors (inputs, targets).\n",
    "    Args:\n",
    "        dataloader (torch.utils.data.DataLoader): The DataLoader to convert.\n",
    "    \n",
    "    Returns:\n",
    "        tuple: A tuple containing two tensors: inputs and targets.\"\"\"\n",
    "    inputs, targets = [], []\n",
    "    i = 0\n",
    "    for feature, label in dataloader:\n",
    "        print(f'Iteration {i}')\n",
    "        i += 1\n",
    "        inputs.append(feature)\n",
    "        targets.append(label)\n",
    "    return torch.cat(inputs, dim=0), torch.cat(targets, dim=0)"
   ]
  },
  {
   "cell_type": "code",
   "execution_count": 16,
   "metadata": {},
   "outputs": [],
   "source": [
    "# Split the training dataloader into features and labels\n",
    "train_all_features = []\n",
    "train_all_labels = []\n",
    "\n",
    "for features, labels in trainloader:\n",
    "    train_all_features.append(features)\n",
    "    train_all_labels.append(labels)\n",
    "\n",
    "# Convert to tensors if needed\n",
    "train_all_features = torch.cat(train_all_features, dim=0).to(device)\n",
    "train_all_labels = torch.cat(train_all_labels, dim=0).to(device)"
   ]
  },
  {
   "cell_type": "code",
   "execution_count": 17,
   "metadata": {},
   "outputs": [],
   "source": [
    "# print(train_all_features.shape)\n",
    "# print(train_all_labels.shape)"
   ]
  },
  {
   "cell_type": "code",
   "execution_count": 18,
   "metadata": {},
   "outputs": [],
   "source": [
    "# Convert labels to one-hot encoding\n",
    "# one_hots = np.eye(10)\n",
    "# train_all_labels = one_hots[train_all_labels].squeeze()"
   ]
  },
  {
   "cell_type": "code",
   "execution_count": 19,
   "metadata": {},
   "outputs": [],
   "source": [
    "# Split the validation dataloader into features and labels\n",
    "val_all_features = []\n",
    "val_all_labels = []\n",
    "\n",
    "for features, labels in testloader:\n",
    "    val_all_features.append(features)\n",
    "    val_all_labels.append(labels)\n",
    "\n",
    "# Convert to tensors if needed\n",
    "val_all_features = torch.cat(val_all_features, dim=0).to(device)\n",
    "val_all_labels = torch.cat(val_all_labels, dim=0).to(device)\n"
   ]
  },
  {
   "cell_type": "code",
   "execution_count": 20,
   "metadata": {},
   "outputs": [],
   "source": [
    "# print(val_all_features.shape)\n",
    "# print(val_all_labels.shape)"
   ]
  },
  {
   "cell_type": "code",
   "execution_count": 21,
   "metadata": {},
   "outputs": [],
   "source": [
    "# Convert the labels to one-hot encoding\n",
    "# one_hots = np.eye(10)\n",
    "# val_all_labels = one_hots[val_all_labels].squeeze()"
   ]
  },
  {
   "cell_type": "code",
   "execution_count": 22,
   "metadata": {},
   "outputs": [
    {
     "name": "stdout",
     "output_type": "stream",
     "text": [
      "50000\n",
      "10000\n"
     ]
    }
   ],
   "source": [
    "n_samples = len(trainloader.dataset)\n",
    "print(n_samples)\n",
    "val_n_samples = len(testloader.dataset)\n",
    "print(val_n_samples)"
   ]
  },
  {
   "cell_type": "code",
   "execution_count": 23,
   "metadata": {},
   "outputs": [],
   "source": [
    "# Central data used for evaluating the central model at the server at each central iteration\n",
    "# Just consists of the validation data\n",
    "central_data = Dataset(raw_data=[val_all_features, val_all_labels])"
   ]
  },
  {
   "cell_type": "markdown",
   "metadata": {},
   "source": [
    "# Alternative preprocessing of data using Ruben's solution"
   ]
  },
  {
   "cell_type": "code",
   "execution_count": 24,
   "metadata": {},
   "outputs": [],
   "source": [
    "from typing import Any\n",
    "from torchvision import transforms as T\n",
    "\n",
    "class PerImageWhitening:\n",
    "    def __call__(self, x):\n",
    "        return (x - x.mean(dim=(1, 2), keepdim=True)) / (x.std(dim=(1, 2), keepdim=True) + 1e-5)\n",
    "\n",
    "# McMahan's preprocessing on the dataset\n",
    "def cifar_transforms(train: bool):\n",
    "    aug = [\n",
    "        T.RandomCrop(24),\n",
    "        T.RandomHorizontalFlip(),\n",
    "        T.ColorJitter(brightness=0.2, contrast=0.2),\n",
    "    ] if train else [T.CenterCrop(24)]\n",
    "\n",
    "    aug += [\n",
    "        T.ToTensor(),\n",
    "        # per‑image whitening (zero‑mean / unit‑var)\n",
    "        PerImageWhitening()\n",
    "    ]\n",
    "    return T.Compose(aug)"
   ]
  },
  {
   "cell_type": "markdown",
   "metadata": {},
   "source": [
    "Load the data using McMahan's transformers for preprocessing."
   ]
  },
  {
   "cell_type": "code",
   "execution_count": 28,
   "metadata": {},
   "outputs": [],
   "source": [
    "from pathlib import Path\n",
    "from torchvision import datasets\n",
    "from torch.utils.data import DataLoader\n",
    "\n",
    "def get_full_dataloaders(batch_size: int = 32, subset_size: bool = True):\n",
    "    \"\"\"Standard, non‑partitioned CIFAR‑10 train/test loaders.\"\"\"\n",
    "    train_set = datasets.CIFAR10(root='./data', train=True,\n",
    "                                 download=True, transform=cifar_transforms(True))\n",
    "    test_set  = datasets.CIFAR10(root='./data', train=False,\n",
    "                                 download=True, transform=cifar_transforms(False))\n",
    "\n",
    "    if subset_size:\n",
    "        train_set = torch.utils.data.Subset(train_set, range(1000))\n",
    "        test_set = torch.utils.data.Subset(test_set, range(int(1000 * 0.2)))\n",
    "\n",
    "    train_loader = DataLoader(train_set, batch_size=batch_size,\n",
    "                              shuffle=True, num_workers=2, pin_memory=True)\n",
    "    test_loader  = DataLoader(test_set,  batch_size=batch_size,\n",
    "                              shuffle=False, num_workers=2, pin_memory=True)\n",
    "    return train_loader, test_loader\n"
   ]
  },
  {
   "cell_type": "code",
   "execution_count": null,
   "metadata": {},
   "outputs": [],
   "source": [
    "print(\"Calling get_full_dataloaders() to get the train and test loaders...\")\n",
    "train_loader, test_loader = get_full_dataloaders()\n",
    "\n",
    "print(\"Calling dataloader_to_tensor_pair() to convert the train loader to tensors...\")\n",
    "train_features, train_labels = dataloader_to_tensor_pair(train_loader)\n",
    "print(\"Calling dataloader_to_tensor_pair() to convert the test loader to tensors...\")\n",
    "val_features, val_labels = dataloader_to_tensor_pair(test_loader)\n",
    "\n",
    "central_data = Dataset(raw_data=[val_features, val_labels])"
   ]
  },
  {
   "cell_type": "markdown",
   "metadata": {},
   "source": [
    "# Train the model"
   ]
  },
  {
   "cell_type": "markdown",
   "metadata": {},
   "source": [
    "## Processing the data"
   ]
  },
  {
   "cell_type": "markdown",
   "metadata": {},
   "source": [
    "There are two ways of creating the federated dataset. You create an artificial federated dataset or just a normal federated dataset.\n",
    "\n",
    "The difference between the two is that you want to use artificial federated dataset if your dataset does not provide user identifiers. These user identifiers are used to create an association between a user (participating in FL training) and their local dataset.\n",
    "\n",
    "An example of a dataset that lacks user identifier is the CIFAR10 dataset. Therefore, it would be natural to instantiate an `ArtificialFederatedDataset`. One issue with this class from the `pfl` module is that you do not have any control over how many users there are in the dataset. The way `ArtificialFederatedDataset` works is that whenever you request a user dataset from it, the federated dataset samples a random subset of the original dataset and returns this subset on demand. This subset is an artificial user dataset <br>\n",
    "On the other hand, you can decide how many data examples an artificial user by providing a callable parameter `sample_dataset_len`. It could be a lambda function that returns a constant, like 10 for instance. This means that every artificial user dataset will contain 10 data examples. Or you may do something a bit more complicated and sample a random number from a distribution of your choice. Then not all artificial user datasets will have the same number of examples."
   ]
  },
  {
   "cell_type": "markdown",
   "metadata": {},
   "source": [
    "### Creating artificial federated dataset"
   ]
  },
  {
   "cell_type": "code",
   "execution_count": null,
   "metadata": {},
   "outputs": [],
   "source": [
    "from pfl.data import ArtificialFederatedDataset, get_data_sampler"
   ]
  },
  {
   "cell_type": "code",
   "execution_count": null,
   "metadata": {},
   "outputs": [],
   "source": [
    "# # Create data sampler to sample each artificial user dataset as a random subset of the original dataset\n",
    "# data_sampler = get_data_sampler(sample_type=\"minimize_reuse\", max_bound=n_samples)\n",
    "\n",
    "# # Create an artificial federated dataset where each user dataset has constant size such that there are 10 users to distribute among\n",
    "# sample_dataset_len = lambda: int(n_samples/10)\n",
    "# federated_dataset = ArtificialFederatedDataset.from_slices(\n",
    "#     data=[all_features, all_labels], \n",
    "#     data_sampler=data_sampler,\n",
    "#     sample_dataset_len=sample_dataset_len,\n",
    "# )"
   ]
  },
  {
   "cell_type": "code",
   "execution_count": null,
   "metadata": {},
   "outputs": [],
   "source": [
    "# val_data_sampler = get_data_sampler(sample_type=\"minimize_reuse\", max_bound=val_n_samples)\n",
    "\n",
    "# # Create an artificial federated dataset where each user dataset has constant size such that there are of 10 users to distribute among\n",
    "# val_sample_dataset_len = lambda: int(val_n_samples/10)\n",
    "# val_federated_dataset = ArtificialFederatedDataset.from_slices(\n",
    "#     data=[val_all_features, val_all_labels],\n",
    "#     data_sampler=val_data_sampler,\n",
    "#     sample_dataset_len=val_sample_dataset_len\n",
    "# )"
   ]
  },
  {
   "cell_type": "markdown",
   "metadata": {},
   "source": [
    "### Creating a federated dataset\n",
    "\n",
    "For the purpose of being able to control the actual number of users, which `ArtificialFederatedDataset` does not allow"
   ]
  },
  {
   "cell_type": "markdown",
   "metadata": {},
   "source": [
    "<strong>Reflection on designing `FederatedDataset`</strong>\n",
    "\n",
    "How many datapoints should each user have?\n",
    "- Every user has 50000/100 = 500 datapoints (easy approach)\n",
    "- Alternatively, do some randomization on how many datapoints each user has (harder approach)\n",
    "\n",
    "Should we use the exact same federated dataset in every FL experiment?\n",
    "- The datapoint will be allocated to the same user in every experiment. This means that user 0 will have the exact same datapoints. User 1 will also have the exact same datapoints and so on... for every single time we run our experiment. This means our federated dataset will be exactly the same every time we run our experiment.\n",
    "\n",
    "We decided to assume that all users have equally many datapoints and they will each possess the same datapoints every time we run our experiments."
   ]
  },
  {
   "cell_type": "code",
   "execution_count": null,
   "metadata": {},
   "outputs": [],
   "source": [
    "from pfl.data import get_user_sampler, FederatedDataset"
   ]
  },
  {
   "cell_type": "markdown",
   "metadata": {},
   "source": [
    "#### Training set (Fixed)\n",
    "I must first decide how many users there are and then the method to how the data is distributed among the users."
   ]
  },
  {
   "cell_type": "code",
   "execution_count": null,
   "metadata": {},
   "outputs": [],
   "source": [
    "# # Hyperparameter\n",
    "# user_dataset_size = int(n_samples / n_clients)\n",
    "# print(f'datapoints per user: {user_dataset_size}')\n",
    "\n",
    "# # Maps user id to user dataset\n",
    "# user_id_to_data = {}\n",
    "\n",
    "# # Assign each user a dataset\n",
    "# for i in range(n_clients):\n",
    "#     start = i*user_dataset_size\n",
    "#     end = start+user_dataset_size\n",
    "#     features = train_all_features[start:end]\n",
    "#     labels = train_all_labels[start:end]\n",
    "#     user_id_to_data[i] = (features, labels)\n",
    "\n",
    "# user_ids = list(user_id_to_data.keys())\n",
    "\n",
    "# user_sampler = get_user_sampler(sample_type=\"random\", user_ids=user_ids)"
   ]
  },
  {
   "cell_type": "code",
   "execution_count": null,
   "metadata": {},
   "outputs": [],
   "source": [
    "# federated_dataset = FederatedDataset.from_slices(\n",
    "#     data=user_id_to_data,\n",
    "#     user_sampler=user_sampler)"
   ]
  },
  {
   "cell_type": "code",
   "execution_count": null,
   "metadata": {},
   "outputs": [],
   "source": [
    "# Encapsulate the above code in a function\n",
    "\n",
    "def create_fixed_federated_dataset(\n",
    "    n_clients: int,\n",
    "    user_dataset_size: int,\n",
    "    train_all_features: torch.Tensor,\n",
    "    train_all_labels: torch.Tensor\n",
    ") -> FederatedDataset:\n",
    "    \"\"\"\n",
    "    Create a fixed federated dataset with a given number of clients and dataset size.\n",
    "    \n",
    "    Args:\n",
    "        n_clients (int): Number of clients.\n",
    "        user_dataset_size (int): Size of each user's dataset.\n",
    "        train_all_features (torch.Tensor): All training features.\n",
    "        train_all_labels (torch.Tensor): All training labels.\n",
    "        \n",
    "    Returns:\n",
    "        FederatedDataset: The created federated dataset.\n",
    "    \"\"\"\n",
    "    user_id_to_data = {}\n",
    "    \n",
    "    for i in range(n_clients):\n",
    "        start = i * user_dataset_size\n",
    "        end = start + user_dataset_size\n",
    "        features = train_all_features[start:end]\n",
    "        labels = train_all_labels[start:end]\n",
    "        user_id_to_data[i] = (features, labels)\n",
    "\n",
    "    user_ids = list(user_id_to_data.keys())\n",
    "    user_sampler = get_user_sampler(sample_type=\"random\", user_ids=user_ids)\n",
    "\n",
    "    return FederatedDataset.from_slices(\n",
    "        data=user_id_to_data,\n",
    "        user_sampler=user_sampler\n",
    "    )"
   ]
  },
  {
   "cell_type": "markdown",
   "metadata": {},
   "source": [
    "#### Training set (Random)"
   ]
  },
  {
   "cell_type": "markdown",
   "metadata": {},
   "source": [
    "Testing cells for shuffling torch tensors"
   ]
  },
  {
   "cell_type": "code",
   "execution_count": null,
   "metadata": {},
   "outputs": [],
   "source": [
    "# tensor = torch.tensor([\n",
    "#     [1, 2, 3],\n",
    "#     [4, 5, 6],\n",
    "#     [7, 8, 9]\n",
    "# ])"
   ]
  },
  {
   "cell_type": "code",
   "execution_count": null,
   "metadata": {},
   "outputs": [],
   "source": [
    "# rand_indices = torch.randperm(tensor.size(0))\n",
    "# rand_indices"
   ]
  },
  {
   "cell_type": "code",
   "execution_count": null,
   "metadata": {},
   "outputs": [],
   "source": [
    "# shuffled = tensor[rand_indices]\n",
    "# shuffled"
   ]
  },
  {
   "cell_type": "markdown",
   "metadata": {},
   "source": [
    "Actual creation of random `FederatedDataset`"
   ]
  },
  {
   "cell_type": "code",
   "execution_count": null,
   "metadata": {},
   "outputs": [],
   "source": [
    "# # Hyperparameter\n",
    "# user_dataset_size = int(n_samples / n_clients)\n",
    "# print(f'datapoints per user: {user_dataset_size}')\n",
    "\n",
    "# # Maps user id to user dataset\n",
    "# user_id_to_data = {}\n",
    "\n",
    "# # Randomly shuffle the dataset\n",
    "# rand_indices = torch.randperm(n_samples)\n",
    "# shuffled_features = train_all_features[rand_indices]\n",
    "# shuffled_labels = train_all_labels[rand_indices]\n",
    "\n",
    "# # Assign each user a dataset\n",
    "# for i in range(n_clients):\n",
    "#     start = i*user_dataset_size\n",
    "#     end = start+user_dataset_size\n",
    "#     features = shuffled_features[start:end]\n",
    "#     labels = shuffled_labels[start:end]\n",
    "#     user_id_to_data[i] = (features, labels)\n",
    "\n",
    "# user_ids = list(user_id_to_data.keys())\n",
    "\n",
    "# user_sampler = get_user_sampler(sample_type=\"random\", user_ids=user_ids)"
   ]
  },
  {
   "cell_type": "code",
   "execution_count": null,
   "metadata": {},
   "outputs": [],
   "source": [
    "# federated_dataset = FederatedDataset.from_slices(\n",
    "#     data=user_id_to_data,\n",
    "#     user_sampler=user_sampler)"
   ]
  },
  {
   "cell_type": "code",
   "execution_count": null,
   "metadata": {},
   "outputs": [],
   "source": [
    "# Encapsulate the above code in a function\n",
    "\n",
    "def create_random_federated_dataset(\n",
    "    n_clients: int,\n",
    "    user_dataset_size: int,\n",
    "    train_all_features: torch.Tensor,\n",
    "    train_all_labels: torch.Tensor\n",
    ") -> FederatedDataset:\n",
    "    \"\"\"\n",
    "    Create a random federated dataset with a given number of clients and dataset size.\n",
    "    \n",
    "    Args:\n",
    "        n_clients (int): Number of clients.\n",
    "        user_dataset_size (int): Size of each user's dataset.\n",
    "        train_all_features (torch.Tensor): All training features.\n",
    "        train_all_labels (torch.Tensor): All training labels.\n",
    "        \n",
    "    Returns:\n",
    "        FederatedDataset: The created federated dataset.\n",
    "    \"\"\"\n",
    "    user_id_to_data = {}\n",
    "    \n",
    "    # Randomly shuffle the dataset\n",
    "    rand_indices = torch.randperm(train_all_features.size(0))\n",
    "    shuffled_features = train_all_features[rand_indices]\n",
    "    shuffled_labels = train_all_labels[rand_indices]\n",
    "\n",
    "    # Assign each user a dataset\n",
    "    for i in range(n_clients):\n",
    "        start = i * user_dataset_size\n",
    "        end = start + user_dataset_size\n",
    "        features = shuffled_features[start:end]\n",
    "        labels = shuffled_labels[start:end]\n",
    "        user_id_to_data[i] = (features, labels)\n",
    "\n",
    "    user_ids = list(user_id_to_data.keys())\n",
    "    user_sampler = get_user_sampler(sample_type=\"random\", user_ids=user_ids)\n",
    "\n",
    "    return FederatedDataset.from_slices(\n",
    "        data=user_id_to_data,\n",
    "        user_sampler=user_sampler\n",
    "    )"
   ]
  },
  {
   "cell_type": "markdown",
   "metadata": {},
   "source": [
    "#### Validation set"
   ]
  },
  {
   "cell_type": "code",
   "execution_count": null,
   "metadata": {},
   "outputs": [],
   "source": [
    "from typing import Tuple, Iterable\n",
    "from pfl.data.dataset import AbstractDataset\n",
    "from pfl.data.federated_dataset import FederatedDatasetBase\n",
    "\n",
    "# Define my own custom Federated Dataset class for validation data\n",
    "\n",
    "\"\"\"\n",
    "    I did not see any reason to distribute validation data among users.\n",
    "    Unfortunately, the pfl module does not provide a fitting implementation of\n",
    "    a FederatedDataset for validation data. Therefore, I created my own class\n",
    "    that simply returns the validation data as is.\n",
    "\"\"\"\n",
    "class ValidationFederatedDataset(FederatedDatasetBase):\n",
    "\n",
    "    def __init__(self, dataset: Dataset):\n",
    "        self.dataset = dataset\n",
    "\n",
    "    def __next__(self) -> Tuple[AbstractDataset, int]:\n",
    "        return Tuple(self.dataset, 0)\n",
    "    \n",
    "    def get_cohort(self, cohort_size: int) -> Iterable[Tuple[AbstractDataset, int]]:\n",
    "        return [(self.dataset, 0)]\n"
   ]
  },
  {
   "cell_type": "code",
   "execution_count": null,
   "metadata": {},
   "outputs": [],
   "source": [
    "val_federated_dataset = ValidationFederatedDataset(Dataset([val_all_features, val_all_labels]))"
   ]
  },
  {
   "cell_type": "markdown",
   "metadata": {},
   "source": [
    "## Debugging cell"
   ]
  },
  {
   "cell_type": "code",
   "execution_count": null,
   "metadata": {},
   "outputs": [],
   "source": [
    "# import importlib\n",
    "# import pfl.data.dataset\n",
    "\n",
    "# importlib.reload(pfl.data.dataset)\n",
    "\n",
    "# from pfl.data.dataset import Dataset\n",
    "\n",
    "# cohorts = federated_dataset.get_cohort(1)\n",
    "# print(f'cohorts: {cohorts}')\n",
    "# user_dataset, _ = next(cohorts)\n",
    "# print(f'user_dataset: {user_dataset}')\n",
    "# len(user_dataset)"
   ]
  },
  {
   "cell_type": "markdown",
   "metadata": {},
   "source": [
    "## Setting up the model"
   ]
  },
  {
   "cell_type": "code",
   "execution_count": null,
   "metadata": {},
   "outputs": [],
   "source": []
  },
  {
   "cell_type": "code",
   "execution_count": null,
   "metadata": {},
   "outputs": [],
   "source": [
    "# params = [p for p in pytorch_model.parameters() if p.requires_grad]\n",
    "\n",
    "# model = PyTorchModel(pytorch_model, \n",
    "#                      local_optimizer_create=torch.optim.Adam,\n",
    "#                      central_optimizer=torch.optim.Adam(params, lr=0.001, weight_decay=1e-5))"
   ]
  },
  {
   "cell_type": "code",
   "execution_count": null,
   "metadata": {},
   "outputs": [],
   "source": [
    "from pfl.algorithm import FederatedAveraging, NNAlgorithmParams\n",
    "from pfl.callback import CentralEvaluationCallback, AggregateMetricsToDisk\n",
    "from pfl.hyperparam import NNTrainHyperParams, NNEvalHyperParams\n",
    "from pfl.aggregate.simulate import SimulatedBackend\n",
    "\n",
    "\n",
    "# model_train_params = NNTrainHyperParams(\n",
    "#     local_learning_rate=local_learning_rate,\n",
    "#     local_num_epochs=local_num_epochs,\n",
    "#     local_batch_size=local_batch_size)\n",
    "\n",
    "# # Do full-batch evaluation to run faster.\n",
    "# model_eval_params = NNEvalHyperParams(local_batch_size=None)\n",
    "\n",
    "# algorithm_params = NNAlgorithmParams(\n",
    "#     central_num_iterations=central_num_iterations,\n",
    "#     evaluation_frequency=evaluation_frequency,\n",
    "#     train_cohort_size=cohort_size,\n",
    "#     val_cohort_size=1)\n",
    "\n",
    "# pfl_callbacks = [CentralEvaluationCallback(central_data, model_eval_params, evaluation_frequency),\n",
    "#                   AggregateMetricsToDisk(output_path='pfl_training_metrics/metrics.csv')] # Save the metrics to a CSV file\n",
    "\n",
    "# # Add the privacy mechanism to the training process\n",
    "# # If you do not want to add privacy, simply leave 'postprocessors' empty\n",
    "# postprocessors = [rdp_central_privacy]\n",
    "\n",
    "# pfl_simulated_backend = SimulatedBackend(\n",
    "#     training_data=federated_dataset,\n",
    "#     val_data=val_federated_dataset,\n",
    "#     postprocessors=postprocessors\n",
    "# )\n",
    "\n",
    "\n",
    "algorithm = FederatedAveraging()"
   ]
  },
  {
   "cell_type": "markdown",
   "metadata": {},
   "source": [
    "## Run the training"
   ]
  },
  {
   "cell_type": "code",
   "execution_count": null,
   "metadata": {},
   "outputs": [],
   "source": [
    "# pfl_model = algorithm.run(\n",
    "#     backend=pfl_simulated_backend,\n",
    "#     model=model,\n",
    "#     algorithm_params=algorithm_params,\n",
    "#     model_train_params=model_train_params,\n",
    "#     model_eval_params=model_eval_params,\n",
    "#     callbacks=pfl_callbacks,\n",
    "#     send_metrics_to_platform=True)"
   ]
  },
  {
   "cell_type": "markdown",
   "metadata": {},
   "source": [
    "# Plot the metrics"
   ]
  },
  {
   "cell_type": "code",
   "execution_count": null,
   "metadata": {},
   "outputs": [],
   "source": [
    "# import pandas as pd\n",
    "# import matplotlib.pyplot as plt\n",
    "\n",
    "# metrics = pd.read_csv('pfl_training_metrics/metrics.csv')\n",
    "# metrics = metrics.dropna(subset=['Central val | accuracy'])"
   ]
  },
  {
   "cell_type": "code",
   "execution_count": null,
   "metadata": {},
   "outputs": [],
   "source": [
    "# plt.plot(metrics['central_iteration'], metrics['Central val | accuracy'], label='Central Validation Accuracy')\n",
    "# plt.xlabel('Central Iteration')\n",
    "# plt.ylabel('Accuracy')"
   ]
  },
  {
   "cell_type": "markdown",
   "metadata": {},
   "source": [
    "# Experimentation\n",
    "\n",
    "The sections \"Setting up the model\", \"Run the training\" and \"Plot the metrics\" should demonstrate a single instance of a Federated Learning training.\n",
    "\n",
    "However, we as researchers wish to run a particular training several times and take the average of the accuracy of each training instance. The following code should do that."
   ]
  },
  {
   "cell_type": "code",
   "execution_count": null,
   "metadata": {},
   "outputs": [],
   "source": [
    "# Define Gaussian DP mechanisms for central DP guarantees using three different methods\n",
    "\n",
    "n_clients = 8                                  # Number of clients\n",
    "n_samples = len(trainloader.dataset)           # Number of training samples\n",
    "user_dataset_size = int(n_samples / n_clients) # Size of each user's dataset\n",
    "clipping_bound = 0.5                           # Clipping bound for DP\n",
    "epsilon = 2                                    # Epsilon parameter for DP\n",
    "delta = 1e-8                                   # Delta parameter for DP\n",
    "is_central = True                              # Probably delete this line in the future, as it is not used anywhere else in the code.\n",
    "\n",
    "# Other parameters for the training process\n",
    "\n",
    "local_learning_rate = 0.001                    # Learning rate for local training\n",
    "local_num_epochs = 4                           # Number of local epochs for each client\n",
    "local_batch_size = 32                          # Batch size for local training\n",
    "central_num_iterations = 50                    # Number of central iterations\n",
    "evaluation_frequency = 1                       # How often to evaluate the model (in terms of central iterations)\n",
    "cohort_size = 8                                # Number of clients in the cohort\n",
    "sampling_probability = cohort_size / n_clients # Probability of a client being selected as cohort for a given iteration: cohort_size / n_clients\n",
    "\n",
    "# Choose the number of FL training instances\n",
    "no_of_training : int = 5\n",
    "\n",
    "# Choose a name for the training metrics file\n",
    "training_name = \"pfl_centralized_fixed_metrics_test\""
   ]
  },
  {
   "cell_type": "code",
   "execution_count": null,
   "metadata": {},
   "outputs": [],
   "source": [
    "def create_pfl_model():\n",
    "    model = create_pytorch_model()\n",
    "    params = [p for p in model.parameters() if p.requires_grad]\n",
    "    return PyTorchModel(model,\n",
    "                        local_optimizer_create=torch.optim.Adam,\n",
    "                        central_optimizer=torch.optim.Adam(params, lr=local_learning_rate, weight_decay=1e-5))"
   ]
  },
  {
   "cell_type": "code",
   "execution_count": null,
   "metadata": {},
   "outputs": [],
   "source": [
    "'''\n",
    "params = [p for p in pytorch_model.parameters() if p.requires_grad]\n",
    "\n",
    "model = PyTorchModel(pytorch_model, \n",
    "                     local_optimizer_create=torch.optim.Adam,\n",
    "                     central_optimizer=torch.optim.Adam(params, lr=local_learning_rate, weight_decay=1e-5))\n",
    "'''\n",
    "                     \n",
    "model_train_params = NNTrainHyperParams(\n",
    "    local_learning_rate=local_learning_rate,\n",
    "    local_num_epochs=local_num_epochs,\n",
    "    local_batch_size=local_batch_size)\n",
    "\n",
    "# Do full-batch evaluation to run faster.\n",
    "model_eval_params = NNEvalHyperParams(local_batch_size=None)\n",
    "\n",
    "algorithm_params = NNAlgorithmParams(\n",
    "    central_num_iterations=central_num_iterations,\n",
    "    evaluation_frequency=evaluation_frequency,\n",
    "    train_cohort_size=cohort_size,\n",
    "    val_cohort_size=1)"
   ]
  },
  {
   "cell_type": "code",
   "execution_count": null,
   "metadata": {},
   "outputs": [],
   "source": [
    "\n",
    "def run_experiements(no_of_training: int, training_name: str, n_clients: int, user_dataset_size: int, \n",
    "                     is_random_dataset: bool = True, postprocessors: list = []):\n",
    "    \"\"\"\n",
    "\n",
    "    Args:\n",
    "        no_of_training (int): Number of training instances to run.\n",
    "        training_name (str): Name for the training metrics file.\n",
    "        n_clients (int): Number of clients.\n",
    "        user_dataset_size (int): Size of each user's dataset.\n",
    "        is_random_dataset (bool): Whether to use a random dataset or a fixed dataset.\n",
    "        postprocessors (list): List of postprocessors to apply during training. This is used to add the privacy mechanism. By default, there is no privacy mechanism.\n",
    "    \"\"\"\n",
    "\n",
    "    create_federated_dataset = create_random_federated_dataset if is_random_dataset else create_fixed_federated_dataset\n",
    "\n",
    "    for i in range(no_of_training):\n",
    "        # Initialize the model for each training instance\n",
    "        model = create_pfl_model()\n",
    "\n",
    "        # Create a new federated dataset\n",
    "        # Either use create_fixed_federated_dataset or create_random_federated_dataset depending on your needs\n",
    "        federated_dataset = create_federated_dataset(\n",
    "            n_clients=n_clients,\n",
    "            user_dataset_size=user_dataset_size,\n",
    "            train_all_features=train_features,\n",
    "            train_all_labels=train_labels\n",
    "        )\n",
    "\n",
    "        # Create a new validation federated dataset\n",
    "        val_federated_dataset = ValidationFederatedDataset(Dataset(raw_data=[val_features, val_labels]))\n",
    "\n",
    "        pfl_callbacks = [CentralEvaluationCallback(central_data, model_eval_params, evaluation_frequency),\n",
    "                    AggregateMetricsToDisk(output_path=f'experimental_results/{training_name}/metrics_{i}.csv')] # Save the metrics to a CSV file\n",
    "\n",
    "\n",
    "        # Run the training process again with the new datasets\n",
    "        pfl_simulated_backend = SimulatedBackend(\n",
    "            training_data=federated_dataset,\n",
    "            val_data=val_federated_dataset,\n",
    "            postprocessors=postprocessors\n",
    "        )\n",
    "\n",
    "        algorithm.run(\n",
    "            backend=pfl_simulated_backend,\n",
    "            model=model,\n",
    "            algorithm_params=algorithm_params,\n",
    "            model_train_params=model_train_params,\n",
    "            model_eval_params=model_eval_params,\n",
    "            callbacks=pfl_callbacks,\n",
    "            send_metrics_to_platform=True)"
   ]
  },
  {
   "cell_type": "code",
   "execution_count": null,
   "metadata": {},
   "outputs": [],
   "source": [
    "# # This cell is used to define the privacy mechanism for the training process\n",
    "\n",
    "# rdp_accountant = RDPPrivacyAccountant(\n",
    "#     num_compositions=central_num_iterations,\n",
    "#     sampling_probability=sampling_probability,\n",
    "#     mechanism='gaussian',\n",
    "#     epsilon=epsilon,\n",
    "#     delta=delta\n",
    "#     #noise_parameter = 2 * np.log(1.25 / delta) * 1/(epsilon**2)  # Relative noise standard deviation\n",
    "# )\n",
    "\n",
    "# rdp_gaussian_noise_mechanism = GaussianMechanism.from_privacy_accountant(\n",
    "#     accountant=rdp_accountant, clipping_bound=clipping_bound)\n",
    "\n",
    "# # You then add this to the 'postprocessors' array instead of pld_central_privacy.\n",
    "# rdp_central_privacy = CentrallyAppliedPrivacyMechanism(rdp_gaussian_noise_mechanism)"
   ]
  },
  {
   "cell_type": "code",
   "execution_count": null,
   "metadata": {},
   "outputs": [
    {
     "ename": "RuntimeError",
     "evalue": "mat1 and mat2 shapes cannot be multiplied (10000x8192 and 4608x192)",
     "output_type": "error",
     "traceback": [
      "\u001b[1;31m---------------------------------------------------------------------------\u001b[0m",
      "\u001b[1;31mRuntimeError\u001b[0m                              Traceback (most recent call last)",
      "Cell \u001b[1;32mIn[53], line 1\u001b[0m\n\u001b[1;32m----> 1\u001b[0m \u001b[43mrun_experiements\u001b[49m\u001b[43m(\u001b[49m\u001b[43mno_of_training\u001b[49m\u001b[43m,\u001b[49m\u001b[43m \u001b[49m\u001b[43mtraining_name\u001b[49m\u001b[43m,\u001b[49m\u001b[43m \u001b[49m\u001b[43mn_clients\u001b[49m\u001b[43m,\u001b[49m\u001b[43m \u001b[49m\u001b[43muser_dataset_size\u001b[49m\u001b[43m,\u001b[49m\u001b[43m \u001b[49m\n\u001b[0;32m      2\u001b[0m \u001b[43m                 \u001b[49m\u001b[43mis_random_dataset\u001b[49m\u001b[38;5;241;43m=\u001b[39;49m\u001b[38;5;28;43;01mFalse\u001b[39;49;00m\u001b[43m,\u001b[49m\u001b[43m \u001b[49m\u001b[43mpostprocessors\u001b[49m\u001b[38;5;241;43m=\u001b[39;49m\u001b[43m[\u001b[49m\u001b[43m]\u001b[49m\u001b[43m)\u001b[49m\n",
      "Cell \u001b[1;32mIn[51], line 43\u001b[0m, in \u001b[0;36mrun_experiements\u001b[1;34m(no_of_training, training_name, n_clients, user_dataset_size, is_random_dataset, postprocessors)\u001b[0m\n\u001b[0;32m     36\u001b[0m \u001b[38;5;66;03m# Run the training process again with the new datasets\u001b[39;00m\n\u001b[0;32m     37\u001b[0m pfl_simulated_backend \u001b[38;5;241m=\u001b[39m SimulatedBackend(\n\u001b[0;32m     38\u001b[0m     training_data\u001b[38;5;241m=\u001b[39mfederated_dataset,\n\u001b[0;32m     39\u001b[0m     val_data\u001b[38;5;241m=\u001b[39mval_federated_dataset,\n\u001b[0;32m     40\u001b[0m     postprocessors\u001b[38;5;241m=\u001b[39mpostprocessors\n\u001b[0;32m     41\u001b[0m )\n\u001b[1;32m---> 43\u001b[0m \u001b[43malgorithm\u001b[49m\u001b[38;5;241;43m.\u001b[39;49m\u001b[43mrun\u001b[49m\u001b[43m(\u001b[49m\n\u001b[0;32m     44\u001b[0m \u001b[43m    \u001b[49m\u001b[43mbackend\u001b[49m\u001b[38;5;241;43m=\u001b[39;49m\u001b[43mpfl_simulated_backend\u001b[49m\u001b[43m,\u001b[49m\n\u001b[0;32m     45\u001b[0m \u001b[43m    \u001b[49m\u001b[43mmodel\u001b[49m\u001b[38;5;241;43m=\u001b[39;49m\u001b[43mmodel\u001b[49m\u001b[43m,\u001b[49m\n\u001b[0;32m     46\u001b[0m \u001b[43m    \u001b[49m\u001b[43malgorithm_params\u001b[49m\u001b[38;5;241;43m=\u001b[39;49m\u001b[43malgorithm_params\u001b[49m\u001b[43m,\u001b[49m\n\u001b[0;32m     47\u001b[0m \u001b[43m    \u001b[49m\u001b[43mmodel_train_params\u001b[49m\u001b[38;5;241;43m=\u001b[39;49m\u001b[43mmodel_train_params\u001b[49m\u001b[43m,\u001b[49m\n\u001b[0;32m     48\u001b[0m \u001b[43m    \u001b[49m\u001b[43mmodel_eval_params\u001b[49m\u001b[38;5;241;43m=\u001b[39;49m\u001b[43mmodel_eval_params\u001b[49m\u001b[43m,\u001b[49m\n\u001b[0;32m     49\u001b[0m \u001b[43m    \u001b[49m\u001b[43mcallbacks\u001b[49m\u001b[38;5;241;43m=\u001b[39;49m\u001b[43mpfl_callbacks\u001b[49m\u001b[43m,\u001b[49m\n\u001b[0;32m     50\u001b[0m \u001b[43m    \u001b[49m\u001b[43msend_metrics_to_platform\u001b[49m\u001b[38;5;241;43m=\u001b[39;49m\u001b[38;5;28;43;01mTrue\u001b[39;49;00m\u001b[43m)\u001b[49m\n",
      "File \u001b[1;32mc:\\Users\\AVN\\anaconda3\\envs\\masters\\lib\\site-packages\\pfl\\algorithm\\base.py:263\u001b[0m, in \u001b[0;36mFederatedAlgorithm.run\u001b[1;34m(self, algorithm_params, backend, model, model_train_params, model_eval_params, callbacks, send_metrics_to_platform)\u001b[0m\n\u001b[0;32m    261\u001b[0m on_train_metrics \u001b[38;5;241m=\u001b[39m Metrics()\n\u001b[0;32m    262\u001b[0m \u001b[38;5;28;01mfor\u001b[39;00m callback \u001b[38;5;129;01min\u001b[39;00m callbacks:\n\u001b[1;32m--> 263\u001b[0m     on_train_metrics \u001b[38;5;241m|\u001b[39m\u001b[38;5;241m=\u001b[39m \u001b[43mcallback\u001b[49m\u001b[38;5;241;43m.\u001b[39;49m\u001b[43mon_train_begin\u001b[49m\u001b[43m(\u001b[49m\u001b[43mmodel\u001b[49m\u001b[38;5;241;43m=\u001b[39;49m\u001b[43mmodel\u001b[49m\u001b[43m)\u001b[49m\n\u001b[0;32m    265\u001b[0m central_contexts \u001b[38;5;241m=\u001b[39m \u001b[38;5;28;01mNone\u001b[39;00m\n\u001b[0;32m    266\u001b[0m \u001b[38;5;28;01mwhile\u001b[39;00m \u001b[38;5;28;01mTrue\u001b[39;00m:\n\u001b[0;32m    267\u001b[0m     \u001b[38;5;66;03m# Step 1\u001b[39;00m\n\u001b[0;32m    268\u001b[0m     \u001b[38;5;66;03m# Get instructions from algorithm what to run next.\u001b[39;00m\n\u001b[0;32m    269\u001b[0m     \u001b[38;5;66;03m# Can be multiple queries to cohorts of devices.\u001b[39;00m\n",
      "File \u001b[1;32mc:\\Users\\AVN\\anaconda3\\envs\\masters\\lib\\site-packages\\pfl\\callback.py:229\u001b[0m, in \u001b[0;36mCentralEvaluationCallback.on_train_begin\u001b[1;34m(self, model)\u001b[0m\n\u001b[0;32m    227\u001b[0m \u001b[38;5;28;01mdef\u001b[39;00m\u001b[38;5;250m \u001b[39m\u001b[38;5;21mon_train_begin\u001b[39m(\u001b[38;5;28mself\u001b[39m, \u001b[38;5;241m*\u001b[39m, model: ModelType) \u001b[38;5;241m-\u001b[39m\u001b[38;5;241m>\u001b[39m Metrics:\n\u001b[0;32m    228\u001b[0m     \u001b[38;5;66;03m# On first central iteration, evaluation should be done before training\u001b[39;00m\n\u001b[1;32m--> 229\u001b[0m     \u001b[38;5;28;01mreturn\u001b[39;00m \u001b[38;5;28;43mself\u001b[39;49m\u001b[38;5;241;43m.\u001b[39;49m\u001b[43m_eval\u001b[49m\u001b[43m(\u001b[49m\u001b[43mmodel\u001b[49m\u001b[43m)\u001b[49m[\u001b[38;5;241m1\u001b[39m]\n",
      "File \u001b[1;32mc:\\Users\\AVN\\anaconda3\\envs\\masters\\lib\\site-packages\\pfl\\callback.py:220\u001b[0m, in \u001b[0;36mCentralEvaluationCallback._eval\u001b[1;34m(self, model)\u001b[0m\n\u001b[0;32m    217\u001b[0m     metrics \u001b[38;5;241m=\u001b[39m ops\u001b[38;5;241m.\u001b[39mall_reduce_metrics(metrics)\n\u001b[0;32m    218\u001b[0m \u001b[38;5;28;01melse\u001b[39;00m:\n\u001b[0;32m    219\u001b[0m     \u001b[38;5;66;03m# Evaluation on all data on each worker.\u001b[39;00m\n\u001b[1;32m--> 220\u001b[0m     metrics \u001b[38;5;241m=\u001b[39m \u001b[43mmodel\u001b[49m\u001b[38;5;241;43m.\u001b[39;49m\u001b[43mevaluate\u001b[49m\u001b[43m(\u001b[49m\u001b[38;5;28;43mself\u001b[39;49m\u001b[38;5;241;43m.\u001b[39;49m\u001b[43m_dataset\u001b[49m\u001b[43m,\u001b[49m\n\u001b[0;32m    221\u001b[0m \u001b[43m                             \u001b[49m\u001b[43mname_formatting_fn\u001b[49m\u001b[38;5;241;43m=\u001b[39;49m\u001b[38;5;28;43mself\u001b[39;49m\u001b[38;5;241;43m.\u001b[39;49m\u001b[43m_format_fn\u001b[49m\u001b[43m,\u001b[49m\n\u001b[0;32m    222\u001b[0m \u001b[43m                             \u001b[49m\u001b[43meval_params\u001b[49m\u001b[38;5;241;43m=\u001b[39;49m\u001b[38;5;28;43mself\u001b[39;49m\u001b[38;5;241;43m.\u001b[39;49m\u001b[43m_model_eval_params\u001b[49m\u001b[43m)\u001b[49m\n\u001b[0;32m    223\u001b[0m     metrics[datapoints_metric_name] \u001b[38;5;241m=\u001b[39m \u001b[38;5;28mlen\u001b[39m(\u001b[38;5;28mself\u001b[39m\u001b[38;5;241m.\u001b[39m_dataset)\n\u001b[0;32m    225\u001b[0m \u001b[38;5;28;01mreturn\u001b[39;00m (\u001b[38;5;28;01mFalse\u001b[39;00m, metrics)\n",
      "File \u001b[1;32mc:\\Users\\AVN\\anaconda3\\envs\\masters\\lib\\site-packages\\pfl\\model\\pytorch.py:399\u001b[0m, in \u001b[0;36mPyTorchModel.evaluate\u001b[1;34m(self, dataset, name_formatting_fn, eval_params)\u001b[0m\n\u001b[0;32m    394\u001b[0m         metrics_outputs \u001b[38;5;241m=\u001b[39m \u001b[38;5;28mself\u001b[39m\u001b[38;5;241m.\u001b[39m_model\u001b[38;5;241m.\u001b[39mmetrics(\u001b[38;5;241m*\u001b[39m\u001b[38;5;241m*\u001b[39m{\n\u001b[0;32m    395\u001b[0m             \u001b[38;5;241m*\u001b[39m\u001b[38;5;241m*\u001b[39mbatch,\n\u001b[0;32m    396\u001b[0m             \u001b[38;5;241m*\u001b[39m\u001b[38;5;241m*\u001b[39mdataset\u001b[38;5;241m.\u001b[39meval_kwargs\n\u001b[0;32m    397\u001b[0m         })\n\u001b[0;32m    398\u001b[0m     \u001b[38;5;28;01melse\u001b[39;00m:\n\u001b[1;32m--> 399\u001b[0m         metrics_outputs \u001b[38;5;241m=\u001b[39m \u001b[38;5;28mself\u001b[39m\u001b[38;5;241m.\u001b[39m_model\u001b[38;5;241m.\u001b[39mmetrics(\n\u001b[0;32m    400\u001b[0m             \u001b[38;5;241m*\u001b[39mbatch, \u001b[38;5;241m*\u001b[39m\u001b[38;5;241m*\u001b[39mdataset\u001b[38;5;241m.\u001b[39meval_kwargs)\n\u001b[0;32m    402\u001b[0m \u001b[38;5;28;01mfor\u001b[39;00m name, metric_value \u001b[38;5;129;01min\u001b[39;00m metrics_outputs\u001b[38;5;241m.\u001b[39mitems():\n\u001b[0;32m    403\u001b[0m     \u001b[38;5;28;01mif\u001b[39;00m \u001b[38;5;28misinstance\u001b[39m(metric_value, \u001b[38;5;28mtuple\u001b[39m):\n\u001b[0;32m    404\u001b[0m         \u001b[38;5;66;03m# Is tuple with metric postprocess function as 2nd\u001b[39;00m\n\u001b[0;32m    405\u001b[0m         \u001b[38;5;66;03m# argument.\u001b[39;00m\n",
      "File \u001b[1;32mc:\\Users\\AVN\\anaconda3\\envs\\masters\\lib\\site-packages\\torch\\utils\\_contextlib.py:116\u001b[0m, in \u001b[0;36mcontext_decorator.<locals>.decorate_context\u001b[1;34m(*args, **kwargs)\u001b[0m\n\u001b[0;32m    113\u001b[0m \u001b[38;5;129m@functools\u001b[39m\u001b[38;5;241m.\u001b[39mwraps(func)\n\u001b[0;32m    114\u001b[0m \u001b[38;5;28;01mdef\u001b[39;00m\u001b[38;5;250m \u001b[39m\u001b[38;5;21mdecorate_context\u001b[39m(\u001b[38;5;241m*\u001b[39margs, \u001b[38;5;241m*\u001b[39m\u001b[38;5;241m*\u001b[39mkwargs):\n\u001b[0;32m    115\u001b[0m     \u001b[38;5;28;01mwith\u001b[39;00m ctx_factory():\n\u001b[1;32m--> 116\u001b[0m         \u001b[38;5;28;01mreturn\u001b[39;00m func(\u001b[38;5;241m*\u001b[39margs, \u001b[38;5;241m*\u001b[39m\u001b[38;5;241m*\u001b[39mkwargs)\n",
      "Cell \u001b[1;32mIn[10], line 31\u001b[0m, in \u001b[0;36mNet1.metrics\u001b[1;34m(self, inputs, targets, eval)\u001b[0m\n\u001b[0;32m     25\u001b[0m \u001b[38;5;129m@torch\u001b[39m\u001b[38;5;241m.\u001b[39mno_grad()\n\u001b[0;32m     26\u001b[0m \u001b[38;5;28;01mdef\u001b[39;00m\u001b[38;5;250m \u001b[39m\u001b[38;5;21mmetrics\u001b[39m(\u001b[38;5;28mself\u001b[39m,\n\u001b[0;32m     27\u001b[0m             inputs: torch\u001b[38;5;241m.\u001b[39mTensor,\n\u001b[0;32m     28\u001b[0m             targets: torch\u001b[38;5;241m.\u001b[39mTensor,\n\u001b[0;32m     29\u001b[0m             \u001b[38;5;28meval\u001b[39m: \u001b[38;5;28mbool\u001b[39m \u001b[38;5;241m=\u001b[39m \u001b[38;5;28;01mTrue\u001b[39;00m) \u001b[38;5;241m-\u001b[39m\u001b[38;5;241m>\u001b[39m Dict[\u001b[38;5;28mstr\u001b[39m, Weighted]:\n\u001b[0;32m     30\u001b[0m     \u001b[38;5;28mself\u001b[39m\u001b[38;5;241m.\u001b[39meval() \u001b[38;5;28;01mif\u001b[39;00m \u001b[38;5;28meval\u001b[39m \u001b[38;5;28;01melse\u001b[39;00m \u001b[38;5;28mself\u001b[39m\u001b[38;5;241m.\u001b[39mtrain()\n\u001b[1;32m---> 31\u001b[0m     prediction \u001b[38;5;241m=\u001b[39m \u001b[38;5;28;43mself\u001b[39;49m\u001b[43m(\u001b[49m\u001b[43minputs\u001b[49m\u001b[43m)\u001b[49m\n\u001b[0;32m     32\u001b[0m     logits \u001b[38;5;241m=\u001b[39m torch\u001b[38;5;241m.\u001b[39margmax(prediction, dim\u001b[38;5;241m=\u001b[39m\u001b[38;5;241m1\u001b[39m)\n\u001b[0;32m     33\u001b[0m     num_samples \u001b[38;5;241m=\u001b[39m \u001b[38;5;28mlen\u001b[39m(inputs)\n",
      "File \u001b[1;32mc:\\Users\\AVN\\anaconda3\\envs\\masters\\lib\\site-packages\\torch\\nn\\modules\\module.py:1739\u001b[0m, in \u001b[0;36mModule._wrapped_call_impl\u001b[1;34m(self, *args, **kwargs)\u001b[0m\n\u001b[0;32m   1737\u001b[0m     \u001b[38;5;28;01mreturn\u001b[39;00m \u001b[38;5;28mself\u001b[39m\u001b[38;5;241m.\u001b[39m_compiled_call_impl(\u001b[38;5;241m*\u001b[39margs, \u001b[38;5;241m*\u001b[39m\u001b[38;5;241m*\u001b[39mkwargs)  \u001b[38;5;66;03m# type: ignore[misc]\u001b[39;00m\n\u001b[0;32m   1738\u001b[0m \u001b[38;5;28;01melse\u001b[39;00m:\n\u001b[1;32m-> 1739\u001b[0m     \u001b[38;5;28;01mreturn\u001b[39;00m \u001b[38;5;28mself\u001b[39m\u001b[38;5;241m.\u001b[39m_call_impl(\u001b[38;5;241m*\u001b[39margs, \u001b[38;5;241m*\u001b[39m\u001b[38;5;241m*\u001b[39mkwargs)\n",
      "File \u001b[1;32mc:\\Users\\AVN\\anaconda3\\envs\\masters\\lib\\site-packages\\torch\\nn\\modules\\module.py:1750\u001b[0m, in \u001b[0;36mModule._call_impl\u001b[1;34m(self, *args, **kwargs)\u001b[0m\n\u001b[0;32m   1745\u001b[0m \u001b[38;5;66;03m# If we don't have any hooks, we want to skip the rest of the logic in\u001b[39;00m\n\u001b[0;32m   1746\u001b[0m \u001b[38;5;66;03m# this function, and just call forward.\u001b[39;00m\n\u001b[0;32m   1747\u001b[0m \u001b[38;5;28;01mif\u001b[39;00m \u001b[38;5;129;01mnot\u001b[39;00m (\u001b[38;5;28mself\u001b[39m\u001b[38;5;241m.\u001b[39m_backward_hooks \u001b[38;5;129;01mor\u001b[39;00m \u001b[38;5;28mself\u001b[39m\u001b[38;5;241m.\u001b[39m_backward_pre_hooks \u001b[38;5;129;01mor\u001b[39;00m \u001b[38;5;28mself\u001b[39m\u001b[38;5;241m.\u001b[39m_forward_hooks \u001b[38;5;129;01mor\u001b[39;00m \u001b[38;5;28mself\u001b[39m\u001b[38;5;241m.\u001b[39m_forward_pre_hooks\n\u001b[0;32m   1748\u001b[0m         \u001b[38;5;129;01mor\u001b[39;00m _global_backward_pre_hooks \u001b[38;5;129;01mor\u001b[39;00m _global_backward_hooks\n\u001b[0;32m   1749\u001b[0m         \u001b[38;5;129;01mor\u001b[39;00m _global_forward_hooks \u001b[38;5;129;01mor\u001b[39;00m _global_forward_pre_hooks):\n\u001b[1;32m-> 1750\u001b[0m     \u001b[38;5;28;01mreturn\u001b[39;00m forward_call(\u001b[38;5;241m*\u001b[39margs, \u001b[38;5;241m*\u001b[39m\u001b[38;5;241m*\u001b[39mkwargs)\n\u001b[0;32m   1752\u001b[0m result \u001b[38;5;241m=\u001b[39m \u001b[38;5;28;01mNone\u001b[39;00m\n\u001b[0;32m   1753\u001b[0m called_always_called_hooks \u001b[38;5;241m=\u001b[39m \u001b[38;5;28mset\u001b[39m()\n",
      "Cell \u001b[1;32mIn[10], line 17\u001b[0m, in \u001b[0;36mNet1.forward\u001b[1;34m(self, x)\u001b[0m\n\u001b[0;32m     15\u001b[0m x \u001b[38;5;241m=\u001b[39m \u001b[38;5;28mself\u001b[39m\u001b[38;5;241m.\u001b[39mpool(F\u001b[38;5;241m.\u001b[39mrelu(\u001b[38;5;28mself\u001b[39m\u001b[38;5;241m.\u001b[39mconv2(x)))   \u001b[38;5;66;03m# 12→6\u001b[39;00m\n\u001b[0;32m     16\u001b[0m x \u001b[38;5;241m=\u001b[39m torch\u001b[38;5;241m.\u001b[39mflatten(x, \u001b[38;5;241m1\u001b[39m)                \u001b[38;5;66;03m# 128 × 6 × 6 = 4 608 features\u001b[39;00m\n\u001b[1;32m---> 17\u001b[0m x \u001b[38;5;241m=\u001b[39m F\u001b[38;5;241m.\u001b[39mrelu(\u001b[38;5;28;43mself\u001b[39;49m\u001b[38;5;241;43m.\u001b[39;49m\u001b[43mfc1\u001b[49m\u001b[43m(\u001b[49m\u001b[43mx\u001b[49m\u001b[43m)\u001b[49m)\n\u001b[0;32m     18\u001b[0m x \u001b[38;5;241m=\u001b[39m F\u001b[38;5;241m.\u001b[39mrelu(\u001b[38;5;28mself\u001b[39m\u001b[38;5;241m.\u001b[39mfc2(x))\n\u001b[0;32m     19\u001b[0m \u001b[38;5;28;01mreturn\u001b[39;00m \u001b[38;5;28mself\u001b[39m\u001b[38;5;241m.\u001b[39mout(x)\n",
      "File \u001b[1;32mc:\\Users\\AVN\\anaconda3\\envs\\masters\\lib\\site-packages\\torch\\nn\\modules\\module.py:1739\u001b[0m, in \u001b[0;36mModule._wrapped_call_impl\u001b[1;34m(self, *args, **kwargs)\u001b[0m\n\u001b[0;32m   1737\u001b[0m     \u001b[38;5;28;01mreturn\u001b[39;00m \u001b[38;5;28mself\u001b[39m\u001b[38;5;241m.\u001b[39m_compiled_call_impl(\u001b[38;5;241m*\u001b[39margs, \u001b[38;5;241m*\u001b[39m\u001b[38;5;241m*\u001b[39mkwargs)  \u001b[38;5;66;03m# type: ignore[misc]\u001b[39;00m\n\u001b[0;32m   1738\u001b[0m \u001b[38;5;28;01melse\u001b[39;00m:\n\u001b[1;32m-> 1739\u001b[0m     \u001b[38;5;28;01mreturn\u001b[39;00m \u001b[38;5;28mself\u001b[39m\u001b[38;5;241m.\u001b[39m_call_impl(\u001b[38;5;241m*\u001b[39margs, \u001b[38;5;241m*\u001b[39m\u001b[38;5;241m*\u001b[39mkwargs)\n",
      "File \u001b[1;32mc:\\Users\\AVN\\anaconda3\\envs\\masters\\lib\\site-packages\\torch\\nn\\modules\\module.py:1750\u001b[0m, in \u001b[0;36mModule._call_impl\u001b[1;34m(self, *args, **kwargs)\u001b[0m\n\u001b[0;32m   1745\u001b[0m \u001b[38;5;66;03m# If we don't have any hooks, we want to skip the rest of the logic in\u001b[39;00m\n\u001b[0;32m   1746\u001b[0m \u001b[38;5;66;03m# this function, and just call forward.\u001b[39;00m\n\u001b[0;32m   1747\u001b[0m \u001b[38;5;28;01mif\u001b[39;00m \u001b[38;5;129;01mnot\u001b[39;00m (\u001b[38;5;28mself\u001b[39m\u001b[38;5;241m.\u001b[39m_backward_hooks \u001b[38;5;129;01mor\u001b[39;00m \u001b[38;5;28mself\u001b[39m\u001b[38;5;241m.\u001b[39m_backward_pre_hooks \u001b[38;5;129;01mor\u001b[39;00m \u001b[38;5;28mself\u001b[39m\u001b[38;5;241m.\u001b[39m_forward_hooks \u001b[38;5;129;01mor\u001b[39;00m \u001b[38;5;28mself\u001b[39m\u001b[38;5;241m.\u001b[39m_forward_pre_hooks\n\u001b[0;32m   1748\u001b[0m         \u001b[38;5;129;01mor\u001b[39;00m _global_backward_pre_hooks \u001b[38;5;129;01mor\u001b[39;00m _global_backward_hooks\n\u001b[0;32m   1749\u001b[0m         \u001b[38;5;129;01mor\u001b[39;00m _global_forward_hooks \u001b[38;5;129;01mor\u001b[39;00m _global_forward_pre_hooks):\n\u001b[1;32m-> 1750\u001b[0m     \u001b[38;5;28;01mreturn\u001b[39;00m forward_call(\u001b[38;5;241m*\u001b[39margs, \u001b[38;5;241m*\u001b[39m\u001b[38;5;241m*\u001b[39mkwargs)\n\u001b[0;32m   1752\u001b[0m result \u001b[38;5;241m=\u001b[39m \u001b[38;5;28;01mNone\u001b[39;00m\n\u001b[0;32m   1753\u001b[0m called_always_called_hooks \u001b[38;5;241m=\u001b[39m \u001b[38;5;28mset\u001b[39m()\n",
      "File \u001b[1;32mc:\\Users\\AVN\\anaconda3\\envs\\masters\\lib\\site-packages\\torch\\nn\\modules\\linear.py:125\u001b[0m, in \u001b[0;36mLinear.forward\u001b[1;34m(self, input)\u001b[0m\n\u001b[0;32m    124\u001b[0m \u001b[38;5;28;01mdef\u001b[39;00m\u001b[38;5;250m \u001b[39m\u001b[38;5;21mforward\u001b[39m(\u001b[38;5;28mself\u001b[39m, \u001b[38;5;28minput\u001b[39m: Tensor) \u001b[38;5;241m-\u001b[39m\u001b[38;5;241m>\u001b[39m Tensor:\n\u001b[1;32m--> 125\u001b[0m     \u001b[38;5;28;01mreturn\u001b[39;00m \u001b[43mF\u001b[49m\u001b[38;5;241;43m.\u001b[39;49m\u001b[43mlinear\u001b[49m\u001b[43m(\u001b[49m\u001b[38;5;28;43minput\u001b[39;49m\u001b[43m,\u001b[49m\u001b[43m \u001b[49m\u001b[38;5;28;43mself\u001b[39;49m\u001b[38;5;241;43m.\u001b[39;49m\u001b[43mweight\u001b[49m\u001b[43m,\u001b[49m\u001b[43m \u001b[49m\u001b[38;5;28;43mself\u001b[39;49m\u001b[38;5;241;43m.\u001b[39;49m\u001b[43mbias\u001b[49m\u001b[43m)\u001b[49m\n",
      "\u001b[1;31mRuntimeError\u001b[0m: mat1 and mat2 shapes cannot be multiplied (10000x8192 and 4608x192)"
     ]
    }
   ],
   "source": [
    "# run_experiements(no_of_training, training_name, n_clients, user_dataset_size, \n",
    "#                  is_random_dataset=False, postprocessors=[])"
   ]
  },
  {
   "cell_type": "markdown",
   "metadata": {},
   "source": [
    "# Ruben ting"
   ]
  },
  {
   "cell_type": "markdown",
   "metadata": {},
   "source": [
    "Change of cell 51"
   ]
  },
  {
   "cell_type": "code",
   "execution_count": null,
   "metadata": {},
   "outputs": [],
   "source": [
    "# This cell is used to define the privacy mechanism for the training process\n",
    "\n",
    "rdp_accountant = RDPPrivacyAccountant(\n",
    "    num_compositions=central_num_iterations,\n",
    "    sampling_probability=sampling_probability,\n",
    "    mechanism='gaussian',\n",
    "    epsilon=epsilon,\n",
    "    delta=delta\n",
    "    #noise_parameter = 2 * np.log(1.25 / delta) * 1/(epsilon**2)  # Relative noise standard deviation\n",
    ")\n",
    "\n",
    "rdp_gaussian_noise_mechanism = GaussianMechanism.from_privacy_accountant(\n",
    "    accountant=rdp_accountant, clipping_bound=clipping_bound)\n",
    "\n",
    "# You then add this to the 'postprocessors' array instead of pld_central_privacy.\n",
    "rdp_central_privacy = CentrallyAppliedPrivacyMechanism(rdp_gaussian_noise_mechanism)\n",
    "\n",
    "\n",
    "run_experiements(no_of_training, training_name, n_clients, user_dataset_size, postprocessors=[rdp_central_privacy], is_random_dataset=False)"
   ]
  }
 ],
 "metadata": {
  "kernelspec": {
   "display_name": "masters",
   "language": "python",
   "name": "python3"
  },
  "language_info": {
   "codemirror_mode": {
    "name": "ipython",
    "version": 3
   },
   "file_extension": ".py",
   "mimetype": "text/x-python",
   "name": "python",
   "nbconvert_exporter": "python",
   "pygments_lexer": "ipython3",
   "version": "3.10.16"
  }
 },
 "nbformat": 4,
 "nbformat_minor": 2
}
