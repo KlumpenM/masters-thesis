{
 "cells": [
  {
   "cell_type": "code",
   "execution_count": 1,
   "metadata": {},
   "outputs": [
    {
     "ename": "KeyboardInterrupt",
     "evalue": "",
     "output_type": "error",
     "traceback": [
      "\u001b[1;31m---------------------------------------------------------------------------\u001b[0m",
      "\u001b[1;31mKeyboardInterrupt\u001b[0m                         Traceback (most recent call last)",
      "Cell \u001b[1;32mIn[1], line 27\u001b[0m\n\u001b[0;32m     23\u001b[0m         \u001b[38;5;28;01mpass\u001b[39;00m  \u001b[38;5;66;03m# Ignore if it's already set\u001b[39;00m\n\u001b[0;32m     25\u001b[0m init_multiprocessing()\n\u001b[1;32m---> 27\u001b[0m \u001b[38;5;28;01mfrom\u001b[39;00m\u001b[38;5;250m \u001b[39m\u001b[38;5;21;01mpfl\u001b[39;00m\u001b[38;5;21;01m.\u001b[39;00m\u001b[38;5;21;01mmodel\u001b[39;00m\u001b[38;5;21;01m.\u001b[39;00m\u001b[38;5;21;01mpytorch\u001b[39;00m\u001b[38;5;250m \u001b[39m\u001b[38;5;28;01mimport\u001b[39;00m PyTorchModel\n",
      "File \u001b[1;32mc:\\Users\\AVN\\anaconda3\\envs\\masters\\lib\\site-packages\\pfl\\__init__.py:3\u001b[0m\n\u001b[0;32m      1\u001b[0m \u001b[38;5;66;03m# Copyright © 2023-2024 Apple Inc.\u001b[39;00m\n\u001b[1;32m----> 3\u001b[0m \u001b[38;5;28;01mfrom\u001b[39;00m\u001b[38;5;250m \u001b[39m\u001b[38;5;21;01m.\u001b[39;00m\u001b[38;5;250m \u001b[39m\u001b[38;5;28;01mimport\u001b[39;00m aggregate, algorithm, data, internal, model, privacy\n\u001b[0;32m      4\u001b[0m \u001b[38;5;28;01mfrom\u001b[39;00m\u001b[38;5;250m \u001b[39m\u001b[38;5;21;01m.\u001b[39;00m\u001b[38;5;21;01mversion\u001b[39;00m\u001b[38;5;250m \u001b[39m\u001b[38;5;28;01mimport\u001b[39;00m __version__\n",
      "File \u001b[1;32mc:\\Users\\AVN\\anaconda3\\envs\\masters\\lib\\site-packages\\pfl\\privacy\\__init__.py:3\u001b[0m\n\u001b[0;32m      1\u001b[0m \u001b[38;5;66;03m# Copyright © 2023-2024 Apple Inc.\u001b[39;00m\n\u001b[1;32m----> 3\u001b[0m \u001b[38;5;28;01mfrom\u001b[39;00m\u001b[38;5;250m \u001b[39m\u001b[38;5;21;01m.\u001b[39;00m\u001b[38;5;21;01mgaussian_mechanism\u001b[39;00m\u001b[38;5;250m \u001b[39m\u001b[38;5;28;01mimport\u001b[39;00m GaussianMechanism\n\u001b[0;32m      4\u001b[0m \u001b[38;5;28;01mfrom\u001b[39;00m\u001b[38;5;250m \u001b[39m\u001b[38;5;21;01m.\u001b[39;00m\u001b[38;5;21;01mlaplace_mechanism\u001b[39;00m\u001b[38;5;250m \u001b[39m\u001b[38;5;28;01mimport\u001b[39;00m LaplaceMechanism\n\u001b[0;32m      5\u001b[0m \u001b[38;5;28;01mfrom\u001b[39;00m\u001b[38;5;250m \u001b[39m\u001b[38;5;21;01m.\u001b[39;00m\u001b[38;5;21;01mprivacy_accountant\u001b[39;00m\u001b[38;5;250m \u001b[39m\u001b[38;5;28;01mimport\u001b[39;00m PLDPrivacyAccountant, PrivacyAccountant, PRVPrivacyAccountant, RDPPrivacyAccountant\n",
      "File \u001b[1;32mc:\\Users\\AVN\\anaconda3\\envs\\masters\\lib\\site-packages\\pfl\\privacy\\gaussian_mechanism.py:13\u001b[0m\n\u001b[0;32m     10\u001b[0m \u001b[38;5;28;01mfrom\u001b[39;00m\u001b[38;5;250m \u001b[39m\u001b[38;5;21;01mpfl\u001b[39;00m\u001b[38;5;21;01m.\u001b[39;00m\u001b[38;5;21;01mmetrics\u001b[39;00m\u001b[38;5;250m \u001b[39m\u001b[38;5;28;01mimport\u001b[39;00m Metrics, StringMetricName, Weighted\n\u001b[0;32m     11\u001b[0m \u001b[38;5;28;01mfrom\u001b[39;00m\u001b[38;5;250m \u001b[39m\u001b[38;5;21;01mpfl\u001b[39;00m\u001b[38;5;21;01m.\u001b[39;00m\u001b[38;5;21;01mstats\u001b[39;00m\u001b[38;5;250m \u001b[39m\u001b[38;5;28;01mimport\u001b[39;00m TrainingStatistics\n\u001b[1;32m---> 13\u001b[0m \u001b[38;5;28;01mfrom\u001b[39;00m\u001b[38;5;250m \u001b[39m\u001b[38;5;21;01m.\u001b[39;00m\u001b[38;5;250m \u001b[39m\u001b[38;5;28;01mimport\u001b[39;00m compute_parameters\n\u001b[0;32m     14\u001b[0m \u001b[38;5;28;01mfrom\u001b[39;00m\u001b[38;5;250m \u001b[39m\u001b[38;5;21;01m.\u001b[39;00m\u001b[38;5;21;01mapproximate_mechanism\u001b[39;00m\u001b[38;5;250m \u001b[39m\u001b[38;5;28;01mimport\u001b[39;00m SquaredErrorLocalPrivacyMechanism\n\u001b[0;32m     15\u001b[0m \u001b[38;5;28;01mfrom\u001b[39;00m\u001b[38;5;250m \u001b[39m\u001b[38;5;21;01m.\u001b[39;00m\u001b[38;5;21;01mprivacy_accountant\u001b[39;00m\u001b[38;5;250m \u001b[39m\u001b[38;5;28;01mimport\u001b[39;00m PrivacyAccountant\n",
      "File \u001b[1;32mc:\\Users\\AVN\\anaconda3\\envs\\masters\\lib\\site-packages\\pfl\\privacy\\compute_parameters.py:9\u001b[0m\n\u001b[0;32m      6\u001b[0m \u001b[38;5;28;01mimport\u001b[39;00m\u001b[38;5;250m \u001b[39m\u001b[38;5;21;01mnumpy\u001b[39;00m\u001b[38;5;250m \u001b[39m\u001b[38;5;28;01mas\u001b[39;00m\u001b[38;5;250m \u001b[39m\u001b[38;5;21;01mnp\u001b[39;00m\n\u001b[0;32m      8\u001b[0m \u001b[38;5;28;01mfrom\u001b[39;00m\u001b[38;5;250m \u001b[39m\u001b[38;5;21;01mpfl\u001b[39;00m\u001b[38;5;21;01m.\u001b[39;00m\u001b[38;5;21;01minternal\u001b[39;00m\u001b[38;5;21;01m.\u001b[39;00m\u001b[38;5;21;01mbisect\u001b[39;00m\u001b[38;5;250m \u001b[39m\u001b[38;5;28;01mimport\u001b[39;00m bisect_automatic_range\n\u001b[1;32m----> 9\u001b[0m \u001b[38;5;28;01mfrom\u001b[39;00m\u001b[38;5;250m \u001b[39m\u001b[38;5;21;01mpfl\u001b[39;00m\u001b[38;5;21;01m.\u001b[39;00m\u001b[38;5;21;01minternal\u001b[39;00m\u001b[38;5;21;01m.\u001b[39;00m\u001b[38;5;21;01mdistribution\u001b[39;00m\u001b[38;5;21;01m.\u001b[39;00m\u001b[38;5;21;01mlog_float_functions\u001b[39;00m\u001b[38;5;250m \u001b[39m\u001b[38;5;28;01mimport\u001b[39;00m exp, normal_cdf\n\u001b[0;32m     12\u001b[0m \u001b[38;5;28;01mdef\u001b[39;00m\u001b[38;5;250m \u001b[39m\u001b[38;5;21mAnalyticGM_robust_impl\u001b[39m(eps, delta):\n\u001b[0;32m     13\u001b[0m \u001b[38;5;250m    \u001b[39m\u001b[38;5;124;03m\"\"\"\u001b[39;00m\n\u001b[0;32m     14\u001b[0m \u001b[38;5;124;03m    Compute (optimally) the noise parameter (sigma) for the Gaussian mechanism,\u001b[39;00m\n\u001b[0;32m     15\u001b[0m \u001b[38;5;124;03m    for a given epsilon and delta.\u001b[39;00m\n\u001b[1;32m   (...)\u001b[0m\n\u001b[0;32m     25\u001b[0m \u001b[38;5;124;03m    :param delta: The δ parameter of approximate differential privacy.\u001b[39;00m\n\u001b[0;32m     26\u001b[0m \u001b[38;5;124;03m    \"\"\"\u001b[39;00m\n",
      "File \u001b[1;32mc:\\Users\\AVN\\anaconda3\\envs\\masters\\lib\\site-packages\\pfl\\internal\\distribution\\log_float_functions.py:13\u001b[0m\n\u001b[0;32m     10\u001b[0m \u001b[38;5;28;01mfrom\u001b[39;00m\u001b[38;5;250m \u001b[39m\u001b[38;5;21;01mtyping\u001b[39;00m\u001b[38;5;250m \u001b[39m\u001b[38;5;28;01mimport\u001b[39;00m Iterable\n\u001b[0;32m     12\u001b[0m \u001b[38;5;28;01mimport\u001b[39;00m\u001b[38;5;250m \u001b[39m\u001b[38;5;21;01mscipy\u001b[39;00m\u001b[38;5;21;01m.\u001b[39;00m\u001b[38;5;21;01mspecial\u001b[39;00m\n\u001b[1;32m---> 13\u001b[0m \u001b[38;5;28;01mimport\u001b[39;00m\u001b[38;5;250m \u001b[39m\u001b[38;5;21;01mscipy\u001b[39;00m\u001b[38;5;21;01m.\u001b[39;00m\u001b[38;5;21;01mstats\u001b[39;00m\n\u001b[0;32m     15\u001b[0m \u001b[38;5;28;01mfrom\u001b[39;00m\u001b[38;5;250m \u001b[39m\u001b[38;5;21;01m.\u001b[39;00m\u001b[38;5;21;01mlog_float\u001b[39;00m\u001b[38;5;250m \u001b[39m\u001b[38;5;28;01mimport\u001b[39;00m LogFloat\n\u001b[0;32m     18\u001b[0m \u001b[38;5;28;01mdef\u001b[39;00m\u001b[38;5;250m \u001b[39m\u001b[38;5;21mexp\u001b[39m(x: \u001b[38;5;28mfloat\u001b[39m) \u001b[38;5;241m-\u001b[39m\u001b[38;5;241m>\u001b[39m LogFloat:\n",
      "File \u001b[1;32mc:\\Users\\AVN\\anaconda3\\envs\\masters\\lib\\site-packages\\scipy\\stats\\__init__.py:653\u001b[0m\n\u001b[0;32m    649\u001b[0m \u001b[38;5;28;01mfrom\u001b[39;00m\u001b[38;5;250m \u001b[39m\u001b[38;5;21;01m.\u001b[39;00m\u001b[38;5;21;01m_distribution_infrastructure\u001b[39;00m\u001b[38;5;250m \u001b[39m\u001b[38;5;28;01mimport\u001b[39;00m (\n\u001b[0;32m    650\u001b[0m     make_distribution, Mixture, order_statistic, truncate, exp, log, \u001b[38;5;28mabs\u001b[39m\n\u001b[0;32m    651\u001b[0m )\n\u001b[0;32m    652\u001b[0m \u001b[38;5;28;01mfrom\u001b[39;00m\u001b[38;5;250m \u001b[39m\u001b[38;5;21;01m.\u001b[39;00m\u001b[38;5;21;01m_new_distributions\u001b[39;00m\u001b[38;5;250m \u001b[39m\u001b[38;5;28;01mimport\u001b[39;00m Normal, Uniform\n\u001b[1;32m--> 653\u001b[0m \u001b[38;5;28;01mfrom\u001b[39;00m\u001b[38;5;250m \u001b[39m\u001b[38;5;21;01m.\u001b[39;00m\u001b[38;5;21;01m_mgc\u001b[39;00m\u001b[38;5;250m \u001b[39m\u001b[38;5;28;01mimport\u001b[39;00m multiscale_graphcorr\n\u001b[0;32m    654\u001b[0m \u001b[38;5;28;01mfrom\u001b[39;00m\u001b[38;5;250m \u001b[39m\u001b[38;5;21;01m.\u001b[39;00m\u001b[38;5;21;01m_correlation\u001b[39;00m\u001b[38;5;250m \u001b[39m\u001b[38;5;28;01mimport\u001b[39;00m chatterjeexi\n\u001b[0;32m    657\u001b[0m \u001b[38;5;66;03m# Deprecated namespaces, to be removed in v2.0.0\u001b[39;00m\n",
      "File \u001b[1;32m<frozen importlib._bootstrap>:1027\u001b[0m, in \u001b[0;36m_find_and_load\u001b[1;34m(name, import_)\u001b[0m\n",
      "File \u001b[1;32m<frozen importlib._bootstrap>:1002\u001b[0m, in \u001b[0;36m_find_and_load_unlocked\u001b[1;34m(name, import_)\u001b[0m\n",
      "File \u001b[1;32m<frozen importlib._bootstrap>:945\u001b[0m, in \u001b[0;36m_find_spec\u001b[1;34m(name, path, target)\u001b[0m\n",
      "File \u001b[1;32m<frozen importlib._bootstrap_external>:1439\u001b[0m, in \u001b[0;36mfind_spec\u001b[1;34m(cls, fullname, path, target)\u001b[0m\n",
      "File \u001b[1;32m<frozen importlib._bootstrap_external>:1411\u001b[0m, in \u001b[0;36m_get_spec\u001b[1;34m(cls, fullname, path, target)\u001b[0m\n",
      "File \u001b[1;32m<frozen importlib._bootstrap_external>:1544\u001b[0m, in \u001b[0;36mfind_spec\u001b[1;34m(self, fullname, target)\u001b[0m\n",
      "File \u001b[1;32m<frozen importlib._bootstrap_external>:147\u001b[0m, in \u001b[0;36m_path_stat\u001b[1;34m(path)\u001b[0m\n",
      "\u001b[1;31mKeyboardInterrupt\u001b[0m: "
     ]
    }
   ],
   "source": [
    "import matplotlib.pyplot as plt\n",
    "import h5py\n",
    "import numpy as np\n",
    "import pandas as pd\n",
    "import torch\n",
    "\n",
    "# Both Jupyter and `pfl` use async. `nest_asyncio` allows `pfl` to run inside the notebook \n",
    "import nest_asyncio\n",
    "nest_asyncio.apply()\n",
    "\n",
    "# append the root directory to your paths to be able to reach the examples.  \n",
    "torch.random.manual_seed(1)\n",
    "np.random.seed(1)\n",
    "\n",
    "# Always import the `pfl` model first before initializing any `pfl` components to let `pfl` know which Deep Learning framework you will use.\n",
    "import multiprocessing\n",
    "# Set multiprocessing start method to \"spawn\" instead of forkserver (which is the default)\n",
    "# That is because forkserver does not work on Windows, but spawn does.\n",
    "def init_multiprocessing():\n",
    "    try:\n",
    "        multiprocessing.set_start_method(\"spawn\", force=True)  # Forces \"spawn\"\n",
    "    except RuntimeError:\n",
    "        pass  # Ignore if it's already set\n",
    "\n",
    "init_multiprocessing()\n",
    "\n",
    "from pfl.model.pytorch import PyTorchModel"
   ]
  },
  {
   "cell_type": "code",
   "execution_count": null,
   "metadata": {},
   "outputs": [
    {
     "name": "stdout",
     "output_type": "stream",
     "text": [
      "cuda\n"
     ]
    }
   ],
   "source": [
    "# Use the GPU if available\n",
    "device = torch.device(\"cuda\" if torch.cuda.is_available() else \"cpu\")\n",
    "print(device)"
   ]
  },
  {
   "cell_type": "markdown",
   "metadata": {},
   "source": [
    "# Parameters DPFL\n",
    "\n",
    "Adjust these values as you please"
   ]
  },
  {
   "cell_type": "code",
   "execution_count": null,
   "metadata": {},
   "outputs": [],
   "source": [
    "from pfl.privacy import RDPPrivacyAccountant, CentrallyAppliedPrivacyMechanism, GaussianMechanism\n",
    "\n",
    "\n",
    "# # Define Gaussian DP mechanisms for central DP guarantees using three different methods\n",
    "\n",
    "# n_clients = 8                # Number of clients\n",
    "# clipping_bound = 0.5         # Clipping bound for DP\n",
    "# epsilon = 2                  # Epsilon parameter for DP\n",
    "# delta = 1e-8                 # Delta parameter for DP\n",
    "# sampling_probability = 1e-4  # Probability of a client being selected as cohort for a given iteration: cohort_size / n_clients\n",
    "# is_central = True            # Probably delete this line in the future, as it is not used anywhere else in the code.\n",
    "\n",
    "# # Other parameters for the training process\n",
    "\n",
    "# local_learning_rate = 0.001  # Learning rate for local training\n",
    "# local_num_epochs = 4         # Number of local epochs for each client\n",
    "# local_batch_size = 32        # Batch size for local training\n",
    "# central_num_iterations = 50  # Number of central iterations\n",
    "# evaluation_frequency = 1     # How often to evaluate the model (in terms of central iterations)\n",
    "# cohort_size = 8              # Number of clients in the cohort"
   ]
  },
  {
   "cell_type": "markdown",
   "metadata": {},
   "source": [
    "# Define the DP mechanism"
   ]
  },
  {
   "cell_type": "markdown",
   "metadata": {},
   "source": [
    "http://www.gautamkamath.com/CS860notes/lec5.pdf\n",
    "\n",
    "Definition 5 on page 3 gives the definition of the parameters for Gaussian distribution where we sample noise for DP.\n",
    "\n",
    "$\\Delta_2^2$ is not included when defining `relative_noise_stddev`, because the clipping bound (which I understand to be $\\Delta_2^2$ and also is $\\Delta_2^{(f)}$ from definition 3 on page 3) is multiplied on `relative_noise_stddev`, when sampling the noise for DP via `GaussianMechanism.add_noise()`\n",
    "\n",
    "Source: https://apple.github.io/pfl-research/reference/privacy.html#pfl.privacy.gaussian_mechanism.GaussianMechanism\n",
    "\n",
    "Additionally, the issue here is how we select a good value of clipping bound. Normally, you set it to be the sensitivity $\\Delta_2^{(f)}$ of function $f$ that aggregates on the dataset. But in our context of FL training, the function in question is the one that computes the gradients. Main problem with this is that the output gradient can be arbitrarily big, so the sensitiviy is in theory infinite. <br>\n",
    "We need to figure out ourselves how to pick a good value for clipping bound."
   ]
  },
  {
   "cell_type": "code",
   "execution_count": null,
   "metadata": {},
   "outputs": [],
   "source": [
    "# import math\n",
    "# relative_noise_stddev = 2 * math.log(1.25 / delta) * 1/(epsilon**2)"
   ]
  },
  {
   "cell_type": "markdown",
   "metadata": {},
   "source": [
    "PLD stands for privacy loss distribution.\n",
    "A privacy accountant serves the purpose of reducing privacy leakage that is incurred from accessing the same data over the span of several central FL iterations.\n",
    "As a result, it should give stronger privacy. It is based on the composability of Differential Privacy.\n",
    "\n",
    "If you wish to use a privacy accountant attached to your DP mechanism, then you may uncomment the following code cell and then add `pld_central_privacy` as an element in `postprocessors` variable, which is found in the section 'Setting up the model'"
   ]
  },
  {
   "cell_type": "markdown",
   "metadata": {},
   "source": [
    "A privacy accountant needs the following parameters when initialized:\n",
    "- `num_compositions: int`: that is the total number of central iterations in FL training.\n",
    "- `sampling_probability: float`: the probability that a user is chosen to be part of cohorts in a given iteration, i.e. `cohort_size / population`\n",
    "- `mechanism: str`: specifies which noise mechanism to use. `'gaussian'` or `'laplace'` (according to source code, these are the only valid arguments).\n",
    "- `epsilon: Optional[float]`: your desired DP parameter of your choice.\n",
    "- `delta: Optional[float]`: your desired DP parameter of your choice.\n",
    "- `noise_scale: float = 1.0`: I think this is multiplied on the sampled noise and the result is added to the gradient. By default, it is set to 1.0 and I think it would be best to not meddle with it.\n",
    "\n",
    "Regarding to `epsilon` and `delta`, the privacy accountant will strive to apply the chosen `mechanism` during training while the privacy loss stays within the two privacy parameters. So `epsilon` and `delta` are our privacy budget that we choose freely."
   ]
  },
  {
   "cell_type": "markdown",
   "metadata": {},
   "source": [
    "## Privacy Loss Distribution Accountant\n",
    "\n",
    "This one was from the `pfl-research` tutorial: https://colab.research.google.com/github/apple/pfl-research/blob/develop/tutorials/Introduction%20to%20Differential%20Privacy%20with%20Federated%20Learning.ipynb#scrollTo=o9o_TZL3JUp9"
   ]
  },
  {
   "cell_type": "code",
   "execution_count": null,
   "metadata": {},
   "outputs": [],
   "source": [
    "# # define a Gaussian DP mechanism using the PLD privacy accountant\n",
    "# # WARNING: it takes a while for the gaussian_moments_accountant mechanism to be instantiated\n",
    "\n",
    "# from pfl.privacy import (PLDPrivacyAccountant, CentrallyAppliedPrivacyMechanism, GaussianMechanism, LocalPrivacyMechanism)\n",
    "\n",
    "# # define the PLD privacy accountant, which will use the Gaussian noise mechanism\n",
    "# pld_accountant = PLDPrivacyAccountant(\n",
    "#     num_compositions=num_epochs,\n",
    "#     sampling_probability=sampling_probability,\n",
    "#     mechanism='gaussian',\n",
    "#     epsilon=epsilon,\n",
    "#     delta=delta)\n",
    "\n",
    "# # instantiate a Gaussian noise mechanism using the privacy accountant\n",
    "# pld_gaussian_noise_mechanism = GaussianMechanism.from_privacy_accountant(\n",
    "#     accountant=pld_accountant, clipping_bound=clipping_bound)\n",
    "\n",
    "# # wrap the noise mechanism with CentrallyAppliedPrivacyMechanism to make it a central privacy mechanism\n",
    "# pld_central_privacy = CentrallyAppliedPrivacyMechanism(pld_gaussian_noise_mechanism)"
   ]
  },
  {
   "cell_type": "markdown",
   "metadata": {},
   "source": [
    "## Renyi Differential Privacy Accountant\n",
    "\n",
    "Hannah recommends this accountant as a starter on involving DP."
   ]
  },
  {
   "cell_type": "code",
   "execution_count": null,
   "metadata": {},
   "outputs": [],
   "source": [
    "# rdp_accountant = RDPPrivacyAccountant(\n",
    "#     num_compositions=central_num_iterations,\n",
    "#     sampling_probability=sampling_probability,\n",
    "#     mechanism='gaussian',\n",
    "#     epsilon=epsilon,\n",
    "#     delta=delta\n",
    "# )\n",
    "\n",
    "# rdp_gaussian_noise_mechanism = GaussianMechanism.from_privacy_accountant(\n",
    "#     accountant=rdp_accountant, clipping_bound=clipping_bound)\n",
    "\n",
    "# # You then add this to the 'postprocessors' array instead of pld_central_privacy.\n",
    "# rdp_central_privacy = CentrallyAppliedPrivacyMechanism(rdp_gaussian_noise_mechanism)"
   ]
  },
  {
   "cell_type": "markdown",
   "metadata": {},
   "source": [
    "## Define a Local DP mechanism"
   ]
  },
  {
   "cell_type": "markdown",
   "metadata": {},
   "source": [
    "https://apple.github.io/pfl-research/reference/privacy.html#pfl.privacy.gaussian_mechanism.GaussianMechanism"
   ]
  },
  {
   "cell_type": "markdown",
   "metadata": {},
   "source": [
    "Below is an attempt to define our own custom DP mechanism."
   ]
  },
  {
   "cell_type": "code",
   "execution_count": null,
   "metadata": {},
   "outputs": [],
   "source": [
    "# from pfl.metrics import Metrics\n",
    "\n",
    "# class LocallyAppliedPrivacyMechanism(LocalPrivacyMechanism):\n",
    "\n",
    "#     def privatize(self, statistics, name_formatting_fn=..., seed = None):\n",
    "#         # TODO: Implement actual privatization for local DP\n",
    "#         # TODO: Sample some noise (Gaussian: parameters depend on privacy parameters)\n",
    "#         gaussian_mechanism = GaussianMechanism(clipping_bound=clipping_bound, \n",
    "#                                                relative_noise_stddev=relative_noise_stddev)\n",
    "#         noisy_statistics, metrics = gaussian_mechanism.add_noise(statistics=statistics, \n",
    "#                                      cohort_size=cohort_size, \n",
    "#                                      name_formatting_fn=name_formatting_fn)\n",
    "#         # TODO: Add the noise to statistics then send it\n",
    "#         return noisy_statistics, metrics"
   ]
  },
  {
   "cell_type": "markdown",
   "metadata": {},
   "source": [
    "Alternatively, we can try to use the implementation of privacy mechanisms that already exist in `pfl` module."
   ]
  },
  {
   "cell_type": "code",
   "execution_count": null,
   "metadata": {},
   "outputs": [],
   "source": [
    "from pfl.privacy import GaussianMechanism, LaplaceMechanism\n"
   ]
  },
  {
   "cell_type": "markdown",
   "metadata": {},
   "source": [
    "# Define the model"
   ]
  },
  {
   "cell_type": "code",
   "execution_count": null,
   "metadata": {},
   "outputs": [],
   "source": [
    "loss_fn = torch.nn.CrossEntropyLoss()"
   ]
  },
  {
   "cell_type": "markdown",
   "metadata": {},
   "source": [
    "## Model for CIFAR10"
   ]
  },
  {
   "cell_type": "code",
   "execution_count": null,
   "metadata": {},
   "outputs": [],
   "source": [
    "import torch.nn as nn\n",
    "import torch.nn.functional as F\n",
    "from typing import Dict, Optional\n",
    "from pfl.metrics import Weighted\n",
    "\n",
    "class Net(nn.Module):\n",
    "    def __init__(self):\n",
    "        super(Net, self).__init__()\n",
    "        self.conv1 = nn.Conv2d(3, 32, kernel_size=3, padding=1)\n",
    "        self.conv2 = nn.Conv2d(32, 64, kernel_size=3, padding=1)\n",
    "        self.conv3 = nn.Conv2d(64, 128, kernel_size=3, padding=1)\n",
    "        \n",
    "        self.pool = nn.MaxPool2d(2, 2)\n",
    "        self.dropout = nn.Dropout(0.3)\n",
    "        \n",
    "        self.fc1 = nn.Linear(128 * 4 * 4, 256)  # Adjusted for CIFAR-10\n",
    "        self.fc2 = nn.Linear(256, 128)\n",
    "        self.fc3 = nn.Linear(128, 10)\n",
    "        \n",
    "        self.batch_norm1 = nn.BatchNorm2d(32)\n",
    "        self.batch_norm2 = nn.BatchNorm2d(64)\n",
    "        self.batch_norm3 = nn.BatchNorm2d(128)\n",
    "\n",
    "    def forward(self, x):\n",
    "        x = self.pool(F.relu(self.batch_norm1(self.conv1(x))))\n",
    "        x = self.pool(F.relu(self.batch_norm2(self.conv2(x))))\n",
    "        x = self.pool(F.relu(self.batch_norm3(self.conv3(x))))\n",
    "        \n",
    "        x = torch.flatten(x, 1)  # Flatten feature maps\n",
    "        x = F.relu(self.fc1(x))\n",
    "        x = self.dropout(x)\n",
    "        x = F.relu(self.fc2(x))\n",
    "        x = self.dropout(x)\n",
    "        return self.fc3(x)\n",
    "    \n",
    "\n",
    "    def loss(self, inputs: torch.Tensor, targets: torch.Tensor, eval: bool = False) -> torch.Tensor:\n",
    "        self.eval() if eval else self.train()\n",
    "        return loss_fn(self(inputs), targets)\n",
    "\n",
    "    @torch.no_grad()\n",
    "    def metrics(self,\n",
    "                inputs: torch.Tensor,\n",
    "                targets: torch.Tensor,\n",
    "                eval: bool = True) -> Dict[str, Weighted]:\n",
    "        self.eval() if eval else self.train()\n",
    "        prediction = self(inputs)\n",
    "        logits = torch.argmax(prediction, dim=1)\n",
    "        num_samples = len(inputs)\n",
    "        # print(f\"num_samples: {num_samples}\")\n",
    "        # print(f'targets: {targets}')\n",
    "        # print(f'targets shape: {targets.shape}')\n",
    "        # print(f'logits: {logits}')\n",
    "        # print(f'logits shape: {logits.shape}')\n",
    "        # print(f'prediction: {prediction}')\n",
    "        # print(f'prediction shape: {prediction.shape}')\n",
    "        # row_indices = torch.arange(targets.size(0))\n",
    "        # correct_vector = targets[row_indices,logits]\n",
    "        # print(f'correct_vector: {correct_vector}')\n",
    "        # print(f'correct_vector shape: {correct_vector.shape}')\n",
    "\n",
    "        # temp = torch.eq(logits, targets)\n",
    "        # correct = torch.sum(correct_vector)\n",
    "\n",
    "        # loss = loss_fn(prediction, targets).item()\n",
    "\n",
    "        # Co-pilot fix\n",
    "        if targets.ndim > 1:\n",
    "            targets_indices = torch.argmax(targets, dim=1)\n",
    "        else:\n",
    "            targets_indices = targets\n",
    "        correct = (logits == targets_indices).sum().item()\n",
    "        loss = loss_fn(prediction, targets_indices).item()\n",
    "        \n",
    "        return {\n",
    "            \"loss\": Weighted(loss, num_samples),\n",
    "            \"accuracy\": Weighted(correct, num_samples)\n",
    "        }\n",
    "\n",
    "\n",
    "pytorch_model = Net()\n",
    "\n",
    "\n",
    "\n",
    "\n",
    "#pytorch_model.loss = loss\n",
    "#pytorch_model.metrics = metrics\n",
    "\n",
    "#pytorch_model.to(device)"
   ]
  },
  {
   "cell_type": "code",
   "execution_count": null,
   "metadata": {},
   "outputs": [],
   "source": [
    "# Alternative model from Ruben\n",
    "class Net1(nn.Module):\n",
    "    def __init__(self):\n",
    "        super().__init__()\n",
    "        self.conv1 = nn.Conv2d(3, 64,  kernel_size=5, padding=2)   # 4 800 + 64 = 4 864\n",
    "        self.conv2 = nn.Conv2d(64,128, kernel_size=5, padding=2)   # 204 800 + 128 = 204 928\n",
    "        self.pool  = nn.MaxPool2d(2)                               # keeps code tidy\n",
    "        self.fc1   = nn.Linear(128*6*6, 192)                       # 884 736 + 192\n",
    "        self.fc2   = nn.Linear(192,  64)                           # 12 288 + 64\n",
    "        self.out   = nn.Linear(64,   10)                           # 640 + 10\n",
    "        # ≈1 107 700 trainable parameters in total\n",
    "\n",
    "    def forward(self, x):\n",
    "        x = self.pool(F.relu(self.conv1(x)))   # 24→12\n",
    "        x = self.pool(F.relu(self.conv2(x)))   # 12→6\n",
    "        x = torch.flatten(x, 1)                # 128 × 6 × 6 = 4 608 features\n",
    "        x = F.relu(self.fc1(x))\n",
    "        x = F.relu(self.fc2(x))\n",
    "        return self.out(x)\n",
    "    \n",
    "    def loss(self, inputs: torch.Tensor, targets: torch.Tensor, eval: bool = False) -> torch.Tensor:\n",
    "        self.eval() if eval else self.train()\n",
    "        return loss_fn(self(inputs), targets)\n",
    "\n",
    "    @torch.no_grad()\n",
    "    def metrics(self,\n",
    "                inputs: torch.Tensor,\n",
    "                targets: torch.Tensor,\n",
    "                eval: bool = True) -> Dict[str, Weighted]:\n",
    "        self.eval() if eval else self.train()\n",
    "        prediction = self(inputs)\n",
    "        logits = torch.argmax(prediction, dim=1)\n",
    "        num_samples = len(inputs)\n",
    "        if targets.ndim > 1:\n",
    "            targets_indices = torch.argmax(targets, dim=1)\n",
    "        else:\n",
    "            targets_indices = targets\n",
    "        correct = (logits == targets_indices).sum().item()\n",
    "        loss = loss_fn(prediction, targets_indices).item()\n",
    "        \n",
    "        return {\n",
    "            \"loss\": Weighted(loss, num_samples),\n",
    "            \"accuracy\": Weighted(correct, num_samples)\n",
    "        }"
   ]
  },
  {
   "cell_type": "markdown",
   "metadata": {},
   "source": [
    "## Model for MNIST"
   ]
  },
  {
   "cell_type": "code",
   "execution_count": null,
   "metadata": {},
   "outputs": [],
   "source": [
    "class NetMNIST(nn.Module):\n",
    "    def init(self) -> None:\n",
    "        super().init()\n",
    "        self.conv1 = nn.Conv2d(1, 6, 3, padding=1)\n",
    "        self.pool = nn.MaxPool2d(2, 2)\n",
    "        self.conv2 = nn.Conv2d(6, 16, 5)\n",
    "        self.fc1 = nn.Linear(16 * 5 * 5, 120)\n",
    "        self.fc2 = nn.Linear(120, 84)\n",
    "        self.fc3 = nn.Linear(84, 10)\n",
    "\n",
    "    def forward(self, x: torch.Tensor) -> torch.Tensor:\n",
    "        batch_size = x.size(0)\n",
    "        x = self.pool(F.relu(self.conv1(x)))\n",
    "        x = self.pool(F.relu(self.conv2(x)))\n",
    "        x = x.view(batch_size, -1)\n",
    "        x = F.relu(self.fc1(x))\n",
    "        x = F.relu(self.fc2(x))\n",
    "        return self.fc3(x)\n",
    "    \n",
    "    def loss(self, inputs: torch.Tensor, targets: torch.Tensor, eval: bool = False) -> torch.Tensor:\n",
    "        self.eval() if eval else self.train()\n",
    "        return loss_fn(self(inputs), targets)\n",
    "\n",
    "    @torch.no_grad()\n",
    "    def metrics(self,\n",
    "                inputs: torch.Tensor,\n",
    "                targets: torch.Tensor,\n",
    "                eval: bool = True) -> Dict[str, Weighted]:\n",
    "        self.eval() if eval else self.train()\n",
    "        prediction = self(inputs)\n",
    "        logits = torch.argmax(prediction, dim=1)\n",
    "        num_samples = len(inputs)\n",
    "        if targets.ndim > 1:\n",
    "            targets_indices = torch.argmax(targets, dim=1)\n",
    "        else:\n",
    "            targets_indices = targets\n",
    "        correct = (logits == targets_indices).sum().item()\n",
    "        loss = loss_fn(prediction, targets_indices).item()\n",
    "        \n",
    "        return {\n",
    "            \"loss\": Weighted(loss, num_samples),\n",
    "            \"accuracy\": Weighted(correct, num_samples)\n",
    "        }"
   ]
  },
  {
   "cell_type": "markdown",
   "metadata": {},
   "source": [
    "## Wrapper function for instantiating the model"
   ]
  },
  {
   "cell_type": "code",
   "execution_count": null,
   "metadata": {},
   "outputs": [],
   "source": [
    "def create_pytorch_model():\n",
    "    pytorch_model = NetMNIST().to(device)\n",
    "    pytorch_model.loss = pytorch_model.loss\n",
    "    pytorch_model.metrics = pytorch_model.metrics\n",
    "    return pytorch_model"
   ]
  },
  {
   "cell_type": "markdown",
   "metadata": {},
   "source": [
    "## Debugging cell"
   ]
  },
  {
   "cell_type": "code",
   "execution_count": null,
   "metadata": {},
   "outputs": [],
   "source": [
    "# input = all_features[0:2]\n",
    "# print(f'input: {input.shape}')\n",
    "# target = all_labels[0:2]\n",
    "# print(f'target: {target.shape}')\n",
    "# pytorch_model.metrics(input, target)"
   ]
  },
  {
   "cell_type": "markdown",
   "metadata": {},
   "source": [
    "# Preprocess the data"
   ]
  },
  {
   "cell_type": "markdown",
   "metadata": {},
   "source": [
    "## Load the data"
   ]
  },
  {
   "cell_type": "code",
   "execution_count": null,
   "metadata": {},
   "outputs": [],
   "source": [
    "from pfl.data.dataset import Dataset\n",
    "import torchvision\n",
    "import torchvision.transforms as transforms\n"
   ]
  },
  {
   "cell_type": "code",
   "execution_count": null,
   "metadata": {},
   "outputs": [],
   "source": [
    "transform = transforms.Compose([transforms.ToTensor(), transforms.Normalize((0.5,), (0.5,))])\n",
    "\n",
    "batch_size = 32\n",
    "\n",
    "trainset = torchvision.datasets.MNIST(root='./data', train=True,\n",
    "                                        download=True, transform=transform)\n",
    "trainloader = torch.utils.data.DataLoader(trainset, batch_size=batch_size,\n",
    "                                          shuffle=True, num_workers=0)\n",
    "\n",
    "testset = torchvision.datasets.MNIST(root='./data', train=False,\n",
    "                                       download=True, transform=transform)\n",
    "testloader = torch.utils.data.DataLoader(testset, batch_size=batch_size,\n",
    "                                         shuffle=False, num_workers=0)\n"
   ]
  },
  {
   "cell_type": "markdown",
   "metadata": {},
   "source": [
    "## Reformat the data"
   ]
  },
  {
   "cell_type": "code",
   "execution_count": null,
   "metadata": {},
   "outputs": [],
   "source": [
    "def dataloader_to_tensor_pair(dataloader):\n",
    "    \"\"\"\n",
    "    Converts a PyTorch DataLoader to a pair of tensors (inputs, targets).\n",
    "    Args:\n",
    "        dataloader (torch.utils.data.DataLoader): The DataLoader to convert.\n",
    "    \n",
    "    Returns:\n",
    "        tuple: A tuple containing two tensors: inputs and targets.\"\"\"\n",
    "    \n",
    "    # print(\"dataloader_to_tensor_pair called\")\n",
    "    inputs, targets = [], []\n",
    "    # i = 0\n",
    "    # print(\"Starting to iterate over the dataloader\")\n",
    "    print(dataloader)\n",
    "    for feature, label in dataloader:\n",
    "        # print(f'Iteration {i}')\n",
    "        # i += 1\n",
    "        inputs.append(feature)\n",
    "        targets.append(label)\n",
    "    return torch.cat(inputs, dim=0), torch.cat(targets, dim=0)"
   ]
  },
  {
   "cell_type": "code",
   "execution_count": null,
   "metadata": {},
   "outputs": [],
   "source": [
    "print(\"Calling dataloader_to_tensor_pair() to convert the train loader to tensors...\")\n",
    "train_features, train_labels = dataloader_to_tensor_pair(trainloader)\n",
    "print(\"Calling dataloader_to_tensor_pair() to convert the test loader to tensors...\")\n",
    "val_features, val_labels = dataloader_to_tensor_pair(testloader)\n",
    "print(\"Done converting dataloaders to tensors.\")\n",
    "central_data = Dataset(raw_data=[val_features, val_labels])"
   ]
  },
  {
   "cell_type": "code",
   "execution_count": null,
   "metadata": {},
   "outputs": [],
   "source": [
    "# # Split the training dataloader into features and labels\n",
    "# train_all_features = []\n",
    "# train_all_labels = []\n",
    "\n",
    "# for features, labels in trainloader:\n",
    "#     train_all_features.append(features)\n",
    "#     train_all_labels.append(labels)\n",
    "\n",
    "# # Convert to tensors if needed\n",
    "# train_all_features = torch.cat(train_all_features, dim=0).to(device)\n",
    "# train_all_labels = torch.cat(train_all_labels, dim=0).to(device)"
   ]
  },
  {
   "cell_type": "code",
   "execution_count": null,
   "metadata": {},
   "outputs": [],
   "source": [
    "# print(train_all_features.shape)\n",
    "# print(train_all_labels.shape)"
   ]
  },
  {
   "cell_type": "code",
   "execution_count": null,
   "metadata": {},
   "outputs": [],
   "source": [
    "# Convert labels to one-hot encoding\n",
    "# one_hots = np.eye(10)\n",
    "# train_all_labels = one_hots[train_all_labels].squeeze()"
   ]
  },
  {
   "cell_type": "code",
   "execution_count": null,
   "metadata": {},
   "outputs": [],
   "source": [
    "# # Split the validation dataloader into features and labels\n",
    "# val_all_features = []\n",
    "# val_all_labels = []\n",
    "\n",
    "# for features, labels in testloader:\n",
    "#     val_all_features.append(features)\n",
    "#     val_all_labels.append(labels)\n",
    "\n",
    "# # Convert to tensors if needed\n",
    "# val_all_features = torch.cat(val_all_features, dim=0).to(device)\n",
    "# val_all_labels = torch.cat(val_all_labels, dim=0).to(device)\n"
   ]
  },
  {
   "cell_type": "code",
   "execution_count": null,
   "metadata": {},
   "outputs": [],
   "source": [
    "# print(val_all_features.shape)\n",
    "# print(val_all_labels.shape)"
   ]
  },
  {
   "cell_type": "code",
   "execution_count": null,
   "metadata": {},
   "outputs": [],
   "source": [
    "# Convert the labels to one-hot encoding\n",
    "# one_hots = np.eye(10)\n",
    "# val_all_labels = one_hots[val_all_labels].squeeze()"
   ]
  },
  {
   "cell_type": "code",
   "execution_count": null,
   "metadata": {},
   "outputs": [],
   "source": [
    "# n_samples = len(trainloader.dataset)\n",
    "# print(n_samples)\n",
    "# val_n_samples = len(testloader.dataset)\n",
    "# print(val_n_samples)"
   ]
  },
  {
   "cell_type": "code",
   "execution_count": null,
   "metadata": {},
   "outputs": [],
   "source": [
    "# Central data used for evaluating the central model at the server at each central iteration\n",
    "# Just consists of the validation data\n",
    "# central_data = Dataset(raw_data=[val_all_features, val_all_labels])"
   ]
  },
  {
   "cell_type": "markdown",
   "metadata": {},
   "source": [
    "# Alternative preprocessing of data using Ruben's solution"
   ]
  },
  {
   "cell_type": "code",
   "execution_count": null,
   "metadata": {},
   "outputs": [],
   "source": [
    "# from typing import Any\n",
    "# from torchvision import transforms as T\n",
    "\n",
    "# class PerImageWhitening:\n",
    "#     def __call__(self, x):\n",
    "#         return (x - x.mean(dim=(1, 2), keepdim=True)) / (x.std(dim=(1, 2), keepdim=True) + 1e-5)\n",
    "\n",
    "# # McMahan's preprocessing on the dataset\n",
    "# def cifar_transforms(train: bool):\n",
    "#     aug = [\n",
    "#         T.RandomCrop(24),\n",
    "#         T.RandomHorizontalFlip(),\n",
    "#         T.ColorJitter(brightness=0.2, contrast=0.2),\n",
    "#     ] if train else [T.CenterCrop(24)]\n",
    "\n",
    "#     aug += [\n",
    "#         T.ToTensor(),\n",
    "#         # per‑image whitening (zero‑mean / unit‑var)\n",
    "#         PerImageWhitening()\n",
    "#     ]\n",
    "#     return T.Compose(aug)"
   ]
  },
  {
   "cell_type": "markdown",
   "metadata": {},
   "source": [
    "Load the data using McMahan's transformers for preprocessing."
   ]
  },
  {
   "cell_type": "code",
   "execution_count": null,
   "metadata": {},
   "outputs": [],
   "source": [
    "# from pathlib import Path\n",
    "# from torchvision import datasets\n",
    "# from torch.utils.data import DataLoader\n",
    "\n",
    "# def get_full_dataloaders(batch_size: int = 32, subset_size: bool = True):\n",
    "#     \"\"\"Standard, non‑partitioned CIFAR‑10 train/test loaders.\"\"\"\n",
    "#     train_set = datasets.CIFAR10(root='./data', train=True,\n",
    "#                                  download=True, transform=cifar_transforms(True))\n",
    "#     test_set  = datasets.CIFAR10(root='./data', train=False,\n",
    "#                                  download=True, transform=cifar_transforms(False))\n",
    "\n",
    "#     # if subset_size:\n",
    "#     #     train_set = torch.utils.data.Subset(train_set, range(1000))\n",
    "#     #     test_set = torch.utils.data.Subset(test_set, range(int(1000 * 0.2)))\n",
    "\n",
    "#     train_loader = DataLoader(train_set, batch_size=batch_size,\n",
    "#                               shuffle=True, num_workers=0, pin_memory=True)\n",
    "#     test_loader  = DataLoader(test_set,  batch_size=batch_size,\n",
    "#                               shuffle=False, num_workers=0, pin_memory=True)\n",
    "#     return train_loader, test_loader\n"
   ]
  },
  {
   "cell_type": "code",
   "execution_count": null,
   "metadata": {},
   "outputs": [
    {
     "name": "stdout",
     "output_type": "stream",
     "text": [
      "Calling get_full_dataloaders() to get the train and test loaders...\n",
      "Calling dataloader_to_tensor_pair() to convert the train loader to tensors...\n",
      "<torch.utils.data.dataloader.DataLoader object at 0x000002B96B3A8AC0>\n",
      "Calling dataloader_to_tensor_pair() to convert the test loader to tensors...\n",
      "<torch.utils.data.dataloader.DataLoader object at 0x000002B96B3A8F70>\n",
      "Done converting dataloaders to tensors.\n"
     ]
    }
   ],
   "source": [
    "# print(\"Calling get_full_dataloaders() to get the train and test loaders...\")\n",
    "# train_loader, test_loader = get_full_dataloaders()\n",
    "    \n",
    "# print(\"Calling dataloader_to_tensor_pair() to convert the train loader to tensors...\")\n",
    "# train_features, train_labels = dataloader_to_tensor_pair(train_loader)\n",
    "# print(\"Calling dataloader_to_tensor_pair() to convert the test loader to tensors...\")\n",
    "# val_features, val_labels = dataloader_to_tensor_pair(test_loader)\n",
    "# print(\"Done converting dataloaders to tensors.\")\n",
    "# central_data = Dataset(raw_data=[val_features, val_labels])"
   ]
  },
  {
   "cell_type": "markdown",
   "metadata": {},
   "source": [
    "# Train the model"
   ]
  },
  {
   "cell_type": "markdown",
   "metadata": {},
   "source": [
    "## Processing the data"
   ]
  },
  {
   "cell_type": "markdown",
   "metadata": {},
   "source": [
    "There are two ways of creating the federated dataset. You create an artificial federated dataset or just a normal federated dataset.\n",
    "\n",
    "The difference between the two is that you want to use artificial federated dataset if your dataset does not provide user identifiers. These user identifiers are used to create an association between a user (participating in FL training) and their local dataset.\n",
    "\n",
    "An example of a dataset that lacks user identifier is the CIFAR10 dataset. Therefore, it would be natural to instantiate an `ArtificialFederatedDataset`. One issue with this class from the `pfl` module is that you do not have any control over how many users there are in the dataset. The way `ArtificialFederatedDataset` works is that whenever you request a user dataset from it, the federated dataset samples a random subset of the original dataset and returns this subset on demand. This subset is an artificial user dataset <br>\n",
    "On the other hand, you can decide how many data examples an artificial user by providing a callable parameter `sample_dataset_len`. It could be a lambda function that returns a constant, like 10 for instance. This means that every artificial user dataset will contain 10 data examples. Or you may do something a bit more complicated and sample a random number from a distribution of your choice. Then not all artificial user datasets will have the same number of examples."
   ]
  },
  {
   "cell_type": "markdown",
   "metadata": {},
   "source": [
    "### Creating artificial federated dataset"
   ]
  },
  {
   "cell_type": "code",
   "execution_count": null,
   "metadata": {},
   "outputs": [],
   "source": [
    "from pfl.data import ArtificialFederatedDataset, get_data_sampler"
   ]
  },
  {
   "cell_type": "code",
   "execution_count": null,
   "metadata": {},
   "outputs": [],
   "source": [
    "# # Create data sampler to sample each artificial user dataset as a random subset of the original dataset\n",
    "# data_sampler = get_data_sampler(sample_type=\"minimize_reuse\", max_bound=n_samples)\n",
    "\n",
    "# # Create an artificial federated dataset where each user dataset has constant size such that there are 10 users to distribute among\n",
    "# sample_dataset_len = lambda: int(n_samples/10)\n",
    "# federated_dataset = ArtificialFederatedDataset.from_slices(\n",
    "#     data=[all_features, all_labels], \n",
    "#     data_sampler=data_sampler,\n",
    "#     sample_dataset_len=sample_dataset_len,\n",
    "# )"
   ]
  },
  {
   "cell_type": "code",
   "execution_count": null,
   "metadata": {},
   "outputs": [],
   "source": [
    "# val_data_sampler = get_data_sampler(sample_type=\"minimize_reuse\", max_bound=val_n_samples)\n",
    "\n",
    "# # Create an artificial federated dataset where each user dataset has constant size such that there are of 10 users to distribute among\n",
    "# val_sample_dataset_len = lambda: int(val_n_samples/10)\n",
    "# val_federated_dataset = ArtificialFederatedDataset.from_slices(\n",
    "#     data=[val_all_features, val_all_labels],\n",
    "#     data_sampler=val_data_sampler,\n",
    "#     sample_dataset_len=val_sample_dataset_len\n",
    "# )"
   ]
  },
  {
   "cell_type": "markdown",
   "metadata": {},
   "source": [
    "### Creating a federated dataset\n",
    "\n",
    "For the purpose of being able to control the actual number of users, which `ArtificialFederatedDataset` does not allow"
   ]
  },
  {
   "cell_type": "markdown",
   "metadata": {},
   "source": [
    "<strong>Reflection on designing `FederatedDataset`</strong>\n",
    "\n",
    "How many datapoints should each user have?\n",
    "- Every user has 50000/100 = 500 datapoints (easy approach)\n",
    "- Alternatively, do some randomization on how many datapoints each user has (harder approach)\n",
    "\n",
    "Should we use the exact same federated dataset in every FL experiment?\n",
    "- The datapoint will be allocated to the same user in every experiment. This means that user 0 will have the exact same datapoints. User 1 will also have the exact same datapoints and so on... for every single time we run our experiment. This means our federated dataset will be exactly the same every time we run our experiment.\n",
    "\n",
    "We decided to assume that all users have equally many datapoints and they will each possess the same datapoints every time we run our experiments."
   ]
  },
  {
   "cell_type": "code",
   "execution_count": null,
   "metadata": {},
   "outputs": [],
   "source": [
    "from pfl.data import get_user_sampler, FederatedDataset"
   ]
  },
  {
   "cell_type": "markdown",
   "metadata": {},
   "source": [
    "#### Training set (Fixed)\n",
    "I must first decide how many users there are and then the method to how the data is distributed among the users."
   ]
  },
  {
   "cell_type": "code",
   "execution_count": null,
   "metadata": {},
   "outputs": [],
   "source": [
    "# # Hyperparameter\n",
    "# user_dataset_size = int(n_samples / n_clients)\n",
    "# print(f'datapoints per user: {user_dataset_size}')\n",
    "\n",
    "# # Maps user id to user dataset\n",
    "# user_id_to_data = {}\n",
    "\n",
    "# # Assign each user a dataset\n",
    "# for i in range(n_clients):\n",
    "#     start = i*user_dataset_size\n",
    "#     end = start+user_dataset_size\n",
    "#     features = train_all_features[start:end]\n",
    "#     labels = train_all_labels[start:end]\n",
    "#     user_id_to_data[i] = (features, labels)\n",
    "\n",
    "# user_ids = list(user_id_to_data.keys())\n",
    "\n",
    "# user_sampler = get_user_sampler(sample_type=\"random\", user_ids=user_ids)"
   ]
  },
  {
   "cell_type": "code",
   "execution_count": null,
   "metadata": {},
   "outputs": [],
   "source": [
    "# federated_dataset = FederatedDataset.from_slices(\n",
    "#     data=user_id_to_data,\n",
    "#     user_sampler=user_sampler)"
   ]
  },
  {
   "cell_type": "code",
   "execution_count": null,
   "metadata": {},
   "outputs": [],
   "source": [
    "# Encapsulate the above code in a function\n",
    "\n",
    "def create_fixed_federated_dataset(\n",
    "    n_clients: int,\n",
    "    user_dataset_size: int,\n",
    "    train_all_features: torch.Tensor,\n",
    "    train_all_labels: torch.Tensor\n",
    ") -> FederatedDataset:\n",
    "    \"\"\"\n",
    "    Create a fixed federated dataset with a given number of clients and dataset size.\n",
    "    \n",
    "    Args:\n",
    "        n_clients (int): Number of clients.\n",
    "        user_dataset_size (int): Size of each user's dataset.\n",
    "        train_all_features (torch.Tensor): All training features.\n",
    "        train_all_labels (torch.Tensor): All training labels.\n",
    "        \n",
    "    Returns:\n",
    "        FederatedDataset: The created federated dataset.\n",
    "    \"\"\"\n",
    "    user_id_to_data = {}\n",
    "    \n",
    "    for i in range(n_clients):\n",
    "        start = i * user_dataset_size\n",
    "        end = start + user_dataset_size\n",
    "        features = train_all_features[start:end]\n",
    "        labels = train_all_labels[start:end]\n",
    "        user_id_to_data[i] = (features, labels)\n",
    "\n",
    "    user_ids = list(user_id_to_data.keys())\n",
    "    user_sampler = get_user_sampler(sample_type=\"random\", user_ids=user_ids)\n",
    "\n",
    "    return FederatedDataset.from_slices(\n",
    "        data=user_id_to_data,\n",
    "        user_sampler=user_sampler\n",
    "    )"
   ]
  },
  {
   "cell_type": "markdown",
   "metadata": {},
   "source": [
    "#### Training set (Random)"
   ]
  },
  {
   "cell_type": "markdown",
   "metadata": {},
   "source": [
    "Testing cells for shuffling torch tensors"
   ]
  },
  {
   "cell_type": "code",
   "execution_count": null,
   "metadata": {},
   "outputs": [],
   "source": [
    "# tensor = torch.tensor([\n",
    "#     [1, 2, 3],\n",
    "#     [4, 5, 6],\n",
    "#     [7, 8, 9]\n",
    "# ])"
   ]
  },
  {
   "cell_type": "code",
   "execution_count": null,
   "metadata": {},
   "outputs": [],
   "source": [
    "# rand_indices = torch.randperm(tensor.size(0))\n",
    "# rand_indices"
   ]
  },
  {
   "cell_type": "code",
   "execution_count": null,
   "metadata": {},
   "outputs": [],
   "source": [
    "# shuffled = tensor[rand_indices]\n",
    "# shuffled"
   ]
  },
  {
   "cell_type": "markdown",
   "metadata": {},
   "source": [
    "Actual creation of random `FederatedDataset`"
   ]
  },
  {
   "cell_type": "code",
   "execution_count": null,
   "metadata": {},
   "outputs": [],
   "source": [
    "# # Hyperparameter\n",
    "# user_dataset_size = int(n_samples / n_clients)\n",
    "# print(f'datapoints per user: {user_dataset_size}')\n",
    "\n",
    "# # Maps user id to user dataset\n",
    "# user_id_to_data = {}\n",
    "\n",
    "# # Randomly shuffle the dataset\n",
    "# rand_indices = torch.randperm(n_samples)\n",
    "# shuffled_features = train_all_features[rand_indices]\n",
    "# shuffled_labels = train_all_labels[rand_indices]\n",
    "\n",
    "# # Assign each user a dataset\n",
    "# for i in range(n_clients):\n",
    "#     start = i*user_dataset_size\n",
    "#     end = start+user_dataset_size\n",
    "#     features = shuffled_features[start:end]\n",
    "#     labels = shuffled_labels[start:end]\n",
    "#     user_id_to_data[i] = (features, labels)\n",
    "\n",
    "# user_ids = list(user_id_to_data.keys())\n",
    "\n",
    "# user_sampler = get_user_sampler(sample_type=\"random\", user_ids=user_ids)"
   ]
  },
  {
   "cell_type": "code",
   "execution_count": null,
   "metadata": {},
   "outputs": [],
   "source": [
    "# federated_dataset = FederatedDataset.from_slices(\n",
    "#     data=user_id_to_data,\n",
    "#     user_sampler=user_sampler)"
   ]
  },
  {
   "cell_type": "code",
   "execution_count": null,
   "metadata": {},
   "outputs": [],
   "source": [
    "# Encapsulate the above code in a function\n",
    "\n",
    "def create_random_federated_dataset(\n",
    "    n_clients: int,\n",
    "    user_dataset_size: int,\n",
    "    train_all_features: torch.Tensor,\n",
    "    train_all_labels: torch.Tensor\n",
    ") -> FederatedDataset:\n",
    "    \"\"\"\n",
    "    Create a random federated dataset with a given number of clients and dataset size.\n",
    "    \n",
    "    Args:\n",
    "        n_clients (int): Number of clients.\n",
    "        user_dataset_size (int): Size of each user's dataset.\n",
    "        train_all_features (torch.Tensor): All training features.\n",
    "        train_all_labels (torch.Tensor): All training labels.\n",
    "        \n",
    "    Returns:\n",
    "        FederatedDataset: The created federated dataset.\n",
    "    \"\"\"\n",
    "    user_id_to_data = {}\n",
    "    \n",
    "    # Randomly shuffle the dataset\n",
    "    rand_indices = torch.randperm(train_all_features.size(0))\n",
    "    shuffled_features = train_all_features[rand_indices]\n",
    "    shuffled_labels = train_all_labels[rand_indices]\n",
    "\n",
    "    # Assign each user a dataset\n",
    "    for i in range(n_clients):\n",
    "        start = i * user_dataset_size\n",
    "        end = start + user_dataset_size\n",
    "        features = shuffled_features[start:end]\n",
    "        labels = shuffled_labels[start:end]\n",
    "        user_id_to_data[i] = (features, labels)\n",
    "\n",
    "    user_ids = list(user_id_to_data.keys())\n",
    "    user_sampler = get_user_sampler(sample_type=\"random\", user_ids=user_ids)\n",
    "\n",
    "    return FederatedDataset.from_slices(\n",
    "        data=user_id_to_data,\n",
    "        user_sampler=user_sampler\n",
    "    )"
   ]
  },
  {
   "cell_type": "markdown",
   "metadata": {},
   "source": [
    "#### Validation set"
   ]
  },
  {
   "cell_type": "code",
   "execution_count": null,
   "metadata": {},
   "outputs": [],
   "source": [
    "from typing import Tuple, Iterable\n",
    "from pfl.data.dataset import AbstractDataset\n",
    "from pfl.data.federated_dataset import FederatedDatasetBase\n",
    "\n",
    "# Define my own custom Federated Dataset class for validation data\n",
    "\n",
    "\"\"\"\n",
    "    I did not see any reason to distribute validation data among users.\n",
    "    Unfortunately, the pfl module does not provide a fitting implementation of\n",
    "    a FederatedDataset for validation data. Therefore, I created my own class\n",
    "    that simply returns the validation data as is.\n",
    "\"\"\"\n",
    "class ValidationFederatedDataset(FederatedDatasetBase):\n",
    "\n",
    "    def __init__(self, dataset: Dataset):\n",
    "        self.dataset = dataset\n",
    "\n",
    "    def __next__(self) -> Tuple[AbstractDataset, int]:\n",
    "        return Tuple(self.dataset, 0)\n",
    "    \n",
    "    def get_cohort(self, cohort_size: int) -> Iterable[Tuple[AbstractDataset, int]]:\n",
    "        return [(self.dataset, 0)]\n"
   ]
  },
  {
   "cell_type": "code",
   "execution_count": null,
   "metadata": {},
   "outputs": [],
   "source": [
    "# val_federated_dataset = ValidationFederatedDataset(Dataset([val_all_features, val_all_labels]))"
   ]
  },
  {
   "cell_type": "markdown",
   "metadata": {},
   "source": [
    "## Debugging cell"
   ]
  },
  {
   "cell_type": "code",
   "execution_count": null,
   "metadata": {},
   "outputs": [],
   "source": [
    "# import importlib\n",
    "# import pfl.data.dataset\n",
    "\n",
    "# importlib.reload(pfl.data.dataset)\n",
    "\n",
    "# from pfl.data.dataset import Dataset\n",
    "\n",
    "# cohorts = federated_dataset.get_cohort(1)\n",
    "# print(f'cohorts: {cohorts}')\n",
    "# user_dataset, _ = next(cohorts)\n",
    "# print(f'user_dataset: {user_dataset}')\n",
    "# len(user_dataset)"
   ]
  },
  {
   "cell_type": "markdown",
   "metadata": {},
   "source": [
    "## Setting up the model"
   ]
  },
  {
   "cell_type": "code",
   "execution_count": null,
   "metadata": {},
   "outputs": [],
   "source": []
  },
  {
   "cell_type": "code",
   "execution_count": null,
   "metadata": {},
   "outputs": [],
   "source": [
    "# params = [p for p in pytorch_model.parameters() if p.requires_grad]\n",
    "\n",
    "# model = PyTorchModel(pytorch_model, \n",
    "#                      local_optimizer_create=torch.optim.Adam,\n",
    "#                      central_optimizer=torch.optim.Adam(params, lr=0.001, weight_decay=1e-5))"
   ]
  },
  {
   "cell_type": "code",
   "execution_count": null,
   "metadata": {},
   "outputs": [],
   "source": [
    "from pfl.algorithm import FederatedAveraging, NNAlgorithmParams\n",
    "from pfl.callback import CentralEvaluationCallback, AggregateMetricsToDisk\n",
    "from pfl.hyperparam import NNTrainHyperParams, NNEvalHyperParams\n",
    "from pfl.aggregate.simulate import SimulatedBackend\n",
    "\n",
    "\n",
    "# model_train_params = NNTrainHyperParams(\n",
    "#     local_learning_rate=local_learning_rate,\n",
    "#     local_num_epochs=local_num_epochs,\n",
    "#     local_batch_size=local_batch_size)\n",
    "\n",
    "# # Do full-batch evaluation to run faster.\n",
    "# model_eval_params = NNEvalHyperParams(local_batch_size=None)\n",
    "\n",
    "# algorithm_params = NNAlgorithmParams(\n",
    "#     central_num_iterations=central_num_iterations,\n",
    "#     evaluation_frequency=evaluation_frequency,\n",
    "#     train_cohort_size=cohort_size,\n",
    "#     val_cohort_size=1)\n",
    "\n",
    "# pfl_callbacks = [CentralEvaluationCallback(central_data, model_eval_params, evaluation_frequency),\n",
    "#                   AggregateMetricsToDisk(output_path='pfl_training_metrics/metrics.csv')] # Save the metrics to a CSV file\n",
    "\n",
    "# # Add the privacy mechanism to the training process\n",
    "# # If you do not want to add privacy, simply leave 'postprocessors' empty\n",
    "# postprocessors = [rdp_central_privacy]\n",
    "\n",
    "# pfl_simulated_backend = SimulatedBackend(\n",
    "#     training_data=federated_dataset,\n",
    "#     val_data=val_federated_dataset,\n",
    "#     postprocessors=postprocessors\n",
    "# )\n",
    "\n",
    "\n",
    "algorithm = FederatedAveraging()"
   ]
  },
  {
   "cell_type": "markdown",
   "metadata": {},
   "source": [
    "## Run the training"
   ]
  },
  {
   "cell_type": "code",
   "execution_count": null,
   "metadata": {},
   "outputs": [],
   "source": [
    "# pfl_model = algorithm.run(\n",
    "#     backend=pfl_simulated_backend,\n",
    "#     model=model,\n",
    "#     algorithm_params=algorithm_params,\n",
    "#     model_train_params=model_train_params,\n",
    "#     model_eval_params=model_eval_params,\n",
    "#     callbacks=pfl_callbacks,\n",
    "#     send_metrics_to_platform=True)"
   ]
  },
  {
   "cell_type": "markdown",
   "metadata": {},
   "source": [
    "# Plot the metrics"
   ]
  },
  {
   "cell_type": "code",
   "execution_count": null,
   "metadata": {},
   "outputs": [],
   "source": [
    "# import pandas as pd\n",
    "# import matplotlib.pyplot as plt\n",
    "\n",
    "# metrics = pd.read_csv('pfl_training_metrics/metrics.csv')\n",
    "# metrics = metrics.dropna(subset=['Central val | accuracy'])"
   ]
  },
  {
   "cell_type": "code",
   "execution_count": null,
   "metadata": {},
   "outputs": [],
   "source": [
    "# plt.plot(metrics['central_iteration'], metrics['Central val | accuracy'], label='Central Validation Accuracy')\n",
    "# plt.xlabel('Central Iteration')\n",
    "# plt.ylabel('Accuracy')"
   ]
  },
  {
   "cell_type": "markdown",
   "metadata": {},
   "source": [
    "# Experimentation\n",
    "\n",
    "The sections \"Setting up the model\", \"Run the training\" and \"Plot the metrics\" should demonstrate a single instance of a Federated Learning training.\n",
    "\n",
    "However, we as researchers wish to run a particular training several times and take the average of the accuracy of each training instance. The following code should do that."
   ]
  },
  {
   "cell_type": "code",
   "execution_count": null,
   "metadata": {},
   "outputs": [],
   "source": [
    "# Define Gaussian DP mechanisms for central DP guarantees using three different methods\n",
    "\n",
    "n_clients = 8                                  # Number of clients\n",
    "n_samples = len(trainset.dataset)           # Number of training samples\n",
    "user_dataset_size = int(n_samples / n_clients) # Size of each user's dataset\n",
    "clipping_bound = 0.5                           # Clipping bound for DP\n",
    "epsilon = 1                                    # Epsilon parameter for DP\n",
    "delta = 1e-8                                   # Delta parameter for DP\n",
    "is_central = True                              # Probably delete this line in the future, as it is not used anywhere else in the code.\n",
    "\n",
    "# Other parameters for the training process\n",
    "\n",
    "local_learning_rate = 0.001                    # Learning rate for local training\n",
    "local_num_epochs = 4                           # Number of local epochs for each client\n",
    "local_batch_size = 32                          # Batch size for local training\n",
    "central_num_iterations = 100                    # Number of central iterations\n",
    "evaluation_frequency = 1                       # How often to evaluate the model (in terms of central iterations)\n",
    "cohort_size = 8                                # Number of clients in the cohort\n",
    "sampling_probability = cohort_size / n_clients # Probability of a client being selected as cohort for a given iteration: cohort_size / n_clients\n",
    "\n",
    "# Choose the number of FL training instances\n",
    "no_of_training : int = 5\n",
    "\n",
    "# Choose a name for the training metrics file\n",
    "training_name = \"pfl_centralized_fixed_metrics_test\""
   ]
  },
  {
   "cell_type": "code",
   "execution_count": null,
   "metadata": {},
   "outputs": [],
   "source": [
    "def create_pfl_model():\n",
    "    model = create_pytorch_model()\n",
    "    params = [p for p in model.parameters() if p.requires_grad]\n",
    "    return PyTorchModel(model,\n",
    "                        local_optimizer_create=torch.optim.SGD,\n",
    "                        central_optimizer=torch.optim.SGD(params, lr=local_learning_rate, weight_decay=1e-5))"
   ]
  },
  {
   "cell_type": "code",
   "execution_count": null,
   "metadata": {},
   "outputs": [],
   "source": [
    "'''\n",
    "params = [p for p in pytorch_model.parameters() if p.requires_grad]\n",
    "\n",
    "model = PyTorchModel(pytorch_model, \n",
    "                     local_optimizer_create=torch.optim.Adam,\n",
    "                     central_optimizer=torch.optim.Adam(params, lr=local_learning_rate, weight_decay=1e-5))\n",
    "'''\n",
    "                     \n",
    "model_train_params = NNTrainHyperParams(\n",
    "    local_learning_rate=local_learning_rate,\n",
    "    local_num_epochs=local_num_epochs,\n",
    "    local_batch_size=local_batch_size)\n",
    "\n",
    "# Do full-batch evaluation to run faster.\n",
    "model_eval_params = NNEvalHyperParams(local_batch_size=None)\n",
    "\n",
    "algorithm_params = NNAlgorithmParams(\n",
    "    central_num_iterations=central_num_iterations,\n",
    "    evaluation_frequency=evaluation_frequency,\n",
    "    train_cohort_size=cohort_size,\n",
    "    val_cohort_size=1)"
   ]
  },
  {
   "cell_type": "code",
   "execution_count": null,
   "metadata": {},
   "outputs": [],
   "source": [
    "\n",
    "def run_experiements(no_of_training: int, training_name: str, n_clients: int, user_dataset_size: int, \n",
    "                     is_random_dataset: bool = True, postprocessors: list = []):\n",
    "    \"\"\"\n",
    "\n",
    "    Args:\n",
    "        no_of_training (int): Number of training instances to run.\n",
    "        training_name (str): Name for the training metrics file.\n",
    "        n_clients (int): Number of clients.\n",
    "        user_dataset_size (int): Size of each user's dataset.\n",
    "        is_random_dataset (bool): Whether to use a random dataset or a fixed dataset.\n",
    "        postprocessors (list): List of postprocessors to apply during training. This is used to add the privacy mechanism. By default, there is no privacy mechanism.\n",
    "    \"\"\"\n",
    "\n",
    "    create_federated_dataset = create_random_federated_dataset if is_random_dataset else create_fixed_federated_dataset\n",
    "\n",
    "    for i in range(no_of_training):\n",
    "        # Initialize the model for each training instance\n",
    "        model = create_pfl_model()\n",
    "\n",
    "        # Create a new federated dataset\n",
    "        # Either use create_fixed_federated_dataset or create_random_federated_dataset depending on your needs\n",
    "        federated_dataset = create_federated_dataset(\n",
    "            n_clients=n_clients,\n",
    "            user_dataset_size=user_dataset_size,\n",
    "            train_all_features=train_features,\n",
    "            train_all_labels=train_labels\n",
    "        )\n",
    "\n",
    "        # Create a new validation federated dataset\n",
    "        val_federated_dataset = ValidationFederatedDataset(Dataset(raw_data=[val_features, val_labels]))\n",
    "\n",
    "        pfl_callbacks = [CentralEvaluationCallback(central_data, model_eval_params, evaluation_frequency),\n",
    "                    AggregateMetricsToDisk(output_path=f'experimental_results/{training_name}/metrics_{i}.csv')] # Save the metrics to a CSV file\n",
    "\n",
    "\n",
    "        # Run the training process again with the new datasets\n",
    "        pfl_simulated_backend = SimulatedBackend(\n",
    "            training_data=federated_dataset,\n",
    "            val_data=val_federated_dataset,\n",
    "            postprocessors=postprocessors\n",
    "        )\n",
    "\n",
    "        algorithm.run(\n",
    "            backend=pfl_simulated_backend,\n",
    "            model=model,\n",
    "            algorithm_params=algorithm_params,\n",
    "            model_train_params=model_train_params,\n",
    "            model_eval_params=model_eval_params,\n",
    "            callbacks=pfl_callbacks,\n",
    "            send_metrics_to_platform=True)"
   ]
  },
  {
   "cell_type": "code",
   "execution_count": null,
   "metadata": {},
   "outputs": [],
   "source": [
    "# This cell is used to define the privacy mechanism for the training process\n",
    "\n",
    "rdp_accountant = RDPPrivacyAccountant(\n",
    "    num_compositions=central_num_iterations,\n",
    "    sampling_probability=sampling_probability,\n",
    "    mechanism='gaussian',\n",
    "    epsilon=epsilon,\n",
    "    delta=delta\n",
    "    #noise_parameter = 2 * np.log(1.25 / delta) * 1/(epsilon**2)  # Relative noise standard deviation\n",
    ")\n",
    "\n",
    "# As I understand, this is the local noise mechanism that will be applied to the local model updates\n",
    "rdp_gaussian_noise_mechanism = GaussianMechanism.from_privacy_accountant(\n",
    "    accountant=rdp_accountant, clipping_bound=clipping_bound)\n",
    "\n",
    "# This line wraps the noise mechanism with CentrallyAppliedPrivacyMechanism to make it a central privacy mechanism\n",
    "rdp_central_privacy = CentrallyAppliedPrivacyMechanism(rdp_gaussian_noise_mechanism)"
   ]
  },
  {
   "cell_type": "markdown",
   "metadata": {},
   "source": [
    "### Run the experiment"
   ]
  },
  {
   "cell_type": "code",
   "execution_count": null,
   "metadata": {},
   "outputs": [],
   "source": [
    "run_experiements(no_of_training, training_name, n_clients, user_dataset_size, \n",
    "                 is_random_dataset=False, postprocessors=[rdp_gaussian_noise_mechanism])"
   ]
  },
  {
   "cell_type": "markdown",
   "metadata": {},
   "source": [
    "# Ruben ting"
   ]
  },
  {
   "cell_type": "markdown",
   "metadata": {},
   "source": [
    "Change of cell 51"
   ]
  },
  {
   "cell_type": "code",
   "execution_count": null,
   "metadata": {},
   "outputs": [],
   "source": [
    "# This cell is used to define the privacy mechanism for the training process\n",
    "\n",
    "rdp_accountant = RDPPrivacyAccountant(\n",
    "    num_compositions=central_num_iterations,\n",
    "    sampling_probability=sampling_probability,\n",
    "    mechanism='gaussian',\n",
    "    epsilon=epsilon,\n",
    "    delta=delta\n",
    "    #noise_parameter = 2 * np.log(1.25 / delta) * 1/(epsilon**2)  # Relative noise standard deviation\n",
    ")\n",
    "\n",
    "rdp_gaussian_noise_mechanism = GaussianMechanism.from_privacy_accountant(\n",
    "    accountant=rdp_accountant, clipping_bound=clipping_bound)\n",
    "\n",
    "# You then add this to the 'postprocessors' array instead of pld_central_privacy.\n",
    "rdp_central_privacy = CentrallyAppliedPrivacyMechanism(rdp_gaussian_noise_mechanism)\n",
    "\n",
    "\n",
    "#run_experiements(no_of_training, training_name, n_clients, user_dataset_size, postprocessors=[rdp_central_privacy], is_random_dataset=False)"
   ]
  },
  {
   "cell_type": "markdown",
   "metadata": {},
   "source": [
    "# Mere Ruben ting"
   ]
  },
  {
   "cell_type": "code",
   "execution_count": null,
   "metadata": {},
   "outputs": [],
   "source": [
    "# Imports \n",
    "import numpy as np\n",
    "import torch\n",
    "from pfl.privacy import LocalPrivacyMechanism\n",
    "from pfl.model.pytorch import PyTorchModel\n",
    "from pfl.metrics import Metrics"
   ]
  },
  {
   "cell_type": "code",
   "execution_count": null,
   "metadata": {},
   "outputs": [],
   "source": [
    "class CustomLocalDPMechanism(LocalPrivacyMechanism):\n",
    "    def __init__(self, clipping_bound: float, noise_multiplier: float, epsilon, delta):\n",
    "        self.clipping_bound = clipping_bound\n",
    "        self.noise_multiplier = noise_multiplier\n",
    "        self.epsilon = epsilon\n",
    "        self.delta = delta\n",
    "        print(f\"CustomLocalDPMechanism initialized with clipping_bound: {clipping_bound} and noise_multiplier: {noise_multiplier}\")\n",
    "\n",
    "    def postprocess_one_user(self, stats, user_context, *args, **kwargs):\n",
    "        '''\n",
    "        This methos is called by the pfl backend on each client's statistics\n",
    "        before they are sent to the server. This isn where we apply local DP.\n",
    "        '''\n",
    "        # Convert tensors to numpy arrays\n",
    "        delta = [v.cpu().numpy() for v in stats.values()]\n",
    "\n",
    "        # Clip the update\n",
    "        delta_flattened = np.concatenate([d.flatten() for d in delta])\n",
    "        l2_norm = np.linalg.norm(delta_flattened)\n",
    "        print(f\"[CLIENT] Update L2 norm before clipping: {l2_norm}\")\n",
    "        \n",
    "        # Avoid division by zero and ensure proper clipping\n",
    "        scaling_factor = min(1.0, self.clipping_bound / (l2_norm + 1e-10))\n",
    "        clipped_delta = [d * scaling_factor for d in delta]\n",
    "        \n",
    "        # Verify clipping worked\n",
    "        clipped_norm = np.linalg.norm(np.concatenate([d.flatten() for d in clipped_delta]))\n",
    "        print(f\"[CLIENT] Update L2 norm after clipping: {clipped_norm}\")\n",
    "\n",
    "        # Add noise with proper scaling\n",
    "        c = np.sqrt(2 * np.log(1.25 / self.delta))\n",
    "        std_dev = c * self.clipping_bound / self.epsilon\n",
    "        noisy_delta_np = []\n",
    "        \n",
    "        for d_layer in clipped_delta:\n",
    "            # Generate noise with the same dtype and shape\n",
    "            noise = np.random.normal(0, std_dev, d_layer.shape).astype(d_layer.dtype)\n",
    "            # Scale noise by layer size\n",
    "            layer_size = np.prod(d_layer.shape)\n",
    "            if layer_size > 0:\n",
    "                noise = noise / np.sqrt(layer_size)\n",
    "            noisy_delta_np.append(d_layer + noise)\n",
    "\n",
    "        # Convert back to torch tensors\n",
    "        noisy_delta_tensor = [torch.from_numpy(d) for d in noisy_delta_np]\n",
    "        noisy_stats = type(stats)(zip(stats.keys(), noisy_delta_tensor))\n",
    "\n",
    "        return noisy_stats, Metrics()\n",
    "    \n",
    "    def privatize(self, statistics, name_formatting_function=..., seed=None):\n",
    "        '''\n",
    "        This abstract method must be implemented to create a concreate subclass of\n",
    "        LocalPrivacyMechanism. We deledate to our main logic in postprocess_one_user.\n",
    "        '''\n",
    "        # The user_context is not available here, but our logic doesn't use it\n",
    "        return self.postprocess_one_user(statistics, None) "
   ]
  },
  {
   "cell_type": "code",
   "execution_count": null,
   "metadata": {},
   "outputs": [],
   "source": [
    "# Define a model createing function with stronger weight decay\n",
    "def create_pfl_model_for_local_dp():\n",
    "    model = create_pytorch_model()\n",
    "    params = [p for p in model.parameters() if p.requires_grad]\n",
    "    return PyTorchModel(\n",
    "        model,\n",
    "        local_optimizer_create=torch.optim.SGD(params=params, \n",
    "                                     momentum=0.9, \n",
    "                                     weight_decay=1e-5, \n",
    "                                     nesterov=True),\n",
    "        central_optimizer=torch.optim.SGD(params, \n",
    "                                         lr=0.001, \n",
    "                                         weight_decay=1e-5),\n",
    "    )"
   ]
  },
  {
   "cell_type": "code",
   "execution_count": null,
   "metadata": {},
   "outputs": [],
   "source": [
    "# Define a new experiment runner \n",
    "def run_local_dp_experiment(no_of_training: int, training_name: str, n_clients: int, user_dataset_size: int,\n",
    "                            is_random_dataset: bool = True, postprocessors: list = []):\n",
    "    create_federated_dataset = create_random_federated_dataset if is_random_dataset else create_fixed_federated_dataset\n",
    "\n",
    "    for i in range(no_of_training):\n",
    "        print(f\"Training round {i+1} of {no_of_training}\")\n",
    "        model = create_pfl_model_for_local_dp()\n",
    "\n",
    "        # Create a federated dataset   \n",
    "        federated_dataset = create_federated_dataset(\n",
    "            n_clients=n_clients,\n",
    "            user_dataset_size=user_dataset_size,\n",
    "            train_all_features=train_features,\n",
    "            train_all_labels=train_labels,\n",
    "        )\n",
    "\n",
    "        val_federated_dataset = ValidationFederatedDataset(Dataset(raw_data=[val_features, val_labels]))\n",
    "\n",
    "        # Define callbacks\n",
    "        pfl_callbacks = [\n",
    "            CentralEvaluationCallback(central_data, model_eval_params, evaluation_frequency),\n",
    "            AggregateMetricsToDisk(output_path=f'experimental_results/{training_name}/metrics_{i}.csv')]\n",
    "        \n",
    "        # Define backend with the local DP postprocessor\n",
    "        pfl_simulated_backend = SimulatedBackend(\n",
    "            training_data=federated_dataset, val_data=val_federated_dataset,\n",
    "            postprocessors=postprocessors,\n",
    "        )\n",
    "\n",
    "        # Run the training\n",
    "        algorithm.run(\n",
    "            backend=pfl_simulated_backend,\n",
    "            model=model,\n",
    "            algorithm_params=algorithm_params,\n",
    "            model_train_params=model_train_params,\n",
    "            model_eval_params=model_eval_params,\n",
    "            callbacks=pfl_callbacks,\n",
    "            send_metrics_to_platform=True\n",
    "        )\n",
    "        print(f'--- Finished local DP training round {i+1} ---')"
   ]
  },
  {
   "cell_type": "code",
   "execution_count": null,
   "metadata": {},
   "outputs": [
    {
     "name": "stdout",
     "output_type": "stream",
     "text": [
      "CustomLocalDPMechanism initialized with clipping_bound: 0.5 and noise_multiplier: 38.1226\n",
      "Training round 1 of 5\n",
      "[CLIENT] Update L2 norm before clipping: 0.08835642784833908\n",
      "[CLIENT] Update L2 norm after clipping: 0.08835642784833908\n"
     ]
    },
    {
     "ename": "AttributeError",
     "evalue": "'zip' object has no attribute 'values'",
     "output_type": "error",
     "traceback": [
      "\u001b[1;31m---------------------------------------------------------------------------\u001b[0m",
      "\u001b[1;31mAttributeError\u001b[0m                            Traceback (most recent call last)",
      "Cell \u001b[1;32mIn[295], line 15\u001b[0m\n\u001b[0;32m      7\u001b[0m custom_local_dp \u001b[38;5;241m=\u001b[39m CustomLocalDPMechanism(\n\u001b[0;32m      8\u001b[0m     clipping_bound\u001b[38;5;241m=\u001b[39mlocal_dp_clipping_bound,\n\u001b[0;32m      9\u001b[0m     noise_multiplier\u001b[38;5;241m=\u001b[39mlocal_dp_noise_multiplier,\n\u001b[0;32m     10\u001b[0m     epsilon\u001b[38;5;241m=\u001b[39mepsilon,\n\u001b[0;32m     11\u001b[0m     delta\u001b[38;5;241m=\u001b[39mdelta,\n\u001b[0;32m     12\u001b[0m )\n\u001b[0;32m     14\u001b[0m \u001b[38;5;66;03m# Run the actual shit\u001b[39;00m\n\u001b[1;32m---> 15\u001b[0m \u001b[43mrun_local_dp_experiment\u001b[49m\u001b[43m(\u001b[49m\n\u001b[0;32m     16\u001b[0m \u001b[43m    \u001b[49m\u001b[43mno_of_training\u001b[49m\u001b[38;5;241;43m=\u001b[39;49m\u001b[43mno_of_training\u001b[49m\u001b[43m,\u001b[49m\n\u001b[0;32m     17\u001b[0m \u001b[43m    \u001b[49m\u001b[43mtraining_name\u001b[49m\u001b[38;5;241;43m=\u001b[39;49m\u001b[43mlocal_dp_training_name\u001b[49m\u001b[43m,\u001b[49m\n\u001b[0;32m     18\u001b[0m \u001b[43m    \u001b[49m\u001b[43mn_clients\u001b[49m\u001b[38;5;241;43m=\u001b[39;49m\u001b[43mn_clients\u001b[49m\u001b[43m,\u001b[49m\n\u001b[0;32m     19\u001b[0m \u001b[43m    \u001b[49m\u001b[43muser_dataset_size\u001b[49m\u001b[38;5;241;43m=\u001b[39;49m\u001b[43muser_dataset_size\u001b[49m\u001b[43m,\u001b[49m\n\u001b[0;32m     20\u001b[0m \u001b[43m    \u001b[49m\u001b[43mpostprocessors\u001b[49m\u001b[38;5;241;43m=\u001b[39;49m\u001b[43m[\u001b[49m\u001b[43mcustom_local_dp\u001b[49m\u001b[43m]\u001b[49m\u001b[43m,\u001b[49m\n\u001b[0;32m     21\u001b[0m \u001b[43m    \u001b[49m\u001b[43mis_random_dataset\u001b[49m\u001b[38;5;241;43m=\u001b[39;49m\u001b[38;5;28;43;01mTrue\u001b[39;49;00m\u001b[43m,\u001b[49m\n\u001b[0;32m     22\u001b[0m \u001b[43m)\u001b[49m\n",
      "Cell \u001b[1;32mIn[294], line 32\u001b[0m, in \u001b[0;36mrun_local_dp_experiment\u001b[1;34m(no_of_training, training_name, n_clients, user_dataset_size, is_random_dataset, postprocessors)\u001b[0m\n\u001b[0;32m     26\u001b[0m pfl_simulated_backend \u001b[38;5;241m=\u001b[39m SimulatedBackend(\n\u001b[0;32m     27\u001b[0m     training_data\u001b[38;5;241m=\u001b[39mfederated_dataset, val_data\u001b[38;5;241m=\u001b[39mval_federated_dataset,\n\u001b[0;32m     28\u001b[0m     postprocessors\u001b[38;5;241m=\u001b[39mpostprocessors,\n\u001b[0;32m     29\u001b[0m )\n\u001b[0;32m     31\u001b[0m \u001b[38;5;66;03m# Run the training\u001b[39;00m\n\u001b[1;32m---> 32\u001b[0m \u001b[43malgorithm\u001b[49m\u001b[38;5;241;43m.\u001b[39;49m\u001b[43mrun\u001b[49m\u001b[43m(\u001b[49m\n\u001b[0;32m     33\u001b[0m \u001b[43m    \u001b[49m\u001b[43mbackend\u001b[49m\u001b[38;5;241;43m=\u001b[39;49m\u001b[43mpfl_simulated_backend\u001b[49m\u001b[43m,\u001b[49m\n\u001b[0;32m     34\u001b[0m \u001b[43m    \u001b[49m\u001b[43mmodel\u001b[49m\u001b[38;5;241;43m=\u001b[39;49m\u001b[43mmodel\u001b[49m\u001b[43m,\u001b[49m\n\u001b[0;32m     35\u001b[0m \u001b[43m    \u001b[49m\u001b[43malgorithm_params\u001b[49m\u001b[38;5;241;43m=\u001b[39;49m\u001b[43malgorithm_params\u001b[49m\u001b[43m,\u001b[49m\n\u001b[0;32m     36\u001b[0m \u001b[43m    \u001b[49m\u001b[43mmodel_train_params\u001b[49m\u001b[38;5;241;43m=\u001b[39;49m\u001b[43mmodel_train_params\u001b[49m\u001b[43m,\u001b[49m\n\u001b[0;32m     37\u001b[0m \u001b[43m    \u001b[49m\u001b[43mmodel_eval_params\u001b[49m\u001b[38;5;241;43m=\u001b[39;49m\u001b[43mmodel_eval_params\u001b[49m\u001b[43m,\u001b[49m\n\u001b[0;32m     38\u001b[0m \u001b[43m    \u001b[49m\u001b[43mcallbacks\u001b[49m\u001b[38;5;241;43m=\u001b[39;49m\u001b[43mpfl_callbacks\u001b[49m\u001b[43m,\u001b[49m\n\u001b[0;32m     39\u001b[0m \u001b[43m    \u001b[49m\u001b[43msend_metrics_to_platform\u001b[49m\u001b[38;5;241;43m=\u001b[39;49m\u001b[38;5;28;43;01mTrue\u001b[39;49;00m\n\u001b[0;32m     40\u001b[0m \u001b[43m\u001b[49m\u001b[43m)\u001b[49m\n\u001b[0;32m     41\u001b[0m \u001b[38;5;28mprint\u001b[39m(\u001b[38;5;124mf\u001b[39m\u001b[38;5;124m'\u001b[39m\u001b[38;5;124m--- Finished local DP training round \u001b[39m\u001b[38;5;132;01m{\u001b[39;00mi\u001b[38;5;241m+\u001b[39m\u001b[38;5;241m1\u001b[39m\u001b[38;5;132;01m}\u001b[39;00m\u001b[38;5;124m ---\u001b[39m\u001b[38;5;124m'\u001b[39m)\n",
      "File \u001b[1;32mc:\\Users\\Tjalfe\\anaconda3\\envs\\masters\\lib\\site-packages\\pfl\\algorithm\\base.py:286\u001b[0m, in \u001b[0;36mFederatedAlgorithm.run\u001b[1;34m(self, algorithm_params, backend, model, model_train_params, model_eval_params, callbacks, send_metrics_to_platform)\u001b[0m\n\u001b[0;32m    280\u001b[0m     all_metrics \u001b[38;5;241m|\u001b[39m\u001b[38;5;241m=\u001b[39m on_train_metrics\n\u001b[0;32m    282\u001b[0m \u001b[38;5;66;03m# Step 2\u001b[39;00m\n\u001b[0;32m    283\u001b[0m \u001b[38;5;66;03m# Get aggregated model updates and\u001b[39;00m\n\u001b[0;32m    284\u001b[0m \u001b[38;5;66;03m# metrics from the requested queries.\u001b[39;00m\n\u001b[0;32m    285\u001b[0m results: List[Tuple[StatisticsType,\n\u001b[1;32m--> 286\u001b[0m                     Metrics]] \u001b[38;5;241m=\u001b[39m \u001b[43malgorithm_utils\u001b[49m\u001b[38;5;241;43m.\u001b[39;49m\u001b[43mrun_train_eval\u001b[49m\u001b[43m(\u001b[49m\n\u001b[0;32m    287\u001b[0m \u001b[43m                        \u001b[49m\u001b[38;5;28;43mself\u001b[39;49m\u001b[43m,\u001b[49m\u001b[43m \u001b[49m\u001b[43mbackend\u001b[49m\u001b[43m,\u001b[49m\u001b[43m \u001b[49m\u001b[43mmodel\u001b[49m\u001b[43m,\u001b[49m\u001b[43m \u001b[49m\u001b[43mcentral_contexts\u001b[49m\u001b[43m)\u001b[49m\n\u001b[0;32m    289\u001b[0m \u001b[38;5;66;03m# Step 3\u001b[39;00m\n\u001b[0;32m    290\u001b[0m \u001b[38;5;66;03m# For each query result, accumulate metrics and\u001b[39;00m\n\u001b[0;32m    291\u001b[0m \u001b[38;5;66;03m# let model handle statistics result if query had any.\u001b[39;00m\n\u001b[0;32m    292\u001b[0m stats_context_pairs \u001b[38;5;241m=\u001b[39m []\n",
      "File \u001b[1;32mc:\\Users\\Tjalfe\\anaconda3\\envs\\masters\\lib\\site-packages\\pfl\\algorithm\\algorithm_utils.py:63\u001b[0m, in \u001b[0;36mrun_train_eval\u001b[1;34m(algorithm, backend, model, central_contexts)\u001b[0m\n\u001b[0;32m     57\u001b[0m \u001b[38;5;28;01masync\u001b[39;00m \u001b[38;5;28;01mdef\u001b[39;00m \u001b[38;5;21mrun_all_iterations\u001b[39m():\n\u001b[0;32m     58\u001b[0m     \u001b[38;5;28;01mreturn\u001b[39;00m \u001b[38;5;28;01mawait\u001b[39;00m asyncio\u001b[38;5;241m.\u001b[39mgather(\u001b[38;5;241m*\u001b[39m[\n\u001b[0;32m     59\u001b[0m         run_iteration(central_context, initial_sleep\u001b[38;5;241m=\u001b[39mindex \u001b[38;5;241m==\u001b[39m \u001b[38;5;241m0\u001b[39m)\n\u001b[0;32m     60\u001b[0m         \u001b[38;5;28;01mfor\u001b[39;00m index, central_context \u001b[38;5;129;01min\u001b[39;00m \u001b[38;5;28menumerate\u001b[39m(central_contexts)\n\u001b[0;32m     61\u001b[0m     ])\n\u001b[1;32m---> 63\u001b[0m \u001b[38;5;28;01mreturn\u001b[39;00m \u001b[43masyncio\u001b[49m\u001b[38;5;241;43m.\u001b[39;49m\u001b[43mget_event_loop\u001b[49m\u001b[43m(\u001b[49m\u001b[43m)\u001b[49m\u001b[38;5;241;43m.\u001b[39;49m\u001b[43mrun_until_complete\u001b[49m\u001b[43m(\u001b[49m\u001b[43mrun_all_iterations\u001b[49m\u001b[43m(\u001b[49m\u001b[43m)\u001b[49m\u001b[43m)\u001b[49m\n",
      "File \u001b[1;32mc:\\Users\\Tjalfe\\anaconda3\\envs\\masters\\lib\\site-packages\\nest_asyncio.py:98\u001b[0m, in \u001b[0;36m_patch_loop.<locals>.run_until_complete\u001b[1;34m(self, future)\u001b[0m\n\u001b[0;32m     95\u001b[0m \u001b[38;5;28;01mif\u001b[39;00m \u001b[38;5;129;01mnot\u001b[39;00m f\u001b[38;5;241m.\u001b[39mdone():\n\u001b[0;32m     96\u001b[0m     \u001b[38;5;28;01mraise\u001b[39;00m \u001b[38;5;167;01mRuntimeError\u001b[39;00m(\n\u001b[0;32m     97\u001b[0m         \u001b[38;5;124m'\u001b[39m\u001b[38;5;124mEvent loop stopped before Future completed.\u001b[39m\u001b[38;5;124m'\u001b[39m)\n\u001b[1;32m---> 98\u001b[0m \u001b[38;5;28;01mreturn\u001b[39;00m \u001b[43mf\u001b[49m\u001b[38;5;241;43m.\u001b[39;49m\u001b[43mresult\u001b[49m\u001b[43m(\u001b[49m\u001b[43m)\u001b[49m\n",
      "File \u001b[1;32mc:\\Users\\Tjalfe\\anaconda3\\envs\\masters\\lib\\asyncio\\futures.py:201\u001b[0m, in \u001b[0;36mFuture.result\u001b[1;34m(self)\u001b[0m\n\u001b[0;32m    199\u001b[0m \u001b[38;5;28mself\u001b[39m\u001b[38;5;241m.\u001b[39m__log_traceback \u001b[38;5;241m=\u001b[39m \u001b[38;5;28;01mFalse\u001b[39;00m\n\u001b[0;32m    200\u001b[0m \u001b[38;5;28;01mif\u001b[39;00m \u001b[38;5;28mself\u001b[39m\u001b[38;5;241m.\u001b[39m_exception \u001b[38;5;129;01mis\u001b[39;00m \u001b[38;5;129;01mnot\u001b[39;00m \u001b[38;5;28;01mNone\u001b[39;00m:\n\u001b[1;32m--> 201\u001b[0m     \u001b[38;5;28;01mraise\u001b[39;00m \u001b[38;5;28mself\u001b[39m\u001b[38;5;241m.\u001b[39m_exception\u001b[38;5;241m.\u001b[39mwith_traceback(\u001b[38;5;28mself\u001b[39m\u001b[38;5;241m.\u001b[39m_exception_tb)\n\u001b[0;32m    202\u001b[0m \u001b[38;5;28;01mreturn\u001b[39;00m \u001b[38;5;28mself\u001b[39m\u001b[38;5;241m.\u001b[39m_result\n",
      "File \u001b[1;32mc:\\Users\\Tjalfe\\anaconda3\\envs\\masters\\lib\\asyncio\\tasks.py:234\u001b[0m, in \u001b[0;36mTask.__step\u001b[1;34m(***failed resolving arguments***)\u001b[0m\n\u001b[0;32m    232\u001b[0m         result \u001b[38;5;241m=\u001b[39m coro\u001b[38;5;241m.\u001b[39msend(\u001b[38;5;28;01mNone\u001b[39;00m)\n\u001b[0;32m    233\u001b[0m     \u001b[38;5;28;01melse\u001b[39;00m:\n\u001b[1;32m--> 234\u001b[0m         result \u001b[38;5;241m=\u001b[39m \u001b[43mcoro\u001b[49m\u001b[38;5;241;43m.\u001b[39;49m\u001b[43mthrow\u001b[49m\u001b[43m(\u001b[49m\u001b[43mexc\u001b[49m\u001b[43m)\u001b[49m\n\u001b[0;32m    235\u001b[0m \u001b[38;5;28;01mexcept\u001b[39;00m \u001b[38;5;167;01mStopIteration\u001b[39;00m \u001b[38;5;28;01mas\u001b[39;00m exc:\n\u001b[0;32m    236\u001b[0m     \u001b[38;5;28;01mif\u001b[39;00m \u001b[38;5;28mself\u001b[39m\u001b[38;5;241m.\u001b[39m_must_cancel:\n\u001b[0;32m    237\u001b[0m         \u001b[38;5;66;03m# Task is cancelled right before coro stops.\u001b[39;00m\n",
      "File \u001b[1;32mc:\\Users\\Tjalfe\\anaconda3\\envs\\masters\\lib\\site-packages\\pfl\\algorithm\\algorithm_utils.py:58\u001b[0m, in \u001b[0;36mrun_train_eval.<locals>.run_all_iterations\u001b[1;34m()\u001b[0m\n\u001b[0;32m     57\u001b[0m \u001b[38;5;28;01masync\u001b[39;00m \u001b[38;5;28;01mdef\u001b[39;00m \u001b[38;5;21mrun_all_iterations\u001b[39m():\n\u001b[1;32m---> 58\u001b[0m     \u001b[38;5;28;01mreturn\u001b[39;00m \u001b[38;5;28;01mawait\u001b[39;00m asyncio\u001b[38;5;241m.\u001b[39mgather(\u001b[38;5;241m*\u001b[39m[\n\u001b[0;32m     59\u001b[0m         run_iteration(central_context, initial_sleep\u001b[38;5;241m=\u001b[39mindex \u001b[38;5;241m==\u001b[39m \u001b[38;5;241m0\u001b[39m)\n\u001b[0;32m     60\u001b[0m         \u001b[38;5;28;01mfor\u001b[39;00m index, central_context \u001b[38;5;129;01min\u001b[39;00m \u001b[38;5;28menumerate\u001b[39m(central_contexts)\n\u001b[0;32m     61\u001b[0m     ])\n",
      "File \u001b[1;32mc:\\Users\\Tjalfe\\anaconda3\\envs\\masters\\lib\\asyncio\\tasks.py:304\u001b[0m, in \u001b[0;36mTask.__wakeup\u001b[1;34m(self, future)\u001b[0m\n\u001b[0;32m    302\u001b[0m \u001b[38;5;28;01mdef\u001b[39;00m \u001b[38;5;21m__wakeup\u001b[39m(\u001b[38;5;28mself\u001b[39m, future):\n\u001b[0;32m    303\u001b[0m     \u001b[38;5;28;01mtry\u001b[39;00m:\n\u001b[1;32m--> 304\u001b[0m         \u001b[43mfuture\u001b[49m\u001b[38;5;241;43m.\u001b[39;49m\u001b[43mresult\u001b[49m\u001b[43m(\u001b[49m\u001b[43m)\u001b[49m\n\u001b[0;32m    305\u001b[0m     \u001b[38;5;28;01mexcept\u001b[39;00m \u001b[38;5;167;01mBaseException\u001b[39;00m \u001b[38;5;28;01mas\u001b[39;00m exc:\n\u001b[0;32m    306\u001b[0m         \u001b[38;5;66;03m# This may also be a cancellation.\u001b[39;00m\n\u001b[0;32m    307\u001b[0m         \u001b[38;5;28mself\u001b[39m\u001b[38;5;241m.\u001b[39m__step(exc)\n",
      "File \u001b[1;32mc:\\Users\\Tjalfe\\anaconda3\\envs\\masters\\lib\\asyncio\\tasks.py:232\u001b[0m, in \u001b[0;36mTask.__step\u001b[1;34m(***failed resolving arguments***)\u001b[0m\n\u001b[0;32m    228\u001b[0m \u001b[38;5;28;01mtry\u001b[39;00m:\n\u001b[0;32m    229\u001b[0m     \u001b[38;5;28;01mif\u001b[39;00m exc \u001b[38;5;129;01mis\u001b[39;00m \u001b[38;5;28;01mNone\u001b[39;00m:\n\u001b[0;32m    230\u001b[0m         \u001b[38;5;66;03m# We use the `send` method directly, because coroutines\u001b[39;00m\n\u001b[0;32m    231\u001b[0m         \u001b[38;5;66;03m# don't have `__iter__` and `__next__` methods.\u001b[39;00m\n\u001b[1;32m--> 232\u001b[0m         result \u001b[38;5;241m=\u001b[39m \u001b[43mcoro\u001b[49m\u001b[38;5;241;43m.\u001b[39;49m\u001b[43msend\u001b[49m\u001b[43m(\u001b[49m\u001b[38;5;28;43;01mNone\u001b[39;49;00m\u001b[43m)\u001b[49m\n\u001b[0;32m    233\u001b[0m     \u001b[38;5;28;01melse\u001b[39;00m:\n\u001b[0;32m    234\u001b[0m         result \u001b[38;5;241m=\u001b[39m coro\u001b[38;5;241m.\u001b[39mthrow(exc)\n",
      "File \u001b[1;32mc:\\Users\\Tjalfe\\anaconda3\\envs\\masters\\lib\\site-packages\\pfl\\algorithm\\algorithm_utils.py:52\u001b[0m, in \u001b[0;36mrun_train_eval.<locals>.run_iteration\u001b[1;34m(central_context, initial_sleep)\u001b[0m\n\u001b[0;32m     45\u001b[0m \u001b[38;5;28;01mif\u001b[39;00m initial_sleep:\n\u001b[0;32m     46\u001b[0m     \u001b[38;5;66;03m# This is needed to ensure that the iteration with no sleep\u001b[39;00m\n\u001b[0;32m     47\u001b[0m     \u001b[38;5;66;03m# is ordered to start before other iterations with initial sleep.\u001b[39;00m\n\u001b[0;32m     48\u001b[0m     \u001b[38;5;66;03m# Which is needed for synchronous worker communication in\u001b[39;00m\n\u001b[0;32m     49\u001b[0m     \u001b[38;5;66;03m# distributed simulations.\u001b[39;00m\n\u001b[0;32m     50\u001b[0m     \u001b[38;5;28;01mawait\u001b[39;00m asyncio\u001b[38;5;241m.\u001b[39msleep(\u001b[38;5;241m0\u001b[39m)\n\u001b[1;32m---> 52\u001b[0m \u001b[38;5;28;01mreturn\u001b[39;00m \u001b[38;5;28;01mawait\u001b[39;00m backend\u001b[38;5;241m.\u001b[39masync_gather_results(\n\u001b[0;32m     53\u001b[0m     model\u001b[38;5;241m=\u001b[39mmodel,\n\u001b[0;32m     54\u001b[0m     training_algorithm\u001b[38;5;241m=\u001b[39malgorithm,\n\u001b[0;32m     55\u001b[0m     central_context\u001b[38;5;241m=\u001b[39mcentral_context)\n",
      "File \u001b[1;32mc:\\Users\\Tjalfe\\anaconda3\\envs\\masters\\lib\\site-packages\\pfl\\aggregate\\simulate.py:180\u001b[0m, in \u001b[0;36mSimulatedBackend.async_gather_results\u001b[1;34m(self, model, training_algorithm, central_context)\u001b[0m\n\u001b[0;32m    177\u001b[0m         metrics_one_user \u001b[38;5;241m|\u001b[39m\u001b[38;5;241m=\u001b[39m postprocessor_metrics\n\u001b[0;32m    179\u001b[0m     \u001b[38;5;28;01mif\u001b[39;00m server_statistics \u001b[38;5;129;01mis\u001b[39;00m \u001b[38;5;28;01mNone\u001b[39;00m:\n\u001b[1;32m--> 180\u001b[0m         user_statistics \u001b[38;5;241m=\u001b[39m \u001b[43muser_statistics\u001b[49m\u001b[38;5;241;43m.\u001b[39;49m\u001b[43mapply_elementwise\u001b[49m\u001b[43m(\u001b[49m\n\u001b[0;32m    181\u001b[0m \u001b[43m            \u001b[49m\u001b[43mget_ops\u001b[49m\u001b[43m(\u001b[49m\u001b[43m)\u001b[49m\u001b[38;5;241;43m.\u001b[39;49m\u001b[43mclone\u001b[49m\u001b[43m)\u001b[49m\n\u001b[0;32m    182\u001b[0m     server_statistics \u001b[38;5;241m=\u001b[39m \u001b[38;5;28mself\u001b[39m\u001b[38;5;241m.\u001b[39m_aggregator\u001b[38;5;241m.\u001b[39maccumulate(\n\u001b[0;32m    183\u001b[0m         accumulated\u001b[38;5;241m=\u001b[39mserver_statistics, user_stats\u001b[38;5;241m=\u001b[39muser_statistics)\n\u001b[0;32m    185\u001b[0m user_metrics \u001b[38;5;241m+\u001b[39m\u001b[38;5;241m=\u001b[39m metrics_one_user\n",
      "File \u001b[1;32mc:\\Users\\Tjalfe\\anaconda3\\envs\\masters\\lib\\site-packages\\pfl\\stats.py:195\u001b[0m, in \u001b[0;36mTrainingStatistics.apply_elementwise\u001b[1;34m(self, fn, *args, **kwargs)\u001b[0m\n\u001b[0;32m    170\u001b[0m \u001b[38;5;28;01mdef\u001b[39;00m \u001b[38;5;21mapply_elementwise\u001b[39m(\u001b[38;5;28mself\u001b[39m: StatisticsType, fn: Callable[\u001b[38;5;241m.\u001b[39m\u001b[38;5;241m.\u001b[39m\u001b[38;5;241m.\u001b[39m, np\u001b[38;5;241m.\u001b[39mndarray],\n\u001b[0;32m    171\u001b[0m                       \u001b[38;5;241m*\u001b[39margs, \u001b[38;5;241m*\u001b[39m\u001b[38;5;241m*\u001b[39mkwargs) \u001b[38;5;241m-\u001b[39m\u001b[38;5;241m>\u001b[39m StatisticsType:\n\u001b[0;32m    172\u001b[0m \u001b[38;5;250m    \u001b[39m\u001b[38;5;124;03m\"\"\"\u001b[39;00m\n\u001b[0;32m    173\u001b[0m \u001b[38;5;124;03m    Apply function on each weight from `get_weights` individually,\u001b[39;00m\n\u001b[0;32m    174\u001b[0m \u001b[38;5;124;03m    and put result back into a new statistics with same metadata.\u001b[39;00m\n\u001b[1;32m   (...)\u001b[0m\n\u001b[0;32m    193\u001b[0m \u001b[38;5;124;03m        A statistics, with its data transformed by `fn`.\u001b[39;00m\n\u001b[0;32m    194\u001b[0m \u001b[38;5;124;03m    \"\"\"\u001b[39;00m\n\u001b[1;32m--> 195\u001b[0m     \u001b[38;5;28;01mreturn\u001b[39;00m \u001b[38;5;28;43mself\u001b[39;49m\u001b[38;5;241;43m.\u001b[39;49m\u001b[43mapply\u001b[49m\u001b[43m(\u001b[49m\n\u001b[0;32m    196\u001b[0m \u001b[43m        \u001b[49m\u001b[38;5;28;43;01mlambda\u001b[39;49;00m\u001b[43m \u001b[49m\u001b[43mtensors\u001b[49m\u001b[43m:\u001b[49m\u001b[43m \u001b[49m\u001b[43m[\u001b[49m\u001b[43mfn\u001b[49m\u001b[43m(\u001b[49m\u001b[43mt\u001b[49m\u001b[43m,\u001b[49m\u001b[43m \u001b[49m\u001b[38;5;241;43m*\u001b[39;49m\u001b[43margs\u001b[49m\u001b[43m,\u001b[49m\u001b[43m \u001b[49m\u001b[38;5;241;43m*\u001b[39;49m\u001b[38;5;241;43m*\u001b[39;49m\u001b[43mkwargs\u001b[49m\u001b[43m)\u001b[49m\u001b[43m \u001b[49m\u001b[38;5;28;43;01mfor\u001b[39;49;00m\u001b[43m \u001b[49m\u001b[43mt\u001b[49m\u001b[43m \u001b[49m\u001b[38;5;129;43;01min\u001b[39;49;00m\u001b[43m \u001b[49m\u001b[43mtensors\u001b[49m\u001b[43m]\u001b[49m\u001b[43m)\u001b[49m\n",
      "File \u001b[1;32mc:\\Users\\Tjalfe\\anaconda3\\envs\\masters\\lib\\site-packages\\pfl\\stats.py:164\u001b[0m, in \u001b[0;36mTrainingStatistics.apply\u001b[1;34m(self, fn, *args, **kwargs)\u001b[0m\n\u001b[0;32m    140\u001b[0m \u001b[38;5;28;01mdef\u001b[39;00m \u001b[38;5;21mapply\u001b[39m(\u001b[38;5;28mself\u001b[39m: StatisticsType, fn: Callable[\u001b[38;5;241m.\u001b[39m\u001b[38;5;241m.\u001b[39m\u001b[38;5;241m.\u001b[39m, Iterable[np\u001b[38;5;241m.\u001b[39mndarray]],\n\u001b[0;32m    141\u001b[0m           \u001b[38;5;241m*\u001b[39margs, \u001b[38;5;241m*\u001b[39m\u001b[38;5;241m*\u001b[39mkwargs) \u001b[38;5;241m-\u001b[39m\u001b[38;5;241m>\u001b[39m StatisticsType:\n\u001b[0;32m    142\u001b[0m \u001b[38;5;250m    \u001b[39m\u001b[38;5;124;03m\"\"\"\u001b[39;00m\n\u001b[0;32m    143\u001b[0m \u001b[38;5;124;03m    Apply a function on the weights from `get_weights`, and put result\u001b[39;00m\n\u001b[0;32m    144\u001b[0m \u001b[38;5;124;03m    back into a new statistics with same metadata.\u001b[39;00m\n\u001b[1;32m   (...)\u001b[0m\n\u001b[0;32m    162\u001b[0m \u001b[38;5;124;03m        A statistics, with its data transformed by `fn`.\u001b[39;00m\n\u001b[0;32m    163\u001b[0m \u001b[38;5;124;03m    \"\"\"\u001b[39;00m\n\u001b[1;32m--> 164\u001b[0m     metadata, weights \u001b[38;5;241m=\u001b[39m \u001b[38;5;28;43mself\u001b[39;49m\u001b[38;5;241;43m.\u001b[39;49m\u001b[43mget_weights\u001b[49m\u001b[43m(\u001b[49m\u001b[43m)\u001b[49m\n\u001b[0;32m    165\u001b[0m     transformed_weights \u001b[38;5;241m=\u001b[39m fn(weights, \u001b[38;5;241m*\u001b[39margs, \u001b[38;5;241m*\u001b[39m\u001b[38;5;241m*\u001b[39mkwargs)\n\u001b[0;32m    166\u001b[0m     \u001b[38;5;28;01mreturn\u001b[39;00m \u001b[38;5;28mself\u001b[39m\u001b[38;5;241m.\u001b[39mfrom_weights(metadata, \u001b[38;5;28mlist\u001b[39m(transformed_weights))\n",
      "File \u001b[1;32mc:\\Users\\Tjalfe\\anaconda3\\envs\\masters\\lib\\site-packages\\pfl\\stats.py:336\u001b[0m, in \u001b[0;36mMappedVectorStatistics.get_weights\u001b[1;34m(self)\u001b[0m\n\u001b[0;32m    335\u001b[0m \u001b[38;5;28;01mdef\u001b[39;00m \u001b[38;5;21mget_weights\u001b[39m(\u001b[38;5;28mself\u001b[39m) \u001b[38;5;241m-\u001b[39m\u001b[38;5;241m>\u001b[39m Tuple[Tensor, List[Tensor]]:\n\u001b[1;32m--> 336\u001b[0m     \u001b[38;5;28;01mreturn\u001b[39;00m get_ops()\u001b[38;5;241m.\u001b[39mto_tensor([\u001b[38;5;28mself\u001b[39m\u001b[38;5;241m.\u001b[39mweight]), \u001b[38;5;28mlist\u001b[39m(\u001b[38;5;28;43mself\u001b[39;49m\u001b[38;5;241;43m.\u001b[39;49m\u001b[43mvalues\u001b[49m\u001b[43m(\u001b[49m\u001b[43m)\u001b[49m)\n",
      "File \u001b[1;32mc:\\Users\\Tjalfe\\anaconda3\\envs\\masters\\lib\\site-packages\\pfl\\stats.py:322\u001b[0m, in \u001b[0;36mMappedVectorStatistics.values\u001b[1;34m(self)\u001b[0m\n\u001b[0;32m    321\u001b[0m \u001b[38;5;28;01mdef\u001b[39;00m \u001b[38;5;21mvalues\u001b[39m(\u001b[38;5;28mself\u001b[39m):\n\u001b[1;32m--> 322\u001b[0m     \u001b[38;5;28;01mreturn\u001b[39;00m \u001b[38;5;28;43mself\u001b[39;49m\u001b[38;5;241;43m.\u001b[39;49m\u001b[43m_data\u001b[49m\u001b[38;5;241;43m.\u001b[39;49m\u001b[43mvalues\u001b[49m()\n",
      "\u001b[1;31mAttributeError\u001b[0m: 'zip' object has no attribute 'values'"
     ]
    }
   ],
   "source": [
    "# Parameters\n",
    "local_dp_clipping_bound = 0.5\n",
    "local_dp_noise_multiplier = 38.1226\n",
    "local_dp_training_name = \"local_dp_training\"\n",
    "\n",
    "# Run the shit\n",
    "custom_local_dp = CustomLocalDPMechanism(\n",
    "    clipping_bound=local_dp_clipping_bound,\n",
    "    noise_multiplier=local_dp_noise_multiplier,\n",
    "    epsilon=epsilon,\n",
    "    delta=delta,\n",
    ")\n",
    "\n",
    "# Run the actual shit\n",
    "run_local_dp_experiment(\n",
    "    no_of_training=no_of_training,\n",
    "    training_name=local_dp_training_name,\n",
    "    n_clients=n_clients,\n",
    "    user_dataset_size=user_dataset_size,\n",
    "    postprocessors=[custom_local_dp],\n",
    "    is_random_dataset=True,\n",
    ")"
   ]
  },
  {
   "cell_type": "code",
   "execution_count": null,
   "metadata": {},
   "outputs": [],
   "source": [
    "# Define Gaussian DP mechanisms for central DP guarantees using three different methods\n",
    "\n",
    "n_clients = 8                                  # Number of clients\n",
    "n_samples = 1000           # Number of training samples\n",
    "user_dataset_size = int(n_samples / n_clients) # Size of each user's dataset\n",
    "clipping_bound = 0.5                           # Clipping bound for DP\n",
    "epsilon = 1                                    # Epsilon parameter for DP\n",
    "delta = 1e-8                                   # Delta parameter for DP\n",
    "is_central = True                              # Probably delete this line in the future, as it is not used anywhere else in the code.\n",
    "\n",
    "# Other parameters for the training process\n",
    "\n",
    "local_learning_rate = 0.001                    # Learning rate for local training\n",
    "local_num_epochs = 4                           # Number of local epochs for each client\n",
    "local_batch_size = 32                          # Batch size for local training\n",
    "central_num_iterations = 50                    # Number of central iterations\n",
    "evaluation_frequency = 1                       # How often to evaluate the model (in terms of central iterations)\n",
    "cohort_size = 8                                # Number of clients in the cohort\n",
    "sampling_probability = cohort_size / n_clients # Probability of a client being selected as cohort for a given iteration: cohort_size / n_clients\n",
    "\n",
    "# Choose the number of FL training instances\n",
    "no_of_training : int = 5\n",
    "\n",
    "# Choose a name for the training metrics file\n",
    "training_name = \"pfl_centralized_fixed_metrics_test\""
   ]
  },
  {
   "cell_type": "code",
   "execution_count": null,
   "metadata": {},
   "outputs": [
    {
     "name": "stdout",
     "output_type": "stream",
     "text": [
      "Starting privacy analysis using PFL's built-in tools...\n",
      "--- Calculating Noise for Epsilon = 1.0 ---\n",
      "To achieve Epsilon = 1.00 (with Delta = 1e-08),\n",
      "Set 'local_dp_noise_multiplier' to: 38.1226\n",
      "----------------------------------------\n",
      "--- Calculating Noise for Epsilon = 2.0 ---\n",
      "To achieve Epsilon = 2.00 (with Delta = 1e-08),\n",
      "Set 'local_dp_noise_multiplier' to: 19.7784\n",
      "----------------------------------------\n",
      "--- Calculating Noise for Epsilon = 4.0 ---\n",
      "To achieve Epsilon = 4.00 (with Delta = 1e-08),\n",
      "Set 'local_dp_noise_multiplier' to: 10.3676\n",
      "----------------------------------------\n",
      "--- Calculating Noise for Epsilon = 6.0 ---\n",
      "To achieve Epsilon = 6.00 (with Delta = 1e-08),\n",
      "Set 'local_dp_noise_multiplier' to: 7.1629\n",
      "----------------------------------------\n",
      "--- Calculating Noise for Epsilon = 8.0 ---\n",
      "To achieve Epsilon = 8.00 (with Delta = 1e-08),\n",
      "Set 'local_dp_noise_multiplier' to: 5.5363\n",
      "----------------------------------------\n",
      "\n",
      "--- Summary of Noise Multipliers ---\n",
      "For Epsilon = 1.0, use noise_multiplier = 38.1226\n",
      "For Epsilon = 2.0, use noise_multiplier = 19.7784\n",
      "For Epsilon = 4.0, use noise_multiplier = 10.3676\n",
      "For Epsilon = 6.0, use noise_multiplier = 7.1629\n",
      "For Epsilon = 8.0, use noise_multiplier = 5.5363\n"
     ]
    }
   ],
   "source": [
    "# --- PFL-Native Privacy Analysis Cell ---\n",
    "# This cell uses the built-in pfl privacy tools to calculate the\n",
    "# required noise multiplier for a given target epsilon. This is the\n",
    "# correct, robust way to do this within the pfl framework.\n",
    "\n",
    "from pfl.privacy import RDPPrivacyAccountant, GaussianMechanism\n",
    "\n",
    "def find_noise_multiplier_for_target_epsilon(target_epsilon, target_delta,\n",
    "                                             num_compositions, sampling_probability,\n",
    "                                             clipping_bound):\n",
    "    \"\"\"\n",
    "    Calculates the required noise multiplier to achieve a target privacy budget.\n",
    "    \"\"\"\n",
    "    print(f\"--- Calculating Noise for Epsilon = {target_epsilon} ---\")\n",
    "    \n",
    "    # 1. Create the privacy accountant with our target budget.\n",
    "    rdp_accountant = RDPPrivacyAccountant(\n",
    "        num_compositions=num_compositions,\n",
    "        sampling_probability=sampling_probability,\n",
    "        mechanism='gaussian',\n",
    "        epsilon=target_epsilon,\n",
    "        delta=target_delta\n",
    "    )\n",
    "    \n",
    "    # 2. Create a Gaussian mechanism from this accountant.\n",
    "    #    pfl automatically calculates the required noise.\n",
    "    rdp_gaussian_noise_mechanism = GaussianMechanism.from_privacy_accountant(\n",
    "        accountant=rdp_accountant, clipping_bound=clipping_bound)\n",
    "    \n",
    "    # 3. The noise multiplier is stored in the `relative_noise_stddev` property.\n",
    "    noise_multiplier = rdp_gaussian_noise_mechanism.relative_noise_stddev\n",
    "    \n",
    "    print(f\"To achieve Epsilon = {target_epsilon:.2f} (with Delta = {target_delta}),\")\n",
    "    print(f\"Set 'local_dp_noise_multiplier' to: {noise_multiplier:.4f}\")\n",
    "    print(\"-\" * 40)\n",
    "    \n",
    "    return noise_multiplier\n",
    "\n",
    "# --- Run the analysis for your target epsilons ---\n",
    "# Make sure the variables `delta`, `central_num_iterations`, \n",
    "# `sampling_probability`, and `clipping_bound` are defined in a previous cell.\n",
    "\n",
    "print(\"Starting privacy analysis using PFL's built-in tools...\")\n",
    "\n",
    "# Define target epsilons\n",
    "target_epsilons = [1.0, 2.0, 4.0, 6.0, 8.0]\n",
    "noise_multipliers = {}\n",
    "\n",
    "for eps in target_epsilons:\n",
    "    noise = find_noise_multiplier_for_target_epsilon(\n",
    "        target_epsilon=eps,\n",
    "        target_delta=delta,\n",
    "        num_compositions=central_num_iterations,\n",
    "        sampling_probability=sampling_probability,\n",
    "        clipping_bound=clipping_bound\n",
    "    )\n",
    "    noise_multipliers[eps] = noise\n",
    "\n",
    "print(\"\\n--- Summary of Noise Multipliers ---\")\n",
    "for eps, noise in noise_multipliers.items():\n",
    "    print(f\"For Epsilon = {eps}, use noise_multiplier = {noise:.4f}\")"
   ]
  }
 ],
 "metadata": {
  "kernelspec": {
   "display_name": "masters",
   "language": "python",
   "name": "python3"
  },
  "language_info": {
   "codemirror_mode": {
    "name": "ipython",
    "version": 3
   },
   "file_extension": ".py",
   "mimetype": "text/x-python",
   "name": "python",
   "nbconvert_exporter": "python",
   "pygments_lexer": "ipython3",
   "version": "3.10.16"
  }
 },
 "nbformat": 4,
 "nbformat_minor": 2
}
